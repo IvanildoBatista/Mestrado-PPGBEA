{
 "cells": [
  {
   "cell_type": "markdown",
   "metadata": {
    "id": "yFiWXlmEPvtf"
   },
   "source": [
    "# Linguagem *Python* e suas aplicações"
   ]
  },
  {
   "cell_type": "code",
   "execution_count": 2,
   "metadata": {},
   "outputs": [
    {
     "data": {
      "image/png": "[encoded data removed]",
      "text/plain": [
       "<IPython.core.display.Image object>"
      ]
     },
     "execution_count": 2,
     "metadata": {},
     "output_type": "execute_result"
    }
   ],
   "source": [
    "Image(filename='python_imagem.png')"
   ]
  },
  {
   "cell_type": "markdown",
   "metadata": {},
   "source": [
    "## Sobre a linguagem\n",
    "\n",
    "A linguagem *python* de alto nível (sintaxe é voltada para o entendimento humano) criada em 1991, por *Guido van Rossum*, que deu o nome a linguagem em homenagem ao grupo humorístico *Monty Python*. Atualmente a linguagem é gerenciada pela *Python Software Foundation* e possui um modelo de desenvolvimento comunitário e aberto; além disso é ela é multiparadigma, permitindo que possua várias funcionalidades e aplicações, como:\n",
    "\n",
    "1 - Desenvolvimento *Web*\n",
    "\n",
    "2 - Desenvolvimento de jogos;\n",
    "\n",
    "3 - *Scripting* (automatizar tarefas com poucas linhas de código);\n",
    "\n",
    "4 - *Data Science*."
   ]
  },
  {
   "cell_type": "markdown",
   "metadata": {},
   "source": [
    "## Operadores aritméticos\n",
    "\n",
    "Operadores usados para expressões matemáticas.\n",
    "\n",
    "**OPERADOR**  | **DESCRIÇÃO**|\n",
    "------------- | -------------|\n",
    "+  | Adição|\n",
    "-  | Subtração|\n",
    "*  | Multiplicação|\n",
    "/  | Divisão|\n",
    "//  | Divisão considerando a parte inteira|\n",
    "**  | Potenciação|\n",
    "\n",
    "Exemplos:"
   ]
  },
  {
   "cell_type": "code",
   "execution_count": 4,
   "metadata": {
    "colab": {
     "base_uri": "https://localhost:8080/"
    },
    "id": "Kf6rTrxl-OTv",
    "outputId": "b7069d42-c7aa-4cf6-c0e2-1bdef60100b0"
   },
   "outputs": [
    {
     "name": "stdout",
     "output_type": "stream",
     "text": [
      "Adição : 11\n",
      "Subtração : 2\n",
      "Multiplicação : 300\n",
      "Divisão : 3.3333333333333335\n",
      "Divisão considerando a parte inteira : 3\n",
      "Resto de uma divisão : 2\n",
      "Potenciação : 25\n"
     ]
    }
   ],
   "source": [
    "print('Adição :', 5+6)\n",
    "print('Subtração :', 7-5)\n",
    "print('Multiplicação :', 10*30)\n",
    "print('Divisão :', 20/6)\n",
    "print('Divisão considerando a parte inteira :', 20//6)\n",
    "print('Resto de uma divisão :', 20%6)\n",
    "print('Potenciação :', 5**2)"
   ]
  },
  {
   "cell_type": "markdown",
   "metadata": {
    "id": "XlNaLQcqTLQm"
   },
   "source": [
    "## Operadores em lógicos\n",
    "\n",
    "São operadores que, quando aplicados, resultam em um valor `Verdadeiro` ou `Falso.`\n",
    "\n",
    "**OPERADOR**  | **DESCRIÇÃO**\n",
    "------------- | -------------\n",
    "and | \"e\" lógico\n",
    "or  | \"ou\" lógico\n",
    "not  | \"não\" lógico"
   ]
  },
  {
   "cell_type": "code",
   "execution_count": 5,
   "metadata": {
    "colab": {
     "base_uri": "https://localhost:8080/"
    },
    "id": "YsWijEi7cs_D",
    "outputId": "35096cb6-ca2c-4740-cf74-a39bfb555de0"
   },
   "outputs": [
    {
     "name": "stdout",
     "output_type": "stream",
     "text": [
      "Operador AND\n",
      "True\n",
      "False\n",
      "False\n",
      "False\n",
      "\n",
      "Operador OR\n",
      "True\n",
      "False\n",
      "True\n",
      "True\n",
      "\n",
      "Operador NOT\n",
      "False\n",
      "True\n"
     ]
    }
   ],
   "source": [
    "print('Operador AND')\n",
    "print(True and True)\n",
    "print(False and False)\n",
    "print(True and False)\n",
    "print(False and True)\n",
    "\n",
    "print(''*254)\n",
    "print('Operador OR')\n",
    "print(True or True)\n",
    "print(False or False)\n",
    "print(True or False)\n",
    "print(False or True)\n",
    "\n",
    "print(''*254)\n",
    "print('Operador NOT')\n",
    "print(not True)\n",
    "print(not False)"
   ]
  },
  {
   "cell_type": "markdown",
   "metadata": {
    "id": "2VZ6yi1zgAc4"
   },
   "source": [
    "## Operadores relacionais\n",
    "\n",
    "Usados para comparar resultados.\n",
    "\n",
    "**OPERADOR**  | **DESCRIÇÃO**\n",
    "------------- | -------------\n",
    "== | se os valores são iguais\n",
    "!=  | se os valores são diferentes\n",
    ">  | se *a* é maior que *b*\n",
    "<  | se *a* é menor que *b*\n",
    "=>  | se *a* é maior igual a *b*\n",
    "<=  | se *a* é menor igual a *b*\n",
    "\n",
    "Irá retornar `True` ou `False`."
   ]
  },
  {
   "cell_type": "code",
   "execution_count": 6,
   "metadata": {
    "colab": {
     "base_uri": "https://localhost:8080/"
    },
    "id": "Dwd1ZQZzctEM",
    "outputId": "3cde8bf7-dd97-4b7e-cca2-9e557b5ca310"
   },
   "outputs": [
    {
     "name": "stdout",
     "output_type": "stream",
     "text": [
      "A é igual a B : False\n",
      "A é diferente de B : True\n",
      "A é maior que B : True\n",
      "A é menor que B : False\n",
      "A é maior igual a B : True\n",
      "A é menor igual a B : False\n"
     ]
    }
   ],
   "source": [
    "#atribuindo valores as variáveis\n",
    "#'=' é o operador de atribuição\n",
    "a=5\n",
    "b=2\n",
    "\n",
    "#aplicando os operadores relacionais\n",
    "print('A é igual a B :',a==b)\n",
    "print('A é diferente de B :',a!=b)\n",
    "print('A é maior que B :',a>b)\n",
    "print('A é menor que B :',a<b)\n",
    "print('A é maior igual a B :',a>=b)\n",
    "print('A é menor igual a B :',a<=b)"
   ]
  },
  {
   "cell_type": "markdown",
   "metadata": {
    "id": "aiwvd-bSin5W"
   },
   "source": [
    "## Principais estruturas de dados\n",
    "\n",
    "1 - Listas\n",
    "\n",
    "2 - Tuplas\n",
    "\n",
    "3 - Conjuntos\n",
    "\n",
    "4 - Dicionários\n",
    "\n",
    "5 - Matrizes\n",
    "\n",
    "6 - *Dataframes*"
   ]
  },
  {
   "cell_type": "markdown",
   "metadata": {
    "id": "rbQKGU0CiqvR"
   },
   "source": [
    "### Listas\n",
    "\n",
    "É a estrutura de dados mais básica do *Python* e armazena os dados em sequência, onde cada elemento possui sua posição na lista."
   ]
  },
  {
   "cell_type": "code",
   "execution_count": 7,
   "metadata": {
    "colab": {
     "base_uri": "https://localhost:8080/"
    },
    "id": "HG2zGGEfTD3i",
    "outputId": "05b5fd26-2b9f-4493-f599-b759cc30de84"
   },
   "outputs": [
    {
     "data": {
      "text/plain": [
       "[1, 2, 3, 4, 5, 6, 7, 8, 9, 10]"
      ]
     },
     "execution_count": 7,
     "metadata": {},
     "output_type": "execute_result"
    }
   ],
   "source": [
    "#criando uma lista\n",
    "lista = [1,2,3,4,5,6,7,8,9,10]\n",
    "lista"
   ]
  },
  {
   "cell_type": "code",
   "execution_count": 8,
   "metadata": {
    "colab": {
     "base_uri": "https://localhost:8080/"
    },
    "id": "auiXUtfZjtzn",
    "outputId": "f0feb347-220c-48be-a3ec-2ed7e8f7821e"
   },
   "outputs": [
    {
     "data": {
      "text/plain": [
       "[0, 1, 2, 3, 4, 5, 6, 7, 8, 9, 10, 11, 12, 13, 14, 15, 16, 17, 18, 19, 20]"
      ]
     },
     "execution_count": 8,
     "metadata": {},
     "output_type": "execute_result"
    }
   ],
   "source": [
    "#criando uma lista com a função list()\n",
    "lista2 = list(range(0,21))\n",
    "lista2"
   ]
  },
  {
   "cell_type": "code",
   "execution_count": 9,
   "metadata": {
    "colab": {
     "base_uri": "https://localhost:8080/"
    },
    "id": "g3GxqQWMkHrq",
    "outputId": "9bc86ee9-8c4b-4d79-9e6a-ab8e059f8592"
   },
   "outputs": [
    {
     "data": {
      "text/plain": [
       "[1, 2, 3, 4, 5, 6, 7, 8, 9, 10, 11]"
      ]
     },
     "execution_count": 9,
     "metadata": {},
     "output_type": "execute_result"
    }
   ],
   "source": [
    "#adicionando elementos a uma lista\n",
    "lista.append(11)\n",
    "lista"
   ]
  },
  {
   "cell_type": "markdown",
   "metadata": {},
   "source": [
    "*slicing* de uma lista"
   ]
  },
  {
   "cell_type": "code",
   "execution_count": 10,
   "metadata": {},
   "outputs": [
    {
     "data": {
      "text/plain": [
       "[1, 2, 3, 4]"
      ]
     },
     "execution_count": 10,
     "metadata": {},
     "output_type": "execute_result"
    }
   ],
   "source": [
    "#buscando do primeiro ao terceiro valor\n",
    "lista[0:4]"
   ]
  },
  {
   "cell_type": "code",
   "execution_count": 11,
   "metadata": {},
   "outputs": [
    {
     "data": {
      "text/plain": [
       "list"
      ]
     },
     "execution_count": 11,
     "metadata": {},
     "output_type": "execute_result"
    }
   ],
   "source": [
    "type(lista)"
   ]
  },
  {
   "cell_type": "markdown",
   "metadata": {
    "id": "DtPeDphJjpB1"
   },
   "source": [
    "### Tuplas\n",
    "\n",
    "bastante similar a uma lista, com apenas uma diferença: os elementos inseridos em uma tupla não podem ser alterados."
   ]
  },
  {
   "cell_type": "code",
   "execution_count": 12,
   "metadata": {
    "colab": {
     "base_uri": "https://localhost:8080/"
    },
    "id": "ZSCtBRJITD5T",
    "outputId": "d538e87b-6367-45fb-ce4d-f3b93d92c336"
   },
   "outputs": [
    {
     "data": {
      "text/plain": [
       "(1, 2, 3, 4, 5, 6, 7, 8, 9, 10)"
      ]
     },
     "execution_count": 12,
     "metadata": {},
     "output_type": "execute_result"
    }
   ],
   "source": [
    "#criando uma tupla\n",
    "tupla = (1,2,3,4,5,6,7,8,9,10)\n",
    "tupla"
   ]
  },
  {
   "cell_type": "code",
   "execution_count": 13,
   "metadata": {
    "colab": {
     "base_uri": "https://localhost:8080/"
    },
    "id": "J3lyhLbjTD7J",
    "outputId": "c11555d0-5d3a-4d5a-d9b3-f530900e4915"
   },
   "outputs": [
    {
     "data": {
      "text/plain": [
       "(1, 2, 3, 4, 5, 6, 7, 8, 9, 10)"
      ]
     },
     "execution_count": 13,
     "metadata": {},
     "output_type": "execute_result"
    }
   ],
   "source": [
    "#criando uma tupla com a função tuple()\n",
    "tupla2 = tuple(range(1,11))\n",
    "tupla2"
   ]
  },
  {
   "cell_type": "code",
   "execution_count": 14,
   "metadata": {
    "colab": {
     "base_uri": "https://localhost:8080/",
     "height": 185
    },
    "id": "mdVsrkZBTD9C",
    "outputId": "699b833f-1f49-40d5-ec60-1246ba4d72da"
   },
   "outputs": [
    {
     "ename": "AttributeError",
     "evalue": "'tuple' object has no attribute 'append'",
     "output_type": "error",
     "traceback": [
      "\u001b[1;31m---------------------------------------------------------------------------\u001b[0m",
      "\u001b[1;31mAttributeError\u001b[0m                            Traceback (most recent call last)",
      "\u001b[1;32m<ipython-input-14-21634c7dd11c>\u001b[0m in \u001b[0;36m<module>\u001b[1;34m\u001b[0m\n\u001b[0;32m      1\u001b[0m \u001b[1;31m#adicionando um valor a tupla\u001b[0m\u001b[1;33m\u001b[0m\u001b[1;33m\u001b[0m\u001b[1;33m\u001b[0m\u001b[0m\n\u001b[1;32m----> 2\u001b[1;33m \u001b[0mtupla\u001b[0m\u001b[1;33m.\u001b[0m\u001b[0mappend\u001b[0m\u001b[1;33m(\u001b[0m\u001b[1;36m6\u001b[0m\u001b[1;33m)\u001b[0m\u001b[1;33m\u001b[0m\u001b[1;33m\u001b[0m\u001b[0m\n\u001b[0m\u001b[0;32m      3\u001b[0m \u001b[0mtupla\u001b[0m\u001b[1;33m\u001b[0m\u001b[1;33m\u001b[0m\u001b[0m\n",
      "\u001b[1;31mAttributeError\u001b[0m: 'tuple' object has no attribute 'append'"
     ]
    }
   ],
   "source": [
    "#adicionando um valor a tupla\n",
    "tupla.append(6)\n",
    "tupla"
   ]
  },
  {
   "cell_type": "code",
   "execution_count": 15,
   "metadata": {},
   "outputs": [
    {
     "data": {
      "text/plain": [
       "tuple"
      ]
     },
     "execution_count": 15,
     "metadata": {},
     "output_type": "execute_result"
    }
   ],
   "source": [
    "type(tupla)"
   ]
  },
  {
   "cell_type": "markdown",
   "metadata": {
    "id": "w4NQ43O2ll9V"
   },
   "source": [
    "### Conjuntos ou *Sets*\n",
    "\n",
    "Coleção de elemento que não se repetem."
   ]
  },
  {
   "cell_type": "code",
   "execution_count": 16,
   "metadata": {
    "colab": {
     "base_uri": "https://localhost:8080/"
    },
    "id": "NHbP7TJSlLFC",
    "outputId": "ca6c76ca-5a92-42c1-bcde-f1bc1c02071f"
   },
   "outputs": [
    {
     "data": {
      "text/plain": [
       "{1, 2, 3, 4, 5, 6, 7, 8, 9, 10, 11}"
      ]
     },
     "execution_count": 16,
     "metadata": {},
     "output_type": "execute_result"
    }
   ],
   "source": [
    "set1 = set(lista)\n",
    "set1"
   ]
  },
  {
   "cell_type": "code",
   "execution_count": 17,
   "metadata": {
    "colab": {
     "base_uri": "https://localhost:8080/"
    },
    "id": "YscV7qQMTD_Q",
    "outputId": "e7b30f50-d151-4b72-a104-1c5d6ea014c3"
   },
   "outputs": [
    {
     "data": {
      "text/plain": [
       "{0, 1, 2, 3, 4, 5, 6, 7, 8, 9, 10, 11, 12, 13, 14, 15, 16, 17, 18, 19, 20}"
      ]
     },
     "execution_count": 17,
     "metadata": {},
     "output_type": "execute_result"
    }
   ],
   "source": [
    "set2 = set(lista2)\n",
    "set2"
   ]
  },
  {
   "cell_type": "markdown",
   "metadata": {},
   "source": [
    "Operações com conjuntos"
   ]
  },
  {
   "cell_type": "code",
   "execution_count": 18,
   "metadata": {
    "colab": {
     "base_uri": "https://localhost:8080/"
    },
    "id": "DFZ_JiTnnv0q",
    "outputId": "ec8b2bd9-286c-46cb-a46c-c8fbb5dfef5e"
   },
   "outputs": [
    {
     "name": "stdout",
     "output_type": "stream",
     "text": [
      "União de conjuntos : {0, 1, 2, 3, 4, 5, 6, 7, 8, 9, 10, 11, 12, 13, 14, 15, 16, 17, 18, 19, 20}\n",
      "Interseção de conjuntos : {1, 2, 3, 4, 5, 6, 7, 8, 9, 10, 11}\n"
     ]
    }
   ],
   "source": [
    "print('União de conjuntos :',set1.union(set2))\n",
    "print('Interseção de conjuntos :',set1.intersection(set2))"
   ]
  },
  {
   "cell_type": "code",
   "execution_count": 19,
   "metadata": {
    "colab": {
     "base_uri": "https://localhost:8080/"
    },
    "id": "vpxIK8Ayn9wB",
    "outputId": "d0c147eb-feed-4fac-e433-522c154eb380"
   },
   "outputs": [
    {
     "data": {
      "text/plain": [
       "{0, 1, 2, 3, 4, 5, 6, 7, 8, 9, 10, 11, 12, 13, 14, 15, 16, 17, 18, 19, 20}"
      ]
     },
     "execution_count": 19,
     "metadata": {},
     "output_type": "execute_result"
    }
   ],
   "source": [
    "set2.add(5)\n",
    "set2"
   ]
  },
  {
   "cell_type": "code",
   "execution_count": 20,
   "metadata": {},
   "outputs": [
    {
     "data": {
      "text/plain": [
       "set"
      ]
     },
     "execution_count": 20,
     "metadata": {},
     "output_type": "execute_result"
    }
   ],
   "source": [
    "type(set1)"
   ]
  },
  {
   "cell_type": "markdown",
   "metadata": {
    "id": "mAD9dSSangqU"
   },
   "source": [
    "### Dicionário\n",
    "\n",
    "É uma estrutura de dados que relaciona uma chave com um valor."
   ]
  },
  {
   "cell_type": "code",
   "execution_count": 21,
   "metadata": {
    "id": "fKf_8gbVnfuz"
   },
   "outputs": [
    {
     "data": {
      "text/plain": [
       "{'Ivanildo': '3456-4478',\n",
       " 'Jaine': '3692-5100',\n",
       " 'Gleyce': '3756-9985',\n",
       " 'Taciana': '3782-4100'}"
      ]
     },
     "execution_count": 21,
     "metadata": {},
     "output_type": "execute_result"
    }
   ],
   "source": [
    "contato = {'Ivanildo':'3456-4478', 'Jaine':'3692-5100', 'Gleyce':'3756-9985','Taciana':'3782-4100'}\n",
    "contato"
   ]
  },
  {
   "cell_type": "code",
   "execution_count": 22,
   "metadata": {
    "id": "J4pIb2bDnf-3"
   },
   "outputs": [
    {
     "data": {
      "text/plain": [
       "{'Ivanildo': '3456-4478',\n",
       " 'Jaine': '3692-5100',\n",
       " 'Gleyce': '3756-9985',\n",
       " 'Taciana': '3782-4100',\n",
       " 'Paulo': '8877-6388'}"
      ]
     },
     "execution_count": 22,
     "metadata": {},
     "output_type": "execute_result"
    }
   ],
   "source": [
    "contato['Paulo']='8877-6388'\n",
    "contato"
   ]
  },
  {
   "cell_type": "code",
   "execution_count": 23,
   "metadata": {},
   "outputs": [
    {
     "data": {
      "text/plain": [
       "'8877-6388'"
      ]
     },
     "execution_count": 23,
     "metadata": {},
     "output_type": "execute_result"
    }
   ],
   "source": [
    "contato['Paulo']"
   ]
  },
  {
   "cell_type": "code",
   "execution_count": 24,
   "metadata": {},
   "outputs": [
    {
     "data": {
      "text/plain": [
       "{'Ivanildo': '3456-4478',\n",
       " 'Jaine': '3692-5100',\n",
       " 'Gleyce': '3756-9985',\n",
       " 'Taciana': '3782-4100'}"
      ]
     },
     "execution_count": 24,
     "metadata": {},
     "output_type": "execute_result"
    }
   ],
   "source": [
    "dict({'Ivanildo':'3456-4478', 'Jaine':'3692-5100', 'Gleyce':'3756-9985','Taciana':'3782-4100'})"
   ]
  },
  {
   "cell_type": "code",
   "execution_count": 25,
   "metadata": {},
   "outputs": [
    {
     "data": {
      "text/plain": [
       "dict"
      ]
     },
     "execution_count": 25,
     "metadata": {},
     "output_type": "execute_result"
    }
   ],
   "source": [
    "type(contato)"
   ]
  },
  {
   "cell_type": "markdown",
   "metadata": {},
   "source": [
    "## Estruturas de repetição\n",
    "\n",
    "### IF \n",
    "\n",
    "Condicional."
   ]
  },
  {
   "cell_type": "code",
   "execution_count": 26,
   "metadata": {
    "scrolled": true
   },
   "outputs": [
    {
     "name": "stdout",
     "output_type": "stream",
     "text": [
      "Maior de idade\n"
     ]
    }
   ],
   "source": [
    "idade = 18\n",
    "\n",
    "if idade ==18:\n",
    "    print('Maior de idade')"
   ]
  },
  {
   "cell_type": "markdown",
   "metadata": {},
   "source": [
    "### ELIF\n",
    "\n",
    "Para mais de uma condicional. Caos a primeira condição não seja atendida, o valor segue para verificação da próxima condição."
   ]
  },
  {
   "cell_type": "code",
   "execution_count": 27,
   "metadata": {},
   "outputs": [
    {
     "name": "stdout",
     "output_type": "stream",
     "text": [
      "O aluno reprovou a cadeira\n"
     ]
    }
   ],
   "source": [
    "nota = 1\n",
    "\n",
    "if nota >=7:\n",
    "    print('O aluno passou na cadeira')\n",
    "elif nota <7:\n",
    "    print('O aluno reprovou a cadeira')"
   ]
  },
  {
   "cell_type": "markdown",
   "metadata": {},
   "source": [
    "### ELSE\n",
    "\n",
    "Equivalente ao \"caso contrário\"."
   ]
  },
  {
   "cell_type": "code",
   "execution_count": 29,
   "metadata": {},
   "outputs": [
    {
     "name": "stdout",
     "output_type": "stream",
     "text": [
      "O aluno reprovou\n"
     ]
    }
   ],
   "source": [
    "nota = 4\n",
    "\n",
    "if nota >=6:\n",
    "    print('O aluno passou na cadeira')\n",
    "elif nota >5 and nota <6:\n",
    "    print('O aluno está em recuperação')\n",
    "else:\n",
    "    print('O aluno reprovou')"
   ]
  },
  {
   "cell_type": "markdown",
   "metadata": {},
   "source": [
    "### WHILE\n",
    "\n",
    "Equivalente a \"Enquanto\"."
   ]
  },
  {
   "cell_type": "code",
   "execution_count": 32,
   "metadata": {},
   "outputs": [
    {
     "name": "stdout",
     "output_type": "stream",
     "text": [
      "0\n",
      "1\n",
      "2\n",
      "3\n",
      "4\n",
      "5\n",
      "6\n",
      "7\n",
      "8\n",
      "9\n",
      "10\n",
      "11\n",
      "12\n",
      "13\n",
      "14\n",
      "15\n",
      "16\n",
      "17\n",
      "18\n",
      "19\n"
     ]
    }
   ],
   "source": [
    "x= 0\n",
    "y= 20\n",
    "while x<y:\n",
    "    print(x)\n",
    "    x+=1\n",
    "    #x=x+1"
   ]
  },
  {
   "cell_type": "markdown",
   "metadata": {},
   "source": [
    "### FOR"
   ]
  },
  {
   "cell_type": "code",
   "execution_count": 34,
   "metadata": {},
   "outputs": [
    {
     "name": "stdout",
     "output_type": "stream",
     "text": [
      "Maçã\n",
      "Banana\n",
      "Melão\n",
      "Melancia\n",
      "Abacate\n",
      "Tangerina\n"
     ]
    }
   ],
   "source": [
    "lista = list(range(1,100))\n",
    "lista2=['Maçã','Banana','Melão','Melancia','Abacate','Tangerina']\n",
    "\n",
    "for i in lista2:\n",
    "    print(i)"
   ]
  },
  {
   "cell_type": "code",
   "execution_count": 35,
   "metadata": {},
   "outputs": [
    {
     "name": "stdout",
     "output_type": "stream",
     "text": [
      "1 Maçã João\n",
      "2 Banana Maria\n",
      "3 Melão Eduardo\n",
      "4 Melancia Leandro\n",
      "5 Abacate Carla\n",
      "6 Tangerina Gil\n"
     ]
    }
   ],
   "source": [
    "lista = list(range(1,7))\n",
    "lista2=['Maçã','Banana','Melão','Melancia','Abacate','Tangerina']\n",
    "lista3 = ['João','Maria','Eduardo','Leandro','Carla','Gil']\n",
    "\n",
    "for i,j,l in zip(lista,lista2,lista3):\n",
    "    print(i,j,l)"
   ]
  },
  {
   "cell_type": "markdown",
   "metadata": {},
   "source": [
    "## Bibliotecas para análise de dados\n",
    "\n",
    "1) **Numpy** (processamento de vetores e matrizes)\n",
    "\n",
    "2) **Pandas** (Manipulação de bases de dados)\n",
    "\n",
    "3) **Matplotlib** (Visualização de dados)\n",
    "\n",
    "4) **Seaborn** (Visualização de dados)"
   ]
  },
  {
   "cell_type": "code",
   "execution_count": 1,
   "metadata": {},
   "outputs": [],
   "source": [
    "#biblioteca para operações com arrays e atrizes\n",
    "import numpy as np\n",
    "\n",
    "#manipulação de dados (funciona como um excel do python)\n",
    "import pandas as pd\n",
    "\n",
    "#biblioteca para visualização de dados\n",
    "import matplotlib.pyplot as plt\n",
    "import seaborn as sns\n",
    "\n",
    "#inserir imagens no jupyter notebook\n",
    "from IPython.display import Image\n",
    "\n",
    "plt.style.use('ggplot')"
   ]
  },
  {
   "cell_type": "markdown",
   "metadata": {
    "id": "3lt1XDGTnlre"
   },
   "source": [
    "### Matrizes"
   ]
  },
  {
   "cell_type": "code",
   "execution_count": 36,
   "metadata": {
    "id": "dmZr0xP2njYs"
   },
   "outputs": [
    {
     "data": {
      "text/plain": [
       "array([[ 1,  2,  3],\n",
       "       [ 4,  5,  6],\n",
       "       [ 7,  8,  9],\n",
       "       [10, 11, 12]])"
      ]
     },
     "execution_count": 36,
     "metadata": {},
     "output_type": "execute_result"
    }
   ],
   "source": [
    "#criando uma matriz\n",
    "lista3 = [[1,2,3],[4,5,6],[7,8,9],[10,11,12]]\n",
    "\n",
    "#atribuindo a matriz a uma variável\n",
    "matriz = np.array(lista3)\n",
    "\n",
    "matriz"
   ]
  },
  {
   "cell_type": "code",
   "execution_count": 37,
   "metadata": {},
   "outputs": [
    {
     "data": {
      "text/plain": [
       "array([ 3,  6,  9, 12, 15, 18])"
      ]
     },
     "execution_count": 37,
     "metadata": {},
     "output_type": "execute_result"
    }
   ],
   "source": [
    "np.multiply(lista,3)"
   ]
  },
  {
   "cell_type": "code",
   "execution_count": 38,
   "metadata": {
    "id": "q8Q0Ixynnm5N"
   },
   "outputs": [
    {
     "data": {
      "text/plain": [
       "array([[  1,   4,   9],\n",
       "       [ 16,  25,  36],\n",
       "       [ 49,  64,  81],\n",
       "       [100, 121, 144]])"
      ]
     },
     "execution_count": 38,
     "metadata": {},
     "output_type": "execute_result"
    }
   ],
   "source": [
    "np.multiply(matriz,matriz)"
   ]
  },
  {
   "cell_type": "code",
   "execution_count": 39,
   "metadata": {
    "id": "OoFTLEsynmzQ"
   },
   "outputs": [
    {
     "data": {
      "text/plain": [
       "(4, 3)"
      ]
     },
     "execution_count": 39,
     "metadata": {},
     "output_type": "execute_result"
    }
   ],
   "source": [
    "matriz.shape"
   ]
  },
  {
   "cell_type": "code",
   "execution_count": 40,
   "metadata": {
    "id": "HMAIaHkVnm1g"
   },
   "outputs": [
    {
     "data": {
      "text/plain": [
       "array([ 1,  3,  6, 10, 15, 21, 28, 36, 45, 55, 66, 78], dtype=int32)"
      ]
     },
     "execution_count": 40,
     "metadata": {},
     "output_type": "execute_result"
    }
   ],
   "source": [
    "#usar a tecla tab para ver todas as funcionalidades\n",
    "matriz.cumsum()"
   ]
  },
  {
   "cell_type": "markdown",
   "metadata": {
    "id": "vR4f7MpjnnOn"
   },
   "source": [
    "### Dataframes"
   ]
  },
  {
   "cell_type": "code",
   "execution_count": 41,
   "metadata": {
    "id": "ZHdzqh-ungBA"
   },
   "outputs": [],
   "source": [
    "data = {'Idade':[20,23,25,26,28,29,40,51,77,22,21,24,28,28,52],\n",
    "        'Renda':[1000,1200,1358,1459,1202,2300,850,1780,2500,1233,1400,2600,1100,1000,1256],\n",
    "        'Estado':['PE','PE','BA','PI','PE','PB','PB','SC','PR','PR','SP','PE','PI','MT','MS']}"
   ]
  },
  {
   "cell_type": "code",
   "execution_count": 42,
   "metadata": {
    "id": "YD7oum4xngDG"
   },
   "outputs": [
    {
     "data": {
      "text/html": [
       "<div>\n",
       "<style scoped>\n",
       "    .dataframe tbody tr th:only-of-type {\n",
       "        vertical-align: middle;\n",
       "    }\n",
       "\n",
       "    .dataframe tbody tr th {\n",
       "        vertical-align: top;\n",
       "    }\n",
       "\n",
       "    .dataframe thead th {\n",
       "        text-align: right;\n",
       "    }\n",
       "</style>\n",
       "<table border=\"1\" class=\"dataframe\">\n",
       "  <thead>\n",
       "    <tr style=\"text-align: right;\">\n",
       "      <th></th>\n",
       "      <th>Idade</th>\n",
       "      <th>Renda</th>\n",
       "      <th>Estado</th>\n",
       "    </tr>\n",
       "  </thead>\n",
       "  <tbody>\n",
       "    <tr>\n",
       "      <th>0</th>\n",
       "      <td>20</td>\n",
       "      <td>1000</td>\n",
       "      <td>PE</td>\n",
       "    </tr>\n",
       "    <tr>\n",
       "      <th>1</th>\n",
       "      <td>23</td>\n",
       "      <td>1200</td>\n",
       "      <td>PE</td>\n",
       "    </tr>\n",
       "    <tr>\n",
       "      <th>2</th>\n",
       "      <td>25</td>\n",
       "      <td>1358</td>\n",
       "      <td>BA</td>\n",
       "    </tr>\n",
       "    <tr>\n",
       "      <th>3</th>\n",
       "      <td>26</td>\n",
       "      <td>1459</td>\n",
       "      <td>PI</td>\n",
       "    </tr>\n",
       "    <tr>\n",
       "      <th>4</th>\n",
       "      <td>28</td>\n",
       "      <td>1202</td>\n",
       "      <td>PE</td>\n",
       "    </tr>\n",
       "    <tr>\n",
       "      <th>5</th>\n",
       "      <td>29</td>\n",
       "      <td>2300</td>\n",
       "      <td>PB</td>\n",
       "    </tr>\n",
       "    <tr>\n",
       "      <th>6</th>\n",
       "      <td>40</td>\n",
       "      <td>850</td>\n",
       "      <td>PB</td>\n",
       "    </tr>\n",
       "    <tr>\n",
       "      <th>7</th>\n",
       "      <td>51</td>\n",
       "      <td>1780</td>\n",
       "      <td>SC</td>\n",
       "    </tr>\n",
       "    <tr>\n",
       "      <th>8</th>\n",
       "      <td>77</td>\n",
       "      <td>2500</td>\n",
       "      <td>PR</td>\n",
       "    </tr>\n",
       "    <tr>\n",
       "      <th>9</th>\n",
       "      <td>22</td>\n",
       "      <td>1233</td>\n",
       "      <td>PR</td>\n",
       "    </tr>\n",
       "    <tr>\n",
       "      <th>10</th>\n",
       "      <td>21</td>\n",
       "      <td>1400</td>\n",
       "      <td>SP</td>\n",
       "    </tr>\n",
       "    <tr>\n",
       "      <th>11</th>\n",
       "      <td>24</td>\n",
       "      <td>2600</td>\n",
       "      <td>PE</td>\n",
       "    </tr>\n",
       "    <tr>\n",
       "      <th>12</th>\n",
       "      <td>28</td>\n",
       "      <td>1100</td>\n",
       "      <td>PI</td>\n",
       "    </tr>\n",
       "    <tr>\n",
       "      <th>13</th>\n",
       "      <td>28</td>\n",
       "      <td>1000</td>\n",
       "      <td>MT</td>\n",
       "    </tr>\n",
       "    <tr>\n",
       "      <th>14</th>\n",
       "      <td>52</td>\n",
       "      <td>1256</td>\n",
       "      <td>MS</td>\n",
       "    </tr>\n",
       "  </tbody>\n",
       "</table>\n",
       "</div>"
      ],
      "text/plain": [
       "    Idade  Renda Estado\n",
       "0      20   1000     PE\n",
       "1      23   1200     PE\n",
       "2      25   1358     BA\n",
       "3      26   1459     PI\n",
       "4      28   1202     PE\n",
       "5      29   2300     PB\n",
       "6      40    850     PB\n",
       "7      51   1780     SC\n",
       "8      77   2500     PR\n",
       "9      22   1233     PR\n",
       "10     21   1400     SP\n",
       "11     24   2600     PE\n",
       "12     28   1100     PI\n",
       "13     28   1000     MT\n",
       "14     52   1256     MS"
      ]
     },
     "execution_count": 42,
     "metadata": {},
     "output_type": "execute_result"
    }
   ],
   "source": [
    "#criando um dataframe a partir de um dicionário\n",
    "dataset = pd.DataFrame(data)\n",
    "dataset"
   ]
  },
  {
   "cell_type": "markdown",
   "metadata": {},
   "source": [
    "Manipulando um *dataset*"
   ]
  },
  {
   "cell_type": "code",
   "execution_count": 53,
   "metadata": {
    "id": "Iq8RMakSngFb"
   },
   "outputs": [
    {
     "data": {
      "text/html": [
       "<div>\n",
       "<style scoped>\n",
       "    .dataframe tbody tr th:only-of-type {\n",
       "        vertical-align: middle;\n",
       "    }\n",
       "\n",
       "    .dataframe tbody tr th {\n",
       "        vertical-align: top;\n",
       "    }\n",
       "\n",
       "    .dataframe thead th {\n",
       "        text-align: right;\n",
       "    }\n",
       "</style>\n",
       "<table border=\"1\" class=\"dataframe\">\n",
       "  <thead>\n",
       "    <tr style=\"text-align: right;\">\n",
       "      <th></th>\n",
       "      <th>Idade</th>\n",
       "      <th>Renda</th>\n",
       "      <th>Estado</th>\n",
       "    </tr>\n",
       "  </thead>\n",
       "  <tbody>\n",
       "    <tr>\n",
       "      <th>3</th>\n",
       "      <td>26</td>\n",
       "      <td>1459</td>\n",
       "      <td>PI</td>\n",
       "    </tr>\n",
       "    <tr>\n",
       "      <th>4</th>\n",
       "      <td>28</td>\n",
       "      <td>1202</td>\n",
       "      <td>PE</td>\n",
       "    </tr>\n",
       "    <tr>\n",
       "      <th>5</th>\n",
       "      <td>29</td>\n",
       "      <td>2300</td>\n",
       "      <td>PB</td>\n",
       "    </tr>\n",
       "    <tr>\n",
       "      <th>6</th>\n",
       "      <td>40</td>\n",
       "      <td>850</td>\n",
       "      <td>PB</td>\n",
       "    </tr>\n",
       "    <tr>\n",
       "      <th>7</th>\n",
       "      <td>51</td>\n",
       "      <td>1780</td>\n",
       "      <td>SC</td>\n",
       "    </tr>\n",
       "    <tr>\n",
       "      <th>8</th>\n",
       "      <td>77</td>\n",
       "      <td>2500</td>\n",
       "      <td>PR</td>\n",
       "    </tr>\n",
       "    <tr>\n",
       "      <th>12</th>\n",
       "      <td>28</td>\n",
       "      <td>1100</td>\n",
       "      <td>PI</td>\n",
       "    </tr>\n",
       "    <tr>\n",
       "      <th>13</th>\n",
       "      <td>28</td>\n",
       "      <td>1000</td>\n",
       "      <td>MT</td>\n",
       "    </tr>\n",
       "    <tr>\n",
       "      <th>14</th>\n",
       "      <td>52</td>\n",
       "      <td>1256</td>\n",
       "      <td>MS</td>\n",
       "    </tr>\n",
       "  </tbody>\n",
       "</table>\n",
       "</div>"
      ],
      "text/plain": [
       "    Idade  Renda Estado\n",
       "3      26   1459     PI\n",
       "4      28   1202     PE\n",
       "5      29   2300     PB\n",
       "6      40    850     PB\n",
       "7      51   1780     SC\n",
       "8      77   2500     PR\n",
       "12     28   1100     PI\n",
       "13     28   1000     MT\n",
       "14     52   1256     MS"
      ]
     },
     "execution_count": 53,
     "metadata": {},
     "output_type": "execute_result"
    }
   ],
   "source": [
    "dataset[dataset['Idade']>25]"
   ]
  },
  {
   "cell_type": "code",
   "execution_count": 54,
   "metadata": {
    "id": "utusnMGNngHf"
   },
   "outputs": [
    {
     "data": {
      "text/html": [
       "<div>\n",
       "<style scoped>\n",
       "    .dataframe tbody tr th:only-of-type {\n",
       "        vertical-align: middle;\n",
       "    }\n",
       "\n",
       "    .dataframe tbody tr th {\n",
       "        vertical-align: top;\n",
       "    }\n",
       "\n",
       "    .dataframe thead th {\n",
       "        text-align: right;\n",
       "    }\n",
       "</style>\n",
       "<table border=\"1\" class=\"dataframe\">\n",
       "  <thead>\n",
       "    <tr style=\"text-align: right;\">\n",
       "      <th></th>\n",
       "      <th>Unnamed: 0</th>\n",
       "      <th>Price</th>\n",
       "      <th>Area</th>\n",
       "      <th>Location</th>\n",
       "      <th>No. of Bedrooms</th>\n",
       "      <th>New/Resale</th>\n",
       "      <th>Gymnasium</th>\n",
       "      <th>Lift Available</th>\n",
       "      <th>Car Parking</th>\n",
       "      <th>Maintenance Staff</th>\n",
       "      <th>24x7 Security</th>\n",
       "      <th>Children's Play Area</th>\n",
       "      <th>Clubhouse</th>\n",
       "      <th>Intercom</th>\n",
       "      <th>Landscaped Gardens</th>\n",
       "      <th>Indoor Games</th>\n",
       "      <th>Gas Connection</th>\n",
       "      <th>Jogging Track</th>\n",
       "      <th>Swimming Pool</th>\n",
       "    </tr>\n",
       "  </thead>\n",
       "  <tbody>\n",
       "    <tr>\n",
       "      <th>0</th>\n",
       "      <td>0</td>\n",
       "      <td>4850000</td>\n",
       "      <td>720</td>\n",
       "      <td>Kharghar</td>\n",
       "      <td>1</td>\n",
       "      <td>0</td>\n",
       "      <td>0</td>\n",
       "      <td>1</td>\n",
       "      <td>1</td>\n",
       "      <td>1</td>\n",
       "      <td>1</td>\n",
       "      <td>0</td>\n",
       "      <td>0</td>\n",
       "      <td>0</td>\n",
       "      <td>0</td>\n",
       "      <td>0</td>\n",
       "      <td>0</td>\n",
       "      <td>0</td>\n",
       "      <td>0</td>\n",
       "    </tr>\n",
       "    <tr>\n",
       "      <th>1</th>\n",
       "      <td>1</td>\n",
       "      <td>4500000</td>\n",
       "      <td>600</td>\n",
       "      <td>Kharghar</td>\n",
       "      <td>1</td>\n",
       "      <td>0</td>\n",
       "      <td>1</td>\n",
       "      <td>1</td>\n",
       "      <td>1</td>\n",
       "      <td>1</td>\n",
       "      <td>1</td>\n",
       "      <td>0</td>\n",
       "      <td>1</td>\n",
       "      <td>0</td>\n",
       "      <td>0</td>\n",
       "      <td>0</td>\n",
       "      <td>0</td>\n",
       "      <td>1</td>\n",
       "      <td>1</td>\n",
       "    </tr>\n",
       "    <tr>\n",
       "      <th>2</th>\n",
       "      <td>2</td>\n",
       "      <td>6700000</td>\n",
       "      <td>650</td>\n",
       "      <td>Kharghar</td>\n",
       "      <td>1</td>\n",
       "      <td>0</td>\n",
       "      <td>1</td>\n",
       "      <td>1</td>\n",
       "      <td>1</td>\n",
       "      <td>1</td>\n",
       "      <td>1</td>\n",
       "      <td>1</td>\n",
       "      <td>1</td>\n",
       "      <td>1</td>\n",
       "      <td>0</td>\n",
       "      <td>0</td>\n",
       "      <td>0</td>\n",
       "      <td>1</td>\n",
       "      <td>1</td>\n",
       "    </tr>\n",
       "    <tr>\n",
       "      <th>3</th>\n",
       "      <td>3</td>\n",
       "      <td>4500000</td>\n",
       "      <td>650</td>\n",
       "      <td>Kharghar</td>\n",
       "      <td>1</td>\n",
       "      <td>0</td>\n",
       "      <td>0</td>\n",
       "      <td>1</td>\n",
       "      <td>1</td>\n",
       "      <td>1</td>\n",
       "      <td>1</td>\n",
       "      <td>0</td>\n",
       "      <td>0</td>\n",
       "      <td>1</td>\n",
       "      <td>1</td>\n",
       "      <td>0</td>\n",
       "      <td>0</td>\n",
       "      <td>0</td>\n",
       "      <td>0</td>\n",
       "    </tr>\n",
       "    <tr>\n",
       "      <th>4</th>\n",
       "      <td>4</td>\n",
       "      <td>5000000</td>\n",
       "      <td>665</td>\n",
       "      <td>Kharghar</td>\n",
       "      <td>1</td>\n",
       "      <td>0</td>\n",
       "      <td>0</td>\n",
       "      <td>1</td>\n",
       "      <td>1</td>\n",
       "      <td>1</td>\n",
       "      <td>1</td>\n",
       "      <td>0</td>\n",
       "      <td>0</td>\n",
       "      <td>1</td>\n",
       "      <td>1</td>\n",
       "      <td>0</td>\n",
       "      <td>0</td>\n",
       "      <td>0</td>\n",
       "      <td>0</td>\n",
       "    </tr>\n",
       "    <tr>\n",
       "      <th>...</th>\n",
       "      <td>...</td>\n",
       "      <td>...</td>\n",
       "      <td>...</td>\n",
       "      <td>...</td>\n",
       "      <td>...</td>\n",
       "      <td>...</td>\n",
       "      <td>...</td>\n",
       "      <td>...</td>\n",
       "      <td>...</td>\n",
       "      <td>...</td>\n",
       "      <td>...</td>\n",
       "      <td>...</td>\n",
       "      <td>...</td>\n",
       "      <td>...</td>\n",
       "      <td>...</td>\n",
       "      <td>...</td>\n",
       "      <td>...</td>\n",
       "      <td>...</td>\n",
       "      <td>...</td>\n",
       "    </tr>\n",
       "    <tr>\n",
       "      <th>6342</th>\n",
       "      <td>6342</td>\n",
       "      <td>2485000</td>\n",
       "      <td>700</td>\n",
       "      <td>Shirgaon</td>\n",
       "      <td>1</td>\n",
       "      <td>1</td>\n",
       "      <td>0</td>\n",
       "      <td>0</td>\n",
       "      <td>0</td>\n",
       "      <td>0</td>\n",
       "      <td>0</td>\n",
       "      <td>0</td>\n",
       "      <td>0</td>\n",
       "      <td>0</td>\n",
       "      <td>0</td>\n",
       "      <td>0</td>\n",
       "      <td>0</td>\n",
       "      <td>0</td>\n",
       "      <td>0</td>\n",
       "    </tr>\n",
       "    <tr>\n",
       "      <th>6343</th>\n",
       "      <td>6343</td>\n",
       "      <td>14500000</td>\n",
       "      <td>900</td>\n",
       "      <td>Thane West</td>\n",
       "      <td>2</td>\n",
       "      <td>0</td>\n",
       "      <td>0</td>\n",
       "      <td>0</td>\n",
       "      <td>0</td>\n",
       "      <td>0</td>\n",
       "      <td>0</td>\n",
       "      <td>0</td>\n",
       "      <td>0</td>\n",
       "      <td>0</td>\n",
       "      <td>0</td>\n",
       "      <td>0</td>\n",
       "      <td>0</td>\n",
       "      <td>0</td>\n",
       "      <td>0</td>\n",
       "    </tr>\n",
       "    <tr>\n",
       "      <th>6344</th>\n",
       "      <td>6344</td>\n",
       "      <td>14500000</td>\n",
       "      <td>900</td>\n",
       "      <td>Thane West</td>\n",
       "      <td>2</td>\n",
       "      <td>0</td>\n",
       "      <td>0</td>\n",
       "      <td>1</td>\n",
       "      <td>0</td>\n",
       "      <td>0</td>\n",
       "      <td>0</td>\n",
       "      <td>0</td>\n",
       "      <td>0</td>\n",
       "      <td>1</td>\n",
       "      <td>0</td>\n",
       "      <td>0</td>\n",
       "      <td>1</td>\n",
       "      <td>0</td>\n",
       "      <td>0</td>\n",
       "    </tr>\n",
       "    <tr>\n",
       "      <th>6345</th>\n",
       "      <td>6345</td>\n",
       "      <td>4100000</td>\n",
       "      <td>1380</td>\n",
       "      <td>Boisar</td>\n",
       "      <td>3</td>\n",
       "      <td>0</td>\n",
       "      <td>0</td>\n",
       "      <td>0</td>\n",
       "      <td>0</td>\n",
       "      <td>0</td>\n",
       "      <td>0</td>\n",
       "      <td>0</td>\n",
       "      <td>0</td>\n",
       "      <td>0</td>\n",
       "      <td>0</td>\n",
       "      <td>0</td>\n",
       "      <td>0</td>\n",
       "      <td>0</td>\n",
       "      <td>0</td>\n",
       "    </tr>\n",
       "    <tr>\n",
       "      <th>6346</th>\n",
       "      <td>6346</td>\n",
       "      <td>2750000</td>\n",
       "      <td>700</td>\n",
       "      <td>Badlapur East</td>\n",
       "      <td>1</td>\n",
       "      <td>1</td>\n",
       "      <td>1</td>\n",
       "      <td>1</td>\n",
       "      <td>1</td>\n",
       "      <td>0</td>\n",
       "      <td>1</td>\n",
       "      <td>1</td>\n",
       "      <td>1</td>\n",
       "      <td>0</td>\n",
       "      <td>1</td>\n",
       "      <td>1</td>\n",
       "      <td>0</td>\n",
       "      <td>1</td>\n",
       "      <td>1</td>\n",
       "    </tr>\n",
       "  </tbody>\n",
       "</table>\n",
       "<p>6347 rows × 19 columns</p>\n",
       "</div>"
      ],
      "text/plain": [
       "      Unnamed: 0     Price  Area       Location  No. of Bedrooms  New/Resale  \\\n",
       "0              0   4850000   720       Kharghar                1           0   \n",
       "1              1   4500000   600       Kharghar                1           0   \n",
       "2              2   6700000   650       Kharghar                1           0   \n",
       "3              3   4500000   650       Kharghar                1           0   \n",
       "4              4   5000000   665       Kharghar                1           0   \n",
       "...          ...       ...   ...            ...              ...         ...   \n",
       "6342        6342   2485000   700       Shirgaon                1           1   \n",
       "6343        6343  14500000   900     Thane West                2           0   \n",
       "6344        6344  14500000   900     Thane West                2           0   \n",
       "6345        6345   4100000  1380         Boisar                3           0   \n",
       "6346        6346   2750000   700  Badlapur East                1           1   \n",
       "\n",
       "      Gymnasium  Lift Available  Car Parking  Maintenance Staff  \\\n",
       "0             0               1            1                  1   \n",
       "1             1               1            1                  1   \n",
       "2             1               1            1                  1   \n",
       "3             0               1            1                  1   \n",
       "4             0               1            1                  1   \n",
       "...         ...             ...          ...                ...   \n",
       "6342          0               0            0                  0   \n",
       "6343          0               0            0                  0   \n",
       "6344          0               1            0                  0   \n",
       "6345          0               0            0                  0   \n",
       "6346          1               1            1                  0   \n",
       "\n",
       "      24x7 Security  Children's Play Area  Clubhouse  Intercom  \\\n",
       "0                 1                     0          0         0   \n",
       "1                 1                     0          1         0   \n",
       "2                 1                     1          1         1   \n",
       "3                 1                     0          0         1   \n",
       "4                 1                     0          0         1   \n",
       "...             ...                   ...        ...       ...   \n",
       "6342              0                     0          0         0   \n",
       "6343              0                     0          0         0   \n",
       "6344              0                     0          0         1   \n",
       "6345              0                     0          0         0   \n",
       "6346              1                     1          1         0   \n",
       "\n",
       "      Landscaped Gardens  Indoor Games  Gas Connection  Jogging Track  \\\n",
       "0                      0             0               0              0   \n",
       "1                      0             0               0              1   \n",
       "2                      0             0               0              1   \n",
       "3                      1             0               0              0   \n",
       "4                      1             0               0              0   \n",
       "...                  ...           ...             ...            ...   \n",
       "6342                   0             0               0              0   \n",
       "6343                   0             0               0              0   \n",
       "6344                   0             0               1              0   \n",
       "6345                   0             0               0              0   \n",
       "6346                   1             1               0              1   \n",
       "\n",
       "      Swimming Pool  \n",
       "0                 0  \n",
       "1                 1  \n",
       "2                 1  \n",
       "3                 0  \n",
       "4                 0  \n",
       "...             ...  \n",
       "6342              0  \n",
       "6343              0  \n",
       "6344              0  \n",
       "6345              0  \n",
       "6346              1  \n",
       "\n",
       "[6347 rows x 19 columns]"
      ]
     },
     "execution_count": 54,
     "metadata": {},
     "output_type": "execute_result"
    }
   ],
   "source": [
    "casa = pd.read_csv('Mumbai1.csv')\n",
    "casa"
   ]
  }
 ],
 "metadata": {
  "colab": {
   "name": "Apresentação de Python.ipynb",
   "provenance": [],
   "toc_visible": true
  },
  "kernelspec": {
   "display_name": "Python 3",
   "language": "python",
   "name": "python3"
  },
  "language_info": {
   "codemirror_mode": {
    "name": "ipython",
    "version": 3
   },
   "file_extension": ".py",
   "mimetype": "text/x-python",
   "name": "python",
   "nbconvert_exporter": "python",
   "pygments_lexer": "ipython3",
   "version": "3.6.8"
  }
 },
 "nbformat": 4,
 "nbformat_minor": 1
}
