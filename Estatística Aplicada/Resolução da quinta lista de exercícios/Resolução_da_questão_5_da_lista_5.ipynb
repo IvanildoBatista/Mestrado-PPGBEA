{
  "nbformat": 4,
  "nbformat_minor": 0,
  "metadata": {
    "colab": {
      "name": "Resolução da questão 5 da lista 5.ipynb",
      "provenance": []
    },
    "kernelspec": {
      "name": "python3",
      "display_name": "Python 3"
    },
    "language_info": {
      "name": "python"
    }
  },
  "cells": [
    {
      "cell_type": "markdown",
      "metadata": {
        "id": "w5X83rfA3Ux1"
      },
      "source": [
        "Seja $X$ $=$ tempo entre duas chegadas sucessivas no guichê de atendimento rápido de um banco local. Se $X$ possui distribuição exponencial com  $\\lambda =$ 1 (que é idêntico a uma distribuição gama-padrão com $\\alpha = $ 1), calcule os itens a seguir:\n",
        "\n",
        "[a.] O tempo esperado entre duas chegadas sucessivas\n",
        "    \n",
        "[b.] O desvio padrão do tempo entre chegadas sucessivas\n",
        "    \n",
        "[c.] $P(X \\leq 4)$\n",
        "    \n",
        "[d.] $P(2 \\leq X \\leq 5)$"
      ]
    },
    {
      "cell_type": "code",
      "metadata": {
        "id": "fZJ9ylgV3OIE"
      },
      "source": [
        "def media_exponencial(lmb):\n",
        "  return 1/lmb\n",
        "\n",
        "def variancia_exponencial(lmb):\n",
        "  return (1/lmb)**2\n",
        "\n",
        "def desvio_exponencial(lmb):\n",
        "  return ((1/lmb)**2)**0.5\n",
        "\n",
        "def prob_exponencial(n):\n",
        "  e=2.718281828459045235360287\n",
        "  return 1-(1/(e**n))"
      ],
      "execution_count": null,
      "outputs": []
    },
    {
      "cell_type": "markdown",
      "metadata": {
        "id": "S7rdEimB3iiA"
      },
      "source": [
        "letra a)"
      ]
    },
    {
      "cell_type": "code",
      "metadata": {
        "colab": {
          "base_uri": "https://localhost:8080/"
        },
        "id": "UmyNNRpQ3k6t",
        "outputId": "f74f196a-eb5e-47cb-f585-fafd5c07ac49"
      },
      "source": [
        "#calculando a média \n",
        "media_exponencial(1)"
      ],
      "execution_count": null,
      "outputs": [
        {
          "output_type": "execute_result",
          "data": {
            "text/plain": [
              "1.0"
            ]
          },
          "metadata": {
            "tags": []
          },
          "execution_count": 2
        }
      ]
    },
    {
      "cell_type": "markdown",
      "metadata": {
        "id": "-gSa4ekQ3oXp"
      },
      "source": [
        "letra b)"
      ]
    },
    {
      "cell_type": "code",
      "metadata": {
        "id": "N67PPgZ23mnX"
      },
      "source": [
        "#calculando a variância\n",
        "variancia_exponencial(1)"
      ],
      "execution_count": null,
      "outputs": []
    },
    {
      "cell_type": "code",
      "metadata": {
        "id": "ZTq2btXk3nYh"
      },
      "source": [
        "#desvio padrão\n",
        "desvio_exponencial(1)"
      ],
      "execution_count": null,
      "outputs": []
    },
    {
      "cell_type": "markdown",
      "metadata": {
        "id": "opJzOu8G3vZv"
      },
      "source": [
        "letra c)"
      ]
    },
    {
      "cell_type": "code",
      "metadata": {
        "colab": {
          "base_uri": "https://localhost:8080/"
        },
        "id": "-SpNmpLM3na5",
        "outputId": "9c9fe8b6-0659-4148-b1ba-b4202185a052"
      },
      "source": [
        "#Calculando a probabilidade da\n",
        "#distribuição exponencial\n",
        "#para X=4\n",
        "round(prob_exponencial(4),4)"
      ],
      "execution_count": null,
      "outputs": [
        {
          "output_type": "execute_result",
          "data": {
            "text/plain": [
              "0.9817"
            ]
          },
          "metadata": {
            "tags": []
          },
          "execution_count": 3
        }
      ]
    },
    {
      "cell_type": "markdown",
      "metadata": {
        "id": "baFg9Iyr3zNk"
      },
      "source": [
        "letra d)"
      ]
    },
    {
      "cell_type": "code",
      "metadata": {
        "colab": {
          "base_uri": "https://localhost:8080/"
        },
        "id": "cCpDh8AL3ncy",
        "outputId": "8c2d6b32-353d-46d8-ad6d-ed141de6e1b5"
      },
      "source": [
        "#Calculando a probabilidade da\n",
        "#distribuição exponencial\n",
        "#para o intervalor entre\n",
        "#X = 2 e X = 5 ou P(2<=X<=5)\n",
        "\n",
        "round(prob_exponencial(5)-prob_exponencial(2),4)"
      ],
      "execution_count": null,
      "outputs": [
        {
          "output_type": "execute_result",
          "data": {
            "text/plain": [
              "0.1286"
            ]
          },
          "metadata": {
            "tags": []
          },
          "execution_count": 4
        }
      ]
    }
  ]
}