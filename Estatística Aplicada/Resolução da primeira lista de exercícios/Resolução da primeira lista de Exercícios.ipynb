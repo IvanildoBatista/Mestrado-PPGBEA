{
 "cells": [
  {
   "cell_type": "markdown",
   "metadata": {
    "id": "L-212Pzrd2qq"
   },
   "source": [
    "# Resolução da primeira lista de exercícios de Estatística Aplicada\n",
    "\n",
    "## Instalação de bibliotecas"
   ]
  },
  {
   "cell_type": "code",
   "execution_count": null,
   "metadata": {
    "colab": {
     "base_uri": "https://localhost:8080/"
    },
    "id": "uYKNM1XddfEg",
    "outputId": "c4031923-8161-408c-bb29-89cc8db33274"
   },
   "outputs": [
    {
     "name": "stdout",
     "output_type": "stream",
     "text": [
      "Collecting stemgraphic\n",
      "\u001b[?25l  Downloading https://files.pythonhosted.org/packages/38/ea/5a6a3c28e4404d5f57f1bd9c332e48e99b548a881570eef9b1fc0ceb0598/stemgraphic-0.9.1-py3-none-any.whl (61kB)\n",
      "\r",
      "\u001b[K     |█████▎                          | 10kB 15.8MB/s eta 0:00:01\r",
      "\u001b[K     |██████████▋                     | 20kB 22.2MB/s eta 0:00:01\r",
      "\u001b[K     |███████████████▉                | 30kB 26.4MB/s eta 0:00:01\r",
      "\u001b[K     |█████████████████████▏          | 40kB 24.3MB/s eta 0:00:01\r",
      "\u001b[K     |██████████████████████████▌     | 51kB 23.5MB/s eta 0:00:01\r",
      "\u001b[K     |███████████████████████████████▊| 61kB 17.5MB/s eta 0:00:01\r",
      "\u001b[K     |████████████████████████████████| 71kB 6.5MB/s \n",
      "\u001b[?25hRequirement already satisfied: matplotlib in /usr/local/lib/python3.7/dist-packages (from stemgraphic) (3.2.2)\n",
      "Requirement already satisfied: docopt in /usr/local/lib/python3.7/dist-packages (from stemgraphic) (0.6.2)\n",
      "Requirement already satisfied: seaborn in /usr/local/lib/python3.7/dist-packages (from stemgraphic) (0.11.1)\n",
      "Requirement already satisfied: pandas in /usr/local/lib/python3.7/dist-packages (from stemgraphic) (1.1.5)\n",
      "Requirement already satisfied: python-dateutil>=2.1 in /usr/local/lib/python3.7/dist-packages (from matplotlib->stemgraphic) (2.8.1)\n",
      "Requirement already satisfied: cycler>=0.10 in /usr/local/lib/python3.7/dist-packages (from matplotlib->stemgraphic) (0.10.0)\n",
      "Requirement already satisfied: pyparsing!=2.0.4,!=2.1.2,!=2.1.6,>=2.0.1 in /usr/local/lib/python3.7/dist-packages (from matplotlib->stemgraphic) (2.4.7)\n",
      "Requirement already satisfied: kiwisolver>=1.0.1 in /usr/local/lib/python3.7/dist-packages (from matplotlib->stemgraphic) (1.3.1)\n",
      "Requirement already satisfied: numpy>=1.11 in /usr/local/lib/python3.7/dist-packages (from matplotlib->stemgraphic) (1.19.5)\n",
      "Requirement already satisfied: scipy>=1.0 in /usr/local/lib/python3.7/dist-packages (from seaborn->stemgraphic) (1.4.1)\n",
      "Requirement already satisfied: pytz>=2017.2 in /usr/local/lib/python3.7/dist-packages (from pandas->stemgraphic) (2018.9)\n",
      "Requirement already satisfied: six>=1.5 in /usr/local/lib/python3.7/dist-packages (from python-dateutil>=2.1->matplotlib->stemgraphic) (1.15.0)\n",
      "Installing collected packages: stemgraphic\n",
      "Successfully installed stemgraphic-0.9.1\n",
      "\u001b[K     |████████████████████████████████| 11.7MB 8.7MB/s \n",
      "\u001b[?25h"
     ]
    }
   ],
   "source": [
    "!pip install stemgraphic\n",
    "!pip install -q tabula-py"
   ]
  },
  {
   "cell_type": "markdown",
   "metadata": {
    "id": "qQNpYPw1eQKY"
   },
   "source": [
    "## Importação das bibliotecas"
   ]
  },
  {
   "cell_type": "code",
   "execution_count": null,
   "metadata": {
    "id": "bbo967t3dbMB"
   },
   "outputs": [],
   "source": [
    "import seaborn as sns\n",
    "import pandas as pd\n",
    "import numpy as np\n",
    "import matplotlib.pyplot as plt\n",
    "import tabula\n",
    "import stemgraphic as stem\n",
    "plt.style.use('ggplot')"
   ]
  },
  {
   "cell_type": "markdown",
   "metadata": {
    "id": "AeLHuGIWeVLw"
   },
   "source": [
    "## Questão 1\n",
    "\n",
    "A MB Indústria e Comércio, desejando melhorar o nível de seus funcionários em cargos de chefia, montou um curso experimental e indicou 25 funcionários para a primeira turma. Os dados referentes à seção a que pertencem, notas e graus obtidos no curso estão na tabela a seguir. Como havia dúvidas quanto à adoção de um único critério de avaliação, cada instrutor adotou seu próprio sistema de aferição. Usando dados daquela tabela, responda às questões:\n",
    "\n",
    "Extraindo a base de dados:"
   ]
  },
  {
   "cell_type": "code",
   "execution_count": null,
   "metadata": {
    "colab": {
     "base_uri": "https://localhost:8080/"
    },
    "id": "IAw9CQ30RDr6",
    "outputId": "a8ce9027-601d-47e9-be02-240d89e563f5"
   },
   "outputs": [
    {
     "name": "stderr",
     "output_type": "stream",
     "text": [
      "Got stderr: Mar 30, 2021 4:09:40 AM org.apache.pdfbox.pdmodel.font.FileSystemFontProvider loadDiskCache\n",
      "WARNING: New fonts found, font cache will be re-built\n",
      "Mar 30, 2021 4:09:40 AM org.apache.pdfbox.pdmodel.font.FileSystemFontProvider <init>\n",
      "WARNING: Building on-disk font cache, this may take a while\n",
      "Mar 30, 2021 4:09:40 AM org.apache.pdfbox.pdmodel.font.FileSystemFontProvider <init>\n",
      "WARNING: Finished building on-disk font cache, found 17 fonts\n",
      "Mar 30, 2021 4:09:40 AM org.apache.pdfbox.pdmodel.font.PDType1Font <init>\n",
      "WARNING: Using fallback font LiberationSans for base font Symbol\n",
      "Mar 30, 2021 4:09:40 AM org.apache.pdfbox.pdmodel.font.PDType1Font <init>\n",
      "WARNING: Using fallback font LiberationSans for base font ZapfDingbats\n",
      "Mar 30, 2021 4:09:40 AM org.apache.pdfbox.pdmodel.font.PDType1Font <init>\n",
      "WARNING: Using fallback font LiberationSerif for NMAOKG+Times-Roman\n",
      "Mar 30, 2021 4:09:40 AM org.apache.pdfbox.pdmodel.font.PDType1Font <init>\n",
      "WARNING: Using fallback font LiberationSans for SFNVVT+Helvetica\n",
      "Mar 30, 2021 4:09:42 AM org.apache.pdfbox.pdmodel.font.PDType1Font <init>\n",
      "WARNING: Using fallback font LiberationSerif for NMAOKG+Times-Roman\n",
      "Mar 30, 2021 4:09:42 AM org.apache.pdfbox.pdmodel.font.PDType1Font <init>\n",
      "WARNING: Using fallback font LiberationSans for SFNVVT+Helvetica\n",
      "\n"
     ]
    }
   ],
   "source": [
    "dfs4 = tabula.read_pdf('_P. A. Morettin, W. de O. Bussab-Estatística Básica-Saraiva (2010).pdf',pages=43, stream=True)"
   ]
  },
  {
   "cell_type": "markdown",
   "metadata": {
    "id": "rHB-uFJdRPBQ"
   },
   "source": [
    "Criando a base de dados."
   ]
  },
  {
   "cell_type": "code",
   "execution_count": null,
   "metadata": {
    "id": "NQGYRR4URDt8"
   },
   "outputs": [],
   "source": [
    "#extraindo a base de dados\n",
    "df5=dfs4[0]\n",
    "#excluindo as duas primeiras linhas\n",
    "df5 = df5.drop([0])\n",
    "#reindexando a base de dados\n",
    "df5=df5.reset_index().drop(['index'], axis=1)\n",
    "\n",
    "#definindo os meses de idade\n",
    "lista1 = []\n",
    "for i in df5.index:\n",
    "  lista1.append(df5['Seção'][i][0:1])\n",
    "\n",
    "#definindo a idade em anos\n",
    "lista2 = []\n",
    "for i in df5.index:\n",
    "  lista2.append(df5['Seção'][i][2:5])\n",
    "\n",
    "#criando as novas variável\n",
    "df5['Seção (*)'] = lista1\n",
    "df5['Administr.'] = lista2\n",
    "\n",
    "#Excluindo a antiga coluna idade\n",
    "df5 = df5.drop('Seção', axis=1)\n",
    "\n",
    "#renomeando colunas\n",
    "df5 = df5.rename(columns={'Unnamed: 0':'Func.', 'Unnamed: 1':'Direito', 'Unnamed: 2':'Redação', 'Unnamed: 3':'Estatíst.', 'Unnamed: 4':'Inglês',\n",
    "                          'Unnamed: 5':'Metodologia', 'Unnamed: 6':'Política', 'Unnamed: 7':'Economia'})\n",
    "\n",
    "#transformando a variável salário em float\n",
    "lista3 = ['Direito','Redação','Estatíst.','Política','Economia','Administr.']\n",
    "for i in lista3:\n",
    "  df5[i] = df5[i].apply(lambda x: x.replace(',','.')).apply(lambda x: x.replace(' ','.')).astype('float64')"
   ]
  },
  {
   "cell_type": "markdown",
   "metadata": {
    "id": "gCy_AZilRXQc"
   },
   "source": [
    "Base de dados criada."
   ]
  },
  {
   "cell_type": "code",
   "execution_count": null,
   "metadata": {
    "colab": {
     "base_uri": "https://localhost:8080/",
     "height": 191
    },
    "id": "lMOzz0gkRDv2",
    "outputId": "7efa968f-bf22-46d7-df4a-277cd084fb24"
   },
   "outputs": [
    {
     "data": {
      "text/html": [
       "<div>\n",
       "<style scoped>\n",
       "    .dataframe tbody tr th:only-of-type {\n",
       "        vertical-align: middle;\n",
       "    }\n",
       "\n",
       "    .dataframe tbody tr th {\n",
       "        vertical-align: top;\n",
       "    }\n",
       "\n",
       "    .dataframe thead th {\n",
       "        text-align: right;\n",
       "    }\n",
       "</style>\n",
       "<table border=\"1\" class=\"dataframe\">\n",
       "  <thead>\n",
       "    <tr style=\"text-align: right;\">\n",
       "      <th></th>\n",
       "      <th>Func.</th>\n",
       "      <th>Direito</th>\n",
       "      <th>Redação</th>\n",
       "      <th>Estatíst.</th>\n",
       "      <th>Inglês</th>\n",
       "      <th>Metodologia</th>\n",
       "      <th>Política</th>\n",
       "      <th>Economia</th>\n",
       "      <th>Seção (*)</th>\n",
       "      <th>Administr.</th>\n",
       "    </tr>\n",
       "  </thead>\n",
       "  <tbody>\n",
       "    <tr>\n",
       "      <th>0</th>\n",
       "      <td>1</td>\n",
       "      <td>9.0</td>\n",
       "      <td>8.6</td>\n",
       "      <td>9.0</td>\n",
       "      <td>B</td>\n",
       "      <td>A</td>\n",
       "      <td>9.0</td>\n",
       "      <td>8.5</td>\n",
       "      <td>P</td>\n",
       "      <td>8.0</td>\n",
       "    </tr>\n",
       "    <tr>\n",
       "      <th>1</th>\n",
       "      <td>2</td>\n",
       "      <td>9.0</td>\n",
       "      <td>7.0</td>\n",
       "      <td>9.0</td>\n",
       "      <td>B</td>\n",
       "      <td>C</td>\n",
       "      <td>6.5</td>\n",
       "      <td>8.0</td>\n",
       "      <td>P</td>\n",
       "      <td>8.0</td>\n",
       "    </tr>\n",
       "    <tr>\n",
       "      <th>2</th>\n",
       "      <td>3</td>\n",
       "      <td>9.0</td>\n",
       "      <td>8.0</td>\n",
       "      <td>8.0</td>\n",
       "      <td>D</td>\n",
       "      <td>B</td>\n",
       "      <td>9.0</td>\n",
       "      <td>8.5</td>\n",
       "      <td>P</td>\n",
       "      <td>8.0</td>\n",
       "    </tr>\n",
       "    <tr>\n",
       "      <th>3</th>\n",
       "      <td>4</td>\n",
       "      <td>9.0</td>\n",
       "      <td>8.6</td>\n",
       "      <td>8.0</td>\n",
       "      <td>D</td>\n",
       "      <td>C</td>\n",
       "      <td>6.0</td>\n",
       "      <td>8.5</td>\n",
       "      <td>P</td>\n",
       "      <td>6.0</td>\n",
       "    </tr>\n",
       "    <tr>\n",
       "      <th>4</th>\n",
       "      <td>5</td>\n",
       "      <td>9.0</td>\n",
       "      <td>8.0</td>\n",
       "      <td>9.0</td>\n",
       "      <td>A</td>\n",
       "      <td>A</td>\n",
       "      <td>6.5</td>\n",
       "      <td>9.0</td>\n",
       "      <td>P</td>\n",
       "      <td>8.0</td>\n",
       "    </tr>\n",
       "  </tbody>\n",
       "</table>\n",
       "</div>"
      ],
      "text/plain": [
       "  Func.  Direito  Redação  Estatíst.  ... Política Economia  Seção (*)  Administr.\n",
       "0     1      9.0      8.6        9.0  ...      9.0      8.5          P         8.0\n",
       "1     2      9.0      7.0        9.0  ...      6.5      8.0          P         8.0\n",
       "2     3      9.0      8.0        8.0  ...      9.0      8.5          P         8.0\n",
       "3     4      9.0      8.6        8.0  ...      6.0      8.5          P         6.0\n",
       "4     5      9.0      8.0        9.0  ...      6.5      9.0          P         8.0\n",
       "\n",
       "[5 rows x 10 columns]"
      ]
     },
     "execution_count": 6,
     "metadata": {
      "tags": []
     },
     "output_type": "execute_result"
    }
   ],
   "source": [
    "df5.head()"
   ]
  },
  {
   "cell_type": "markdown",
   "metadata": {
    "id": "7R5dvVttRg6e"
   },
   "source": [
    "#### (a) Após observar atentamente cada variável, e com o intuito de resumi-las, como você identificaria (qualitativa ordinal ou nominal e quantitativa discreta ou contínua) cada uma das 9 variáveis listadas?\n",
    "\n",
    "\n",
    "**Variáveis qualitativas ordinais**: Inglês e Metodologia;\n",
    "\n",
    "**Variável qualitativa nominal**: Seção;\n",
    "\n",
    "**Variáveis quantitativas contínuas**: Administração, Direito, Redação, Estatística, Política e Economia.\n",
    "\n"
   ]
  },
  {
   "cell_type": "markdown",
   "metadata": {
    "id": "f_ATKJ3wRtI9"
   },
   "source": [
    "#### (b) Compare e indique as diferenças existentes entre as distribuições das variáveis Direito, Política e Estatística.\n",
    "\n",
    "**Resposta**\n",
    "\n",
    "Não há variação nas notas de direito, pois todos os valores são 9.\n",
    "\n",
    "A maior parte das notas de Estatísticas estão entre 8 e 10, com poucos valores baixos.\n",
    "\n",
    "As notas de redação estão bem distribuídas.\n",
    "\n",
    "As notas de Política estão estão em média, concentradas entre 6 e 6.5."
   ]
  },
  {
   "cell_type": "code",
   "execution_count": null,
   "metadata": {
    "colab": {
     "base_uri": "https://localhost:8080/",
     "height": 272
    },
    "id": "yFT9uQwfRDxp",
    "outputId": "78e3b27b-0580-415e-d86d-67975515243a"
   },
   "outputs": [
    {
     "data": {
      "image/png": "[encoded data removed]",
      "text/plain": [
       "<Figure size 720x216 with 3 Axes>"
      ]
     },
     "metadata": {
      "tags": []
     },
     "output_type": "display_data"
    }
   ],
   "source": [
    "fig,ax = plt.subplots(1,3, figsize=(10,3))\n",
    "pd.cut(df5['Estatíst.'], bins=5).value_counts(sort=False).plot.bar(ax=ax[0])\n",
    "pd.cut(df5['Direito'], bins=5).value_counts(sort=False).plot.bar(ax=ax[1])\n",
    "pd.cut(df5['Política'], bins=5).value_counts(sort=False).plot.bar(ax=ax[2]);"
   ]
  },
  {
   "cell_type": "code",
   "execution_count": null,
   "metadata": {
    "colab": {
     "base_uri": "https://localhost:8080/",
     "height": 227
    },
    "id": "PpZcXXiuRDz3",
    "outputId": "7f927f8c-c12c-4d39-d8de-e13e482154b9"
   },
   "outputs": [
    {
     "data": {
      "image/png": "[encoded data removed]",
      "text/plain": [
       "<Figure size 720x216 with 3 Axes>"
      ]
     },
     "metadata": {
      "tags": []
     },
     "output_type": "display_data"
    }
   ],
   "source": [
    "fig,ax = plt.subplots(1,3, figsize=(10,3))\n",
    "sns.histplot(x='Estatíst.', data=df5, ax=ax[0])\n",
    "sns.histplot(x='Direito', data=df5, ax=ax[1])\n",
    "sns.histplot(x='Política', data=df5, ax=ax[2]);"
   ]
  },
  {
   "cell_type": "markdown",
   "metadata": {
    "id": "Nl_UsdofR78V"
   },
   "source": [
    "#### (c) Construa o histograma para as notas da variável Redação."
   ]
  },
  {
   "cell_type": "code",
   "execution_count": null,
   "metadata": {
    "colab": {
     "base_uri": "https://localhost:8080/",
     "height": 357
    },
    "id": "QJYQ-neDRD2D",
    "outputId": "1bc6b5e3-f619-45ae-a804-3de3f202e056"
   },
   "outputs": [
    {
     "data": {
      "image/png": "[encoded data removed]",
      "text/plain": [
       "<Figure size 720x360 with 1 Axes>"
      ]
     },
     "metadata": {
      "tags": []
     },
     "output_type": "display_data"
    }
   ],
   "source": [
    "plt.figure(figsize=(10,5))\n",
    "sns.histplot(x='Redação', data=df5)\n",
    "plt.xlabel('Redação', size=15)\n",
    "plt.ylabel('')\n",
    "plt.title('Histograma das notas de Redação',size=15);"
   ]
  },
  {
   "cell_type": "markdown",
   "metadata": {
    "id": "29Mwto_lSCQ_"
   },
   "source": [
    "#### (d) Construa a distribuição de freqüências da variável Metodologia e faça um gráfico para indicar essa distribuição."
   ]
  },
  {
   "cell_type": "code",
   "execution_count": null,
   "metadata": {
    "colab": {
     "base_uri": "https://localhost:8080/",
     "height": 133
    },
    "id": "O_E4aRg3RD3g",
    "outputId": "0fab0d15-4948-40a3-946a-94db1f197702"
   },
   "outputs": [
    {
     "data": {
      "text/html": [
       "<div>\n",
       "<style scoped>\n",
       "    .dataframe tbody tr th:only-of-type {\n",
       "        vertical-align: middle;\n",
       "    }\n",
       "\n",
       "    .dataframe tbody tr th {\n",
       "        vertical-align: top;\n",
       "    }\n",
       "\n",
       "    .dataframe thead th {\n",
       "        text-align: right;\n",
       "    }\n",
       "</style>\n",
       "<table border=\"1\" class=\"dataframe\">\n",
       "  <thead>\n",
       "    <tr style=\"text-align: right;\">\n",
       "      <th></th>\n",
       "      <th>Metodologia</th>\n",
       "      <th>Met_acumulada</th>\n",
       "      <th>Met_relativa</th>\n",
       "      <th>Met_rel_acumulada</th>\n",
       "    </tr>\n",
       "  </thead>\n",
       "  <tbody>\n",
       "    <tr>\n",
       "      <th>C</th>\n",
       "      <td>10</td>\n",
       "      <td>10</td>\n",
       "      <td>0.40</td>\n",
       "      <td>0.40</td>\n",
       "    </tr>\n",
       "    <tr>\n",
       "      <th>B</th>\n",
       "      <td>8</td>\n",
       "      <td>18</td>\n",
       "      <td>0.32</td>\n",
       "      <td>0.72</td>\n",
       "    </tr>\n",
       "    <tr>\n",
       "      <th>A</th>\n",
       "      <td>7</td>\n",
       "      <td>25</td>\n",
       "      <td>0.28</td>\n",
       "      <td>1.00</td>\n",
       "    </tr>\n",
       "  </tbody>\n",
       "</table>\n",
       "</div>"
      ],
      "text/plain": [
       "   Metodologia  Met_acumulada  Met_relativa  Met_rel_acumulada\n",
       "C           10             10          0.40               0.40\n",
       "B            8             18          0.32               0.72\n",
       "A            7             25          0.28               1.00"
      ]
     },
     "execution_count": 10,
     "metadata": {
      "tags": []
     },
     "output_type": "execute_result"
    }
   ],
   "source": [
    "#tabela de frequência\n",
    "freq = pd.DataFrame(df5['Metodologia'].value_counts(sort=False))\n",
    "#frequência acumulada\n",
    "freq['Met_acumulada'] = freq['Metodologia'].cumsum()\n",
    "#frequência relativa\n",
    "freq['Met_relativa'] = freq['Metodologia']/freq['Metodologia'].sum()\n",
    "#frequência relativa acumulada\n",
    "freq['Met_rel_acumulada'] = freq['Met_relativa'].cumsum()\n",
    "\n",
    "freq"
   ]
  },
  {
   "cell_type": "code",
   "execution_count": null,
   "metadata": {
    "colab": {
     "base_uri": "https://localhost:8080/",
     "height": 162
    },
    "id": "6-q6zt2ZRD5O",
    "outputId": "8a1ba3a5-a31c-4903-ba2a-7703d8574cb4"
   },
   "outputs": [
    {
     "data": {
      "text/html": [
       "<div>\n",
       "<style scoped>\n",
       "    .dataframe tbody tr th:only-of-type {\n",
       "        vertical-align: middle;\n",
       "    }\n",
       "\n",
       "    .dataframe tbody tr th {\n",
       "        vertical-align: top;\n",
       "    }\n",
       "\n",
       "    .dataframe thead th {\n",
       "        text-align: right;\n",
       "    }\n",
       "</style>\n",
       "<table border=\"1\" class=\"dataframe\">\n",
       "  <thead>\n",
       "    <tr style=\"text-align: right;\">\n",
       "      <th></th>\n",
       "      <th>C</th>\n",
       "      <th>B</th>\n",
       "      <th>A</th>\n",
       "    </tr>\n",
       "  </thead>\n",
       "  <tbody>\n",
       "    <tr>\n",
       "      <th>Metodologia</th>\n",
       "      <td>10.0</td>\n",
       "      <td>8.00</td>\n",
       "      <td>7.00</td>\n",
       "    </tr>\n",
       "    <tr>\n",
       "      <th>Met_acumulada</th>\n",
       "      <td>10.0</td>\n",
       "      <td>18.00</td>\n",
       "      <td>25.00</td>\n",
       "    </tr>\n",
       "    <tr>\n",
       "      <th>Met_relativa</th>\n",
       "      <td>0.4</td>\n",
       "      <td>0.32</td>\n",
       "      <td>0.28</td>\n",
       "    </tr>\n",
       "    <tr>\n",
       "      <th>Met_rel_acumulada</th>\n",
       "      <td>0.4</td>\n",
       "      <td>0.72</td>\n",
       "      <td>1.00</td>\n",
       "    </tr>\n",
       "  </tbody>\n",
       "</table>\n",
       "</div>"
      ],
      "text/plain": [
       "                      C      B      A\n",
       "Metodologia        10.0   8.00   7.00\n",
       "Met_acumulada      10.0  18.00  25.00\n",
       "Met_relativa        0.4   0.32   0.28\n",
       "Met_rel_acumulada   0.4   0.72   1.00"
      ]
     },
     "execution_count": 11,
     "metadata": {
      "tags": []
     },
     "output_type": "execute_result"
    }
   ],
   "source": [
    "freq.T"
   ]
  },
  {
   "cell_type": "markdown",
   "metadata": {
    "id": "KMh5V2nuSXqW"
   },
   "source": [
    "Gráfico da distribuição de frequência."
   ]
  },
  {
   "cell_type": "code",
   "execution_count": null,
   "metadata": {
    "colab": {
     "base_uri": "https://localhost:8080/",
     "height": 338
    },
    "id": "rvwtjtPCSW75",
    "outputId": "d42fdfb8-6f78-4777-c9de-21b2953ebbe9"
   },
   "outputs": [
    {
     "data": {
      "image/png": "[encoded data removed]",
      "text/plain": [
       "<Figure size 720x360 with 1 Axes>"
      ]
     },
     "metadata": {
      "tags": []
     },
     "output_type": "display_data"
    }
   ],
   "source": [
    "plt.figure(figsize=(10,5))\n",
    "sns.countplot(x='Metodologia', data=df5)\n",
    "plt.xlabel('Metodologia', size=15)\n",
    "plt.ylabel(\"\");"
   ]
  },
  {
   "cell_type": "markdown",
   "metadata": {
    "id": "Ybsqzox8RkDl"
   },
   "source": [
    "#### (e) Sorteado ao acaso um dos 25 funcionários, qual a probabilidade de que ele tenha obtido grau A em Metodologia?\n",
    "\n",
    "**Resposta**: Calculando a probabilidade de que um dos 25 funcinários tenha obtido grau **A** em Metodologia é dado por $\\frac{7}{25} = 0.28$, que calculei abaixo.\n"
   ]
  },
  {
   "cell_type": "code",
   "execution_count": null,
   "metadata": {
    "colab": {
     "base_uri": "https://localhost:8080/"
    },
    "id": "h4qPM9EvRD6n",
    "outputId": "28196e61-dcca-479d-f50c-56fac1e55ffd"
   },
   "outputs": [
    {
     "name": "stdout",
     "output_type": "stream",
     "text": [
      "A probabilidade de um dos 25 funcinários tenha obtido grau A em Metodologia é  0.28\n"
     ]
    }
   ],
   "source": [
    "print('A probabilidade de um dos 25 funcinários tenha obtido grau A em Metodologia é ',\n",
    "      freq.T['A'][0]/freq.T['A'][1])"
   ]
  },
  {
   "cell_type": "markdown",
   "metadata": {
    "id": "HHILSx2qSNe6"
   },
   "source": [
    "#### (f) Se, em vez de um, sorteássemos dois, a probabilidade de que ambos tivessem tido A em Metodologia é maior ou menor do que a resposta dada em (e)?\n",
    "\n",
    "Essa resposta depende se o sorteio é com ou sem reposição. Vamos calcular as duas formas:\n",
    "\n",
    "1) **com reposição**: Vamos sortear o funcionário e em seguido recolocá-lo novamente entre os funcionários para realizar um novo sorteio. Então na primeira eu terei $\\frac{7}{25}$ e na segunda $\\frac{7}{25}$, logo a probabilidade será  $\\frac{7}{25} *  \\frac{7}{25}$"
   ]
  },
  {
   "cell_type": "code",
   "execution_count": null,
   "metadata": {
    "colab": {
     "base_uri": "https://localhost:8080/"
    },
    "id": "Af5dt1MTSlAm",
    "outputId": "5efb283d-2adb-48d5-d951-1ca792ed3975"
   },
   "outputs": [
    {
     "name": "stdout",
     "output_type": "stream",
     "text": [
      "A probabilidade de dois dos 25 funcinários tenha obtido grau A em Metodologia é  0.0784\n"
     ]
    }
   ],
   "source": [
    "print('A probabilidade de dois dos 25 funcinários tenha obtido grau A em Metodologia é ', \n",
    "      round((freq.T['A'][0]/freq.T['A'][1])*(freq.T['A'][0]/freq.T['A'][1]),4))"
   ]
  },
  {
   "cell_type": "markdown",
   "metadata": {
    "id": "39Pvon6KSpZE"
   },
   "source": [
    "2) **sem reposição**: Vamos sortear o funcionário, mas ele não será recolocado novamente entre os funcionários para realizar o novo sorteio. Então na primeira eu terei $\\frac{7}{25}$ e na segunda $\\frac{6}{24}$, logo a probabilidade será  $\\frac{7}{25} *  \\frac{6}{24}$."
   ]
  },
  {
   "cell_type": "code",
   "execution_count": null,
   "metadata": {
    "colab": {
     "base_uri": "https://localhost:8080/"
    },
    "id": "QG4cO937Spji",
    "outputId": "03df92bc-cb69-4af0-c0a5-7bc8c1e6c981"
   },
   "outputs": [
    {
     "name": "stdout",
     "output_type": "stream",
     "text": [
      "A probabilidade de dois dos 25 funcinários tenha obtido grau A em Metodologia é  0.07\n"
     ]
    }
   ],
   "source": [
    "print('A probabilidade de dois dos 25 funcinários tenha obtido grau A em Metodologia é ', \n",
    "      round((freq.T['A'][0]/freq.T['A'][1])*((freq.T['A'][0]-1)/(freq.T['A'][1]-1)),4))"
   ]
  },
  {
   "cell_type": "markdown",
   "metadata": {
    "id": "O4b9MywuSNiX"
   },
   "source": [
    "#### (g) Como é o aproveitamento dos funcionários na disciplina Estatística, segundo a seção a que eles pertencem?\n",
    "\n",
    "**Resposta**: Com base nos histogramas abaixo, vê-se que a seção de **Pessoal** possui um desempenho melhor em comparação as demais seções."
   ]
  },
  {
   "cell_type": "code",
   "execution_count": null,
   "metadata": {
    "colab": {
     "base_uri": "https://localhost:8080/",
     "height": 353
    },
    "id": "oxF2k9EHRD8z",
    "outputId": "1b7a4185-9c88-4742-bc1b-d55651c4dd6d"
   },
   "outputs": [
    {
     "data": {
      "image/png": "[encoded data removed]",
      "text/plain": [
       "<Figure size 1080x360 with 3 Axes>"
      ]
     },
     "metadata": {
      "tags": []
     },
     "output_type": "display_data"
    }
   ],
   "source": [
    "fig,ax = plt.subplots(1,3, figsize=(15,5))\n",
    "ax[0].title.set_text('Histograma da Seção Pessoal')\n",
    "ax[1].title.set_text('Histograma da Seção Técnica')\n",
    "ax[2].title.set_text('Histograma da Seção Vendas')\n",
    "sns.histplot(df5[df5['Seção (*)']=='P']['Estatíst.'], ax=ax[0], color='red')\n",
    "sns.histplot(df5[df5['Seção (*)']=='T']['Estatíst.'], ax=ax[1])\n",
    "sns.histplot(df5[df5['Seção (*)']=='V']['Estatíst.'], ax=ax[2], color='green');"
   ]
  },
  {
   "cell_type": "markdown",
   "metadata": {
    "id": "9GmXBtn1eaGJ"
   },
   "source": [
    "## Questão 2\n",
    "\n",
    "Dispomos de uma relação de 200 aluguéis de imóveis urbanos e uma relação de 100 aluguéis rurais.\n",
    "\n",
    "(a) Construa os histogramas das duas distribuições.\n",
    "\n",
    "(b) Com base nos histogramas, discuta e compare as duas distribuições.\n",
    "\n",
    "Extraindo a base de dados."
   ]
  },
  {
   "cell_type": "code",
   "execution_count": null,
   "metadata": {
    "colab": {
     "base_uri": "https://localhost:8080/"
    },
    "id": "FqBn0NXiV5QQ",
    "outputId": "e07481e5-6c3c-407a-ba86-cba308b1c220"
   },
   "outputs": [
    {
     "name": "stderr",
     "output_type": "stream",
     "text": [
      "Got stderr: Mar 30, 2021 4:19:07 AM org.apache.pdfbox.pdmodel.font.PDType1Font <init>\n",
      "WARNING: Using fallback font LiberationSans for base font Symbol\n",
      "Mar 30, 2021 4:19:07 AM org.apache.pdfbox.pdmodel.font.PDType1Font <init>\n",
      "WARNING: Using fallback font LiberationSans for base font ZapfDingbats\n",
      "Mar 30, 2021 4:19:07 AM org.apache.pdfbox.pdmodel.font.PDType1Font <init>\n",
      "WARNING: Using fallback font LiberationSerif for NMAOKG+Times-Roman\n",
      "Mar 30, 2021 4:19:07 AM org.apache.pdfbox.pdmodel.font.PDSimpleFont toUnicode\n",
      "WARNING: No Unicode mapping for H11627 (2) in font OFIOCO+MathematicalPi-Six\n",
      "Mar 30, 2021 4:19:07 AM org.apache.pdfbox.pdmodel.font.PDType1Font <init>\n",
      "WARNING: Using fallback font LiberationSerif-Italic for NMAONI+Times-Italic\n",
      "Mar 30, 2021 4:19:07 AM org.apache.pdfbox.pdmodel.font.PDType1Font <init>\n",
      "WARNING: Using fallback font LiberationSans for SFNVVT+Helvetica\n",
      "Mar 30, 2021 4:19:08 AM org.apache.pdfbox.pdmodel.font.PDType1Font <init>\n",
      "WARNING: Using fallback font LiberationSerif for NMAOKG+Times-Roman\n",
      "Mar 30, 2021 4:19:08 AM org.apache.pdfbox.pdmodel.font.PDType1Font <init>\n",
      "WARNING: Using fallback font LiberationSerif-Italic for NMAONI+Times-Italic\n",
      "Mar 30, 2021 4:19:08 AM org.apache.pdfbox.pdmodel.font.PDType1Font <init>\n",
      "WARNING: Using fallback font LiberationSans for SFNVVT+Helvetica\n",
      "\n"
     ]
    }
   ],
   "source": [
    "dfs5 = tabula.read_pdf('_P. A. Morettin, W. de O. Bussab-Estatística Básica-Saraiva (2010).pdf',pages=45, stream=True)"
   ]
  },
  {
   "cell_type": "markdown",
   "metadata": {
    "id": "tAQQMvd8WUl_"
   },
   "source": [
    "Base de dados."
   ]
  },
  {
   "cell_type": "code",
   "execution_count": null,
   "metadata": {
    "colab": {
     "base_uri": "https://localhost:8080/",
     "height": 191
    },
    "id": "vIQuFbCOV5Sr",
    "outputId": "9c14c6bf-7221-4419-ac3b-3448f85d041f"
   },
   "outputs": [
    {
     "data": {
      "text/html": [
       "<div>\n",
       "<style scoped>\n",
       "    .dataframe tbody tr th:only-of-type {\n",
       "        vertical-align: middle;\n",
       "    }\n",
       "\n",
       "    .dataframe tbody tr th {\n",
       "        vertical-align: top;\n",
       "    }\n",
       "\n",
       "    .dataframe thead th {\n",
       "        text-align: right;\n",
       "    }\n",
       "</style>\n",
       "<table border=\"1\" class=\"dataframe\">\n",
       "  <thead>\n",
       "    <tr style=\"text-align: right;\">\n",
       "      <th></th>\n",
       "      <th>Classes de aluguéis (codificados) Zona urbana</th>\n",
       "      <th>Zona rural</th>\n",
       "    </tr>\n",
       "  </thead>\n",
       "  <tbody>\n",
       "    <tr>\n",
       "      <th>0</th>\n",
       "      <td>2 — 3 10</td>\n",
       "      <td>30.0</td>\n",
       "    </tr>\n",
       "    <tr>\n",
       "      <th>1</th>\n",
       "      <td>3 — 5 40</td>\n",
       "      <td>50.0</td>\n",
       "    </tr>\n",
       "    <tr>\n",
       "      <th>2</th>\n",
       "      <td>5 — 7 80</td>\n",
       "      <td>15.0</td>\n",
       "    </tr>\n",
       "    <tr>\n",
       "      <th>3</th>\n",
       "      <td>7 — 10 50</td>\n",
       "      <td>5.0</td>\n",
       "    </tr>\n",
       "    <tr>\n",
       "      <th>4</th>\n",
       "      <td>10 — 15 20</td>\n",
       "      <td>0.0</td>\n",
       "    </tr>\n",
       "  </tbody>\n",
       "</table>\n",
       "</div>"
      ],
      "text/plain": [
       "  Classes de aluguéis (codificados) Zona urbana  Zona rural\n",
       "0                                      2 — 3 10        30.0\n",
       "1                                      3 — 5 40        50.0\n",
       "2                                      5 — 7 80        15.0\n",
       "3                                     7 — 10 50         5.0\n",
       "4                                    10 — 15 20         0.0"
      ]
     },
     "execution_count": 32,
     "metadata": {
      "tags": []
     },
     "output_type": "execute_result"
    }
   ],
   "source": [
    "df6 = dfs5[0][0:5]\n",
    "df6"
   ]
  },
  {
   "cell_type": "markdown",
   "metadata": {
    "id": "XHELcuA2WXCu"
   },
   "source": [
    "Transformando a base de dados."
   ]
  },
  {
   "cell_type": "code",
   "execution_count": null,
   "metadata": {
    "colab": {
     "base_uri": "https://localhost:8080/",
     "height": 581
    },
    "id": "ZSUVO-xEV5U-",
    "outputId": "3062a3fe-282e-4b72-d35b-38f443b7ffb8"
   },
   "outputs": [
    {
     "name": "stderr",
     "output_type": "stream",
     "text": [
      "/usr/local/lib/python3.7/dist-packages/ipykernel_launcher.py:10: SettingWithCopyWarning:\n",
      "\n",
      "\n",
      "A value is trying to be set on a copy of a slice from a DataFrame.\n",
      "Try using .loc[row_indexer,col_indexer] = value instead\n",
      "\n",
      "See the caveats in the documentation: https://pandas.pydata.org/pandas-docs/stable/user_guide/indexing.html#returning-a-view-versus-a-copy\n",
      "\n",
      "/usr/local/lib/python3.7/dist-packages/ipykernel_launcher.py:11: SettingWithCopyWarning:\n",
      "\n",
      "\n",
      "A value is trying to be set on a copy of a slice from a DataFrame.\n",
      "Try using .loc[row_indexer,col_indexer] = value instead\n",
      "\n",
      "See the caveats in the documentation: https://pandas.pydata.org/pandas-docs/stable/user_guide/indexing.html#returning-a-view-versus-a-copy\n",
      "\n",
      "/usr/local/lib/python3.7/dist-packages/ipykernel_launcher.py:12: SettingWithCopyWarning:\n",
      "\n",
      "\n",
      "A value is trying to be set on a copy of a slice from a DataFrame.\n",
      "Try using .loc[row_indexer,col_indexer] = value instead\n",
      "\n",
      "See the caveats in the documentation: https://pandas.pydata.org/pandas-docs/stable/user_guide/indexing.html#returning-a-view-versus-a-copy\n",
      "\n"
     ]
    },
    {
     "data": {
      "text/html": [
       "<div>\n",
       "<style scoped>\n",
       "    .dataframe tbody tr th:only-of-type {\n",
       "        vertical-align: middle;\n",
       "    }\n",
       "\n",
       "    .dataframe tbody tr th {\n",
       "        vertical-align: top;\n",
       "    }\n",
       "\n",
       "    .dataframe thead th {\n",
       "        text-align: right;\n",
       "    }\n",
       "</style>\n",
       "<table border=\"1\" class=\"dataframe\">\n",
       "  <thead>\n",
       "    <tr style=\"text-align: right;\">\n",
       "      <th></th>\n",
       "      <th>Classes de aluguéis (codificados)</th>\n",
       "      <th>Zona urbana</th>\n",
       "      <th>Zona rural</th>\n",
       "    </tr>\n",
       "  </thead>\n",
       "  <tbody>\n",
       "    <tr>\n",
       "      <th>0</th>\n",
       "      <td>2 — 3</td>\n",
       "      <td>10.0</td>\n",
       "      <td>30.0</td>\n",
       "    </tr>\n",
       "    <tr>\n",
       "      <th>1</th>\n",
       "      <td>3 — 5</td>\n",
       "      <td>40.0</td>\n",
       "      <td>50.0</td>\n",
       "    </tr>\n",
       "    <tr>\n",
       "      <th>2</th>\n",
       "      <td>5 — 7</td>\n",
       "      <td>80.0</td>\n",
       "      <td>15.0</td>\n",
       "    </tr>\n",
       "    <tr>\n",
       "      <th>3</th>\n",
       "      <td>7 — 10</td>\n",
       "      <td>50.0</td>\n",
       "      <td>5.0</td>\n",
       "    </tr>\n",
       "    <tr>\n",
       "      <th>4</th>\n",
       "      <td>10 — 15</td>\n",
       "      <td>20.0</td>\n",
       "      <td>0.0</td>\n",
       "    </tr>\n",
       "  </tbody>\n",
       "</table>\n",
       "</div>"
      ],
      "text/plain": [
       "  Classes de aluguéis (codificados)  Zona urbana  Zona rural\n",
       "0                             2 — 3         10.0        30.0\n",
       "1                             3 — 5         40.0        50.0\n",
       "2                             5 — 7         80.0        15.0\n",
       "3                            7 — 10         50.0         5.0\n",
       "4                           10 — 15         20.0         0.0"
      ]
     },
     "execution_count": 33,
     "metadata": {
      "tags": []
     },
     "output_type": "execute_result"
    }
   ],
   "source": [
    "lista4 = [df6['Classes de aluguéis (codificados) Zona urbana'][0][6:12], df6['Classes de aluguéis (codificados) Zona urbana'][1][6:12], \n",
    "          df6['Classes de aluguéis (codificados) Zona urbana'][2][6:12], df6['Classes de aluguéis (codificados) Zona urbana'][3][7:12],\n",
    "          df6['Classes de aluguéis (codificados) Zona urbana'][4][8:12]]\n",
    "\n",
    "lista5 = [df6['Classes de aluguéis (codificados) Zona urbana'][0][:5], df6['Classes de aluguéis (codificados) Zona urbana'][1][:5], \n",
    "          df6['Classes de aluguéis (codificados) Zona urbana'][2][:5], df6['Classes de aluguéis (codificados) Zona urbana'][3][:6],\n",
    "          df6['Classes de aluguéis (codificados) Zona urbana'][4][:7]]\n",
    "\n",
    "#criando as novas variável\n",
    "df6['Classes de aluguéis (codificados)'] = lista5\n",
    "df6['Zona urbana'] = lista4\n",
    "df6['Zona urbana'] = df6['Zona urbana'].astype('float64')\n",
    "\n",
    "df6 = df6.drop('Classes de aluguéis (codificados) Zona urbana', axis=1)\n",
    "\n",
    "df6 = df6[['Classes de aluguéis (codificados)','Zona urbana','Zona rural']]\n",
    "\n",
    "df6"
   ]
  },
  {
   "cell_type": "markdown",
   "metadata": {
    "id": "CmNLVrqGWbKq"
   },
   "source": [
    "#### (a) Construa os histogramas das duas distribuições.\n",
    "\n",
    "Histogramas separados."
   ]
  },
  {
   "cell_type": "code",
   "execution_count": null,
   "metadata": {
    "colab": {
     "base_uri": "https://localhost:8080/",
     "height": 337
    },
    "id": "AEwW1iSvV5XP",
    "outputId": "edd22c58-c8cc-48be-c15d-3a848714c37b"
   },
   "outputs": [
    {
     "data": {
      "image/png": "[encoded data removed]",
      "text/plain": [
       "<Figure size 1440x360 with 2 Axes>"
      ]
     },
     "metadata": {
      "tags": []
     },
     "output_type": "display_data"
    }
   ],
   "source": [
    "fig, ax = plt.subplots(1,2, figsize=(20,5))\n",
    "df6.plot.bar(x='Classes de aluguéis (codificados)', \n",
    "             y='Zona urbana', rot=0, ax=ax[0])\n",
    "df6.plot.bar(x='Classes de aluguéis (codificados)', \n",
    "             y='Zona rural', rot=0, ax=ax[1], color='blue');"
   ]
  },
  {
   "cell_type": "markdown",
   "metadata": {
    "id": "buqz9WKtWdK8"
   },
   "source": [
    "Histogramas no mesmo gráficos."
   ]
  },
  {
   "cell_type": "code",
   "execution_count": null,
   "metadata": {
    "colab": {
     "base_uri": "https://localhost:8080/",
     "height": 316
    },
    "id": "zMnSPeiDV5aI",
    "outputId": "d3fad973-a4ff-4aab-c093-719218382c19"
   },
   "outputs": [
    {
     "data": {
      "image/png": "[encoded data removed]",
      "text/plain": [
       "<Figure size 720x360 with 1 Axes>"
      ]
     },
     "metadata": {
      "tags": []
     },
     "output_type": "display_data"
    }
   ],
   "source": [
    "df6[['Zona urbana','Zona rural']].plot.bar(figsize=(10,5));"
   ]
  },
  {
   "cell_type": "markdown",
   "metadata": {
    "id": "ucOXsEX5Wn2R"
   },
   "source": [
    "#### (b) Com base nos histogramas, discuta e compare as duas distribuições.\n",
    "\n",
    "**Resposta** : Pela escala em que se encontram os histogramas, vemos que os valores de aluguéis em zonas urbanas é maior que os aluguéis de zonas rurais."
   ]
  },
  {
   "cell_type": "markdown",
   "metadata": {
    "id": "jTby-3OWeaIq"
   },
   "source": [
    "## Questão 3\n",
    "\n",
    "Um artigo retirado da revista Technometrics (Vol. 19, 1977, p. 425) apresenta os seguintes dados sobre a taxa de octanagem de várias misturas de gasolina:\n",
    "\n",
    "|       ||     ||     ||    || ||       ||     ||     ||    || || ||\n",
    "|:-----:||:---:||:---:||:--:||:-:||:-----:||:---:||:---:||:--:||:-:||:-:||\n",
    "|   88,5|| 87,7|| 83,4|| 86,7 ||87,5 ||91,5 ||88,6 ||100,3 ||96,5 ||93,3 ||94,7 ||\n",
    "|    91,1 ||91,0 ||94,2 ||87,8 ||89,9 ||88,3 ||87,6 ||84,3 ||86,7 ||84,3 ||86,7 ||\n",
    "|    88,2 ||90,8 ||88,3 ||98,8 ||94,2 ||92,7 ||93,2 ||91,0 ||90,1 ||93,4 ||88,5||\n",
    "|    90,1 ||89,2 ||88,3 ||85,3 ||87,9 ||88,6 ||90,9 ||89,0 ||96,1 ||93,3|| 91,8 ||\n",
    "|  92,3|| 90,4|| 90,1|| 93,0|| 88,7|| 89,9 ||89,8 ||89,6 ||87,4 ||88,4 ||88,9 ||\n",
    "|    91,2 ||89,3 ||94,4 ||92,7 ||91,8 ||91,6 ||90,4 ||91,1 ||92,6 ||89,8 ||90,6||\n",
    "|  91,1|| 90,4|| 89,3 ||89,7|| 90,3 ||91,6 ||90,5 ||93,7 ||92,7 ||92,2 ||92,2||\n",
    "|  91,2 ||91,0 ||92,2 ||90,0 ||90,7||\n",
    "\n",
    "(a) Construa o diagrama de folhas-e-ramos para esses dados\n",
    "\n",
    "(b) Construa a distribuição de frequência e o histograma. Use 8 intervalos de classe.\n",
    "\n",
    "(c) Construa a distribuição de frequência e o histograma, agora com 16 intervalos de classe.\n",
    "\n",
    "(d) Compare a forma dos dois histogramas em b e c. Ambos os histogramas mostram\n",
    "informações similares?\n",
    "\n",
    "Base de dados."
   ]
  },
  {
   "cell_type": "code",
   "execution_count": null,
   "metadata": {
    "colab": {
     "base_uri": "https://localhost:8080/",
     "height": 191
    },
    "id": "Z4yk0fNXe2gp",
    "outputId": "afad496a-7f60-4d32-deca-3d0d8dedcc9a"
   },
   "outputs": [
    {
     "data": {
      "text/html": [
       "<div>\n",
       "<style scoped>\n",
       "    .dataframe tbody tr th:only-of-type {\n",
       "        vertical-align: middle;\n",
       "    }\n",
       "\n",
       "    .dataframe tbody tr th {\n",
       "        vertical-align: top;\n",
       "    }\n",
       "\n",
       "    .dataframe thead th {\n",
       "        text-align: right;\n",
       "    }\n",
       "</style>\n",
       "<table border=\"1\" class=\"dataframe\">\n",
       "  <thead>\n",
       "    <tr style=\"text-align: right;\">\n",
       "      <th></th>\n",
       "      <th>dados</th>\n",
       "    </tr>\n",
       "  </thead>\n",
       "  <tbody>\n",
       "    <tr>\n",
       "      <th>0</th>\n",
       "      <td>88.5</td>\n",
       "    </tr>\n",
       "    <tr>\n",
       "      <th>1</th>\n",
       "      <td>87.7</td>\n",
       "    </tr>\n",
       "    <tr>\n",
       "      <th>2</th>\n",
       "      <td>83.4</td>\n",
       "    </tr>\n",
       "    <tr>\n",
       "      <th>3</th>\n",
       "      <td>86.7</td>\n",
       "    </tr>\n",
       "    <tr>\n",
       "      <th>4</th>\n",
       "      <td>87.5</td>\n",
       "    </tr>\n",
       "  </tbody>\n",
       "</table>\n",
       "</div>"
      ],
      "text/plain": [
       "   dados\n",
       "0   88.5\n",
       "1   87.7\n",
       "2   83.4\n",
       "3   86.7\n",
       "4   87.5"
      ]
     },
     "execution_count": 36,
     "metadata": {
      "tags": []
     },
     "output_type": "execute_result"
    }
   ],
   "source": [
    "lista1 = [88.5, 87.7, 83.4, 86.7, 87.5, 91.5, 88.6, 100.3, 96.5, 93.3, 94.7,\n",
    "          91.1, 91.0, 94.2, 87.8, 89.9, 88.3, 87.6, 84.3, 86.7, 84.3, 86.7,\n",
    "          88.2, 90.8, 88.3, 98.8, 94.2, 92.7, 93.2, 91.0, 90.1, 93.4, 88.5,\n",
    "          90.1, 89.2, 88.3, 85.3, 87.9, 88.6, 90.9, 89.0, 96.1, 93.3, 91.8, \n",
    "          92.3, 90.4, 90.1, 93.0, 88.7, 89.9, 89.8, 89.6, 87.4, 88.4, 88.9,\n",
    "          91.2, 89.3, 94.4, 92.7, 91.8, 91.6, 90.4, 91.1, 92.6, 89.8, 90.6,\n",
    "          91.1, 90.4, 89.3, 89.7, 90.3, 91.6, 90.5, 93.7, 92.7, 92.2, 92.2,\n",
    "          91.2, 91.0, 92.2, 90.0, 90.7]\n",
    "\n",
    "df = pd.DataFrame(lista1, columns={'dados'})\n",
    "\n",
    "df.head()"
   ]
  },
  {
   "cell_type": "markdown",
   "metadata": {
    "id": "IalzVsGrXAW7"
   },
   "source": [
    "#### (a) Construa o diagrama de folhas-e-ramos para esses dados"
   ]
  },
  {
   "cell_type": "code",
   "execution_count": null,
   "metadata": {
    "colab": {
     "base_uri": "https://localhost:8080/",
     "height": 371
    },
    "id": "YWGc4fQwgGT_",
    "outputId": "53ef9f9d-b60c-42b7-8cd5-95fa30b943a4"
   },
   "outputs": [
    {
     "data": {
      "image/png": "[encoded data removed]",
      "text/plain": [
       "<Figure size 540x378 with 1 Axes>"
      ]
     },
     "metadata": {
      "tags": []
     },
     "output_type": "display_data"
    }
   ],
   "source": [
    "stem.stem_graphic(df['dados'], scale = 1);"
   ]
  },
  {
   "cell_type": "markdown",
   "metadata": {
    "id": "bAGb1FwHlHfh"
   },
   "source": [
    "#### (b) Construa a distribuição de frequência e o histograma. Use 8 intervalos de classe."
   ]
  },
  {
   "cell_type": "code",
   "execution_count": null,
   "metadata": {
    "colab": {
     "base_uri": "https://localhost:8080/",
     "height": 257
    },
    "id": "ZFKwI5L5isFS",
    "outputId": "26a1b7c0-8f1a-49f5-f60f-81753a447978"
   },
   "outputs": [
    {
     "data": {
      "image/png": "[encoded data removed]",
      "text/plain": [
       "<Figure size 720x180 with 2 Axes>"
      ]
     },
     "metadata": {
      "tags": []
     },
     "output_type": "display_data"
    }
   ],
   "source": [
    "fig, ax = plt.subplots(1,2, figsize=(10,2.5))\n",
    "pd.cut(df['dados'], bins=8).value_counts(sort=False).plot.bar(ax=ax[0])\n",
    "sns.histplot(df['dados'], bins=8, ax=ax[1]);"
   ]
  },
  {
   "cell_type": "markdown",
   "metadata": {
    "id": "HKxNoA5UlKNZ"
   },
   "source": [
    "#### (c) Construa a distribuição de frequência e o histograma, agora com 16 intervalos de classe."
   ]
  },
  {
   "cell_type": "code",
   "execution_count": null,
   "metadata": {
    "colab": {
     "base_uri": "https://localhost:8080/",
     "height": 257
    },
    "id": "5ix-_7BggGXs",
    "outputId": "d761e10a-d1e3-4e7b-cfbd-587447a4ab46"
   },
   "outputs": [
    {
     "data": {
      "image/png": "[encoded data removed]",
      "text/plain": [
       "<Figure size 720x180 with 2 Axes>"
      ]
     },
     "metadata": {
      "tags": []
     },
     "output_type": "display_data"
    }
   ],
   "source": [
    "fig, ax = plt.subplots(1,2, figsize=(10,2.5))\n",
    "pd.cut(df['dados'], bins=16).value_counts(sort=False).plot.bar(ax=ax[0])\n",
    "sns.histplot(df['dados'], bins=16, ax=ax[1]);"
   ]
  },
  {
   "cell_type": "markdown",
   "metadata": {
    "id": "0g4HmzK_lOQ5"
   },
   "source": [
    "#### (d) Compare a forma dos dois histogramas em b e c. Ambos os histogramas mostram informações similares?\n",
    "\n",
    "**Resposta**: Pelos histogramas vemos que os valores de aluguéis em zonas urbanas são maiores que os aluguéis de zonas rurais. O número de aluguéis na classe $5 - 7$ é bem maior em zonas urbanas do que nas rurais."
   ]
  },
  {
   "cell_type": "markdown",
   "metadata": {
    "id": "7_60BYJjeaQK"
   },
   "source": [
    "## Questão 6\n",
    "\n",
    "Estamos interessados em estudar a idade dos 12.325 funcionários da Cia. Distribuidora de Leite Teco, e isso será feito por meio de uma amostra. Para determinar que tamanho deverá ter essa amostra, foi colhida uma amostra-piloto. As idades observadas foram: 42, 35, 27, 21, 55, 18, 27, 30, 21, 24.\n",
    "\n",
    "(a) Determine as medidas descritivas dos dados que você conhece.\n",
    "\n",
    "(b) Qual dessas medidas você acredita que será a mais importante para julgar o tamanho final da amostra? Por quê?"
   ]
  },
  {
   "cell_type": "code",
   "execution_count": null,
   "metadata": {
    "id": "D7M8mBMKXIKo"
   },
   "outputs": [],
   "source": [
    "lista4 = [42,35, 27, 21, 55, 18, 27, 30, 21, 24]\n",
    "df4 = pd.DataFrame(lista4, columns={'dados'})"
   ]
  },
  {
   "cell_type": "markdown",
   "metadata": {
    "id": "P2dPDfBzXIyD"
   },
   "source": [
    "####(a) Determine as medidas descritivas dos dados que você conhece."
   ]
  },
  {
   "cell_type": "code",
   "execution_count": null,
   "metadata": {
    "colab": {
     "base_uri": "https://localhost:8080/"
    },
    "id": "tsZeS1XYXZry",
    "outputId": "8e7af240-6bd1-450b-d35f-2543eac98403"
   },
   "outputs": [
    {
     "name": "stdout",
     "output_type": "stream",
     "text": [
      "Medidas descritivas obtidas na amostra-piloto\n",
      "\n",
      "Média : 30.0\n",
      "Mediana : 27.0\n",
      "Moda : 21\n",
      "Variância : 128.222\n",
      "Desvio padrão : 11.324\n"
     ]
    }
   ],
   "source": [
    "print('Medidas descritivas obtidas na amostra-piloto')\n",
    "print(''*254)\n",
    "print('Média :',df4['dados'].mean())\n",
    "print('Mediana :',df4['dados'].median())\n",
    "print('Moda :',df4['dados'].mode()[0])\n",
    "print('Variância :',round(df4['dados'].var(),3))\n",
    "print('Desvio padrão :',round(df4['dados'].std(),3))"
   ]
  },
  {
   "cell_type": "markdown",
   "metadata": {
    "id": "Lp_n_rnBXL7E"
   },
   "source": [
    "#### (b) Qual dessas medidas você acredita que será a mais importante para julgar o tamanho final da amostra? Por quê?\n",
    "\n",
    "**Resposta** : Das medidas acima, a mais importante para a determinação do tamanho da amostra final é a variância, pois fornece informação a respeito da variabilidade da variável Idade."
   ]
  },
  {
   "cell_type": "markdown",
   "metadata": {
    "id": "TDpf_c01eaTb"
   },
   "source": [
    "## Questão 7\n",
    "\n",
    "A idade média dos candidatos a um determinado curso de aperfeiçoamento sempre foi baixa, da ordem de 22 anos. Como esse curso foi planejado para atender a todas as idades, decidiu-se fazer uma campanha de divulgação. Para se verificar se a campanha foi ou não eficiente, fez-se um levantamento da idade dos candidatos à última promoção, e os resultados estão na tabela a seguir.\n",
    "\n",
    "Extração da base de dados."
   ]
  },
  {
   "cell_type": "code",
   "execution_count": null,
   "metadata": {
    "colab": {
     "base_uri": "https://localhost:8080/"
    },
    "id": "AUYPsGJBY3Rp",
    "outputId": "b0c2a794-572c-48d5-9d62-a5147f13ca23"
   },
   "outputs": [
    {
     "name": "stderr",
     "output_type": "stream",
     "text": [
      "Got stderr: Mar 30, 2021 4:28:08 AM org.apache.pdfbox.pdmodel.font.PDType1Font <init>\n",
      "WARNING: Using fallback font LiberationSans for base font Symbol\n",
      "Mar 30, 2021 4:28:08 AM org.apache.pdfbox.pdmodel.font.PDType1Font <init>\n",
      "WARNING: Using fallback font LiberationSans for base font ZapfDingbats\n",
      "Mar 30, 2021 4:28:08 AM org.apache.pdfbox.pdmodel.font.PDType1Font <init>\n",
      "WARNING: Using fallback font LiberationSerif for NMAOKG+Times-Roman\n",
      "Mar 30, 2021 4:28:08 AM org.apache.pdfbox.pdmodel.font.PDSimpleFont toUnicode\n",
      "WARNING: No Unicode mapping for H11627 (2) in font OFIOCO+MathematicalPi-Six\n",
      "Mar 30, 2021 4:28:08 AM org.apache.pdfbox.pdmodel.font.PDType1Font <init>\n",
      "WARNING: Using fallback font LiberationSerif-Italic for NMAONI+Times-Italic\n",
      "Mar 30, 2021 4:28:08 AM org.apache.pdfbox.pdmodel.font.PDType1Font <init>\n",
      "WARNING: Using fallback font LiberationSans for SFNVVT+Helvetica\n",
      "Mar 30, 2021 4:28:10 AM org.apache.pdfbox.pdmodel.font.PDType1Font <init>\n",
      "WARNING: Using fallback font LiberationSerif for NMAOKG+Times-Roman\n",
      "Mar 30, 2021 4:28:10 AM org.apache.pdfbox.pdmodel.font.PDType1Font <init>\n",
      "WARNING: Using fallback font LiberationSerif-Italic for NMAONI+Times-Italic\n",
      "Mar 30, 2021 4:28:10 AM org.apache.pdfbox.pdmodel.font.PDType1Font <init>\n",
      "WARNING: Using fallback font LiberationSans for SFNVVT+Helvetica\n",
      "\n"
     ]
    }
   ],
   "source": [
    "dfs6 = tabula.read_pdf('_P. A. Morettin, W. de O. Bussab-Estatística Básica-Saraiva (2010).pdf',pages=80, stream=True)"
   ]
  },
  {
   "cell_type": "markdown",
   "metadata": {
    "id": "sGvqUxPIY76S"
   },
   "source": [
    "Base de dados."
   ]
  },
  {
   "cell_type": "code",
   "execution_count": null,
   "metadata": {
    "colab": {
     "base_uri": "https://localhost:8080/",
     "height": 191
    },
    "id": "aiNUZ4YJY3Tk",
    "outputId": "31d49637-26b0-475e-d22d-e0f44e0770e2"
   },
   "outputs": [
    {
     "data": {
      "text/html": [
       "<div>\n",
       "<style scoped>\n",
       "    .dataframe tbody tr th:only-of-type {\n",
       "        vertical-align: middle;\n",
       "    }\n",
       "\n",
       "    .dataframe tbody tr th {\n",
       "        vertical-align: top;\n",
       "    }\n",
       "\n",
       "    .dataframe thead th {\n",
       "        text-align: right;\n",
       "    }\n",
       "</style>\n",
       "<table border=\"1\" class=\"dataframe\">\n",
       "  <thead>\n",
       "    <tr style=\"text-align: right;\">\n",
       "      <th></th>\n",
       "      <th>Idade</th>\n",
       "      <th>Freq</th>\n",
       "      <th>Porcentagem</th>\n",
       "      <th>Média</th>\n",
       "    </tr>\n",
       "  </thead>\n",
       "  <tbody>\n",
       "    <tr>\n",
       "      <th>0</th>\n",
       "      <td>18 — 20</td>\n",
       "      <td>18</td>\n",
       "      <td>36</td>\n",
       "      <td>19.0</td>\n",
       "    </tr>\n",
       "    <tr>\n",
       "      <th>1</th>\n",
       "      <td>20 — 22</td>\n",
       "      <td>12</td>\n",
       "      <td>24</td>\n",
       "      <td>21.0</td>\n",
       "    </tr>\n",
       "    <tr>\n",
       "      <th>2</th>\n",
       "      <td>22 — 26</td>\n",
       "      <td>10</td>\n",
       "      <td>20</td>\n",
       "      <td>24.0</td>\n",
       "    </tr>\n",
       "    <tr>\n",
       "      <th>3</th>\n",
       "      <td>26 — 30</td>\n",
       "      <td>8</td>\n",
       "      <td>16</td>\n",
       "      <td>28.0</td>\n",
       "    </tr>\n",
       "    <tr>\n",
       "      <th>4</th>\n",
       "      <td>30 — 36</td>\n",
       "      <td>2</td>\n",
       "      <td>4</td>\n",
       "      <td>33.0</td>\n",
       "    </tr>\n",
       "  </tbody>\n",
       "</table>\n",
       "</div>"
      ],
      "text/plain": [
       "     Idade  Freq  Porcentagem  Média\n",
       "0  18 — 20    18           36   19.0\n",
       "1  20 — 22    12           24   21.0\n",
       "2  22 — 26    10           20   24.0\n",
       "3  26 — 30     8           16   28.0\n",
       "4  30 — 36     2            4   33.0"
      ]
     },
     "execution_count": 38,
     "metadata": {
      "tags": []
     },
     "output_type": "execute_result"
    }
   ],
   "source": [
    "df7 = dfs6[1]\n",
    "df7 = df7.rename(columns={'Freqüência':'Freq'})\n",
    "df7 = df7.drop(5, axis=0)\n",
    "\n",
    "lista5 = []\n",
    "for i in df7[0:5].index:\n",
    "  lista5.append((int(df7['Idade'][i][5:7])+int(df7['Idade'][i][0:2]))/2)\n",
    "\n",
    "df7['Média']=lista5\n",
    "\n",
    "df7"
   ]
  },
  {
   "cell_type": "markdown",
   "metadata": {
    "id": "Xo5BTelaZHF-"
   },
   "source": [
    "Cálculo da média."
   ]
  },
  {
   "cell_type": "markdown",
   "metadata": {
    "id": "JbgBRZ4cZNFe"
   },
   "source": [
    "#### (a) Baseando-se nesses resultados, você diria que a campanha produziu algum efeito (isto é, aumentou a idade média)?\n",
    "\n",
    "**Resposta**: Não, pois conforme cáculo abaixo a diferença entre a idade antes e depois é muito pequena."
   ]
  },
  {
   "cell_type": "code",
   "execution_count": null,
   "metadata": {
    "colab": {
     "base_uri": "https://localhost:8080/"
    },
    "id": "SgfHQ_8PY3Vz",
    "outputId": "9362af19-52f8-46db-a6c4-e7ffc13df733"
   },
   "outputs": [
    {
     "name": "stdout",
     "output_type": "stream",
     "text": [
      "Diferença entre a média após campanha e média anterior 0.48\n"
     ]
    }
   ],
   "source": [
    "media = (1/df7['Freq'].sum())*(df7['Média'][0]*df7['Freq'][0] + \n",
    "                               df7['Média'][1]*df7['Freq'][1] + \n",
    "                               df7['Média'][2]*df7['Freq'][2] + \n",
    "                               df7['Média'][3]*df7['Freq'][3] + \n",
    "                               df7['Média'][4]*df7['Freq'][4])\n",
    "\n",
    "\n",
    "print(\"Diferença entre a média após campanha e média anterior\",\n",
    "      round(media-22,2))"
   ]
  },
  {
   "cell_type": "markdown",
   "metadata": {
    "id": "Ta5rYvt9ZfB7"
   },
   "source": [
    "#### (b) Um outro pesquisador decidiu usar a seguinte regra: se a diferença $x$ – $22$ fosse maior que o valor $2dp(X)/\\sqrt(n)$, então a campanha teria surtido efeito. Qual a conclusão dele, baseada nos dados?\n",
    "\n",
    "Cálculo do desvio padrão."
   ]
  },
  {
   "cell_type": "code",
   "execution_count": null,
   "metadata": {
    "colab": {
     "base_uri": "https://localhost:8080/"
    },
    "id": "fuUepCJNY3XP",
    "outputId": "fc628d24-3c29-4955-b13b-e9baa2889abf"
   },
   "outputs": [
    {
     "data": {
      "text/plain": [
       "3.8274795884498194"
      ]
     },
     "execution_count": 40,
     "metadata": {
      "tags": []
     },
     "output_type": "execute_result"
    }
   ],
   "source": [
    "dp = ((df7['Freq']*((df7['Média']-media)**2)).sum()/50)**0.5\n",
    "dp"
   ]
  },
  {
   "cell_type": "markdown",
   "metadata": {
    "id": "J9xinc2fZ4bS"
   },
   "source": [
    "Pela questão \"Se diferença $x_{média} – 22$ fosse maior que o valor $\\frac{2dp}{\\sqrt(50)}$, então a campanha teria surtido efeito\". Comparando os resultados abaixo vemos que a campanha não surtiu efeito:"
   ]
  },
  {
   "cell_type": "code",
   "execution_count": null,
   "metadata": {
    "colab": {
     "base_uri": "https://localhost:8080/"
    },
    "id": "KF2mXaPzY3Y7",
    "outputId": "716dc907-3b2a-49af-fcea-33cd42e231e2"
   },
   "outputs": [
    {
     "name": "stdout",
     "output_type": "stream",
     "text": [
      "A campanha não surtiu efeito\n"
     ]
    }
   ],
   "source": [
    "if (media-22) > 2*dp/np.sqrt(50):\n",
    "  print('A campanha surtiu efeito')\n",
    "else:\n",
    "  print('A campanha não surtiu efeito')"
   ]
  },
  {
   "cell_type": "markdown",
   "metadata": {
    "id": "-GqqQUWgZ-IK"
   },
   "source": [
    "#### (c) Faça o histograma da distribuição."
   ]
  },
  {
   "cell_type": "code",
   "execution_count": null,
   "metadata": {
    "colab": {
     "base_uri": "https://localhost:8080/",
     "height": 367
    },
    "id": "RUjTXOUwY3aZ",
    "outputId": "be8d1a21-0fb4-42c1-8e85-187de8406d06"
   },
   "outputs": [
    {
     "data": {
      "image/png": "[encoded data removed]",
      "text/plain": [
       "<Figure size 720x360 with 1 Axes>"
      ]
     },
     "metadata": {
      "tags": []
     },
     "output_type": "display_data"
    }
   ],
   "source": [
    "df7.plot.bar(x='Idade', y='Freq', figsize=(10,5));"
   ]
  },
  {
   "cell_type": "markdown",
   "metadata": {
    "id": "Z7QaC6_pehJn"
   },
   "source": [
    "## Questão 8\n",
    "\n",
    "Para se estudar o desempenho de duas corretoras de ações, selecionou-se de cada\n",
    "uma delas amostras aleatórias das ações negociadas. Para cada ação selecionada,\n",
    "computou-se a porcentagem de lucro apresentada durante um período fixado de tempo. \n",
    "\n",
    "Os dados estão a seguir."
   ]
  },
  {
   "cell_type": "code",
   "execution_count": null,
   "metadata": {
    "id": "dpPlLkFSaSrk"
   },
   "outputs": [],
   "source": [
    "df8 = dfs6[0].rename(columns={'Unnamed: 0':'Corretora A ','Unnamed: 1':'Corretora A  ',\n",
    "                              'Unnamed: 2':'Corretora B ','Unnamed: 3':'Corretora B  '})\n",
    "\n",
    "#df9 = pd.concat(pd.DataFrame(df8['Corretora A ']),pd.DataFrame(df8['Corretora A']),pd.DataFrame(df8['Corretora A  ']))\n",
    "df9 = df8['Corretora A '].append(df8['Corretora A  '].append(df8['Corretora A']))\n",
    "df9 = pd.DataFrame(df9).dropna()\n",
    "\n",
    "df10 = df8['Corretora B '].append(df8['Corretora B  '].append(df8['Corretora B']))\n",
    "df10 = pd.DataFrame(df10).dropna()"
   ]
  },
  {
   "cell_type": "markdown",
   "metadata": {
    "id": "E9Qktu-mazmR"
   },
   "source": [
    "Que tipo de informação revelam esses dados? (Sugestão: use a análise proposta nas Seções 3.3 e 3.4.).\n",
    "\n",
    "**Análise**"
   ]
  },
  {
   "cell_type": "code",
   "execution_count": null,
   "metadata": {
    "colab": {
     "base_uri": "https://localhost:8080/",
     "height": 320
    },
    "id": "43UbvK6CaSt8",
    "outputId": "1ac1db0c-2e18-46d1-9180-4b87b03a93a5"
   },
   "outputs": [
    {
     "data": {
      "image/png": "[encoded data removed]",
      "text/plain": [
       "<Figure size 720x360 with 2 Axes>"
      ]
     },
     "metadata": {
      "tags": []
     },
     "output_type": "display_data"
    }
   ],
   "source": [
    "fig, ax=plt.subplots(1,2, figsize=(10,5))\n",
    "df9.boxplot(ax=ax[0])\n",
    "df10.boxplot(ax=ax[1]);"
   ]
  },
  {
   "cell_type": "markdown",
   "metadata": {
    "id": "V_hflZ04a9jB"
   },
   "source": [
    "Outra forma de plotar o *boxplot*."
   ]
  },
  {
   "cell_type": "code",
   "execution_count": null,
   "metadata": {
    "colab": {
     "base_uri": "https://localhost:8080/",
     "height": 353
    },
    "id": "5E9DjG8zaSwd",
    "outputId": "7c595e1c-0567-4664-8960-1bdc6018d682"
   },
   "outputs": [
    {
     "data": {
      "image/png": "[encoded data removed]",
      "text/plain": [
       "<Figure size 720x360 with 2 Axes>"
      ]
     },
     "metadata": {
      "tags": []
     },
     "output_type": "display_data"
    }
   ],
   "source": [
    "fig, ax = plt.subplots(1,2, figsize=(10,5))\n",
    "ax[0].title.set_text('Boxplot Corretora A')\n",
    "ax[1].title.set_text('Boxplot Corretora B')\n",
    "sns.boxplot(x=0, data = df9, ax=ax[0])\n",
    "sns.boxplot(x=0, data = df10, ax=ax[1]);"
   ]
  },
  {
   "cell_type": "markdown",
   "metadata": {
    "id": "eYo3VOmsbEd-"
   },
   "source": [
    "Métricas."
   ]
  },
  {
   "cell_type": "code",
   "execution_count": null,
   "metadata": {
    "colab": {
     "base_uri": "https://localhost:8080/"
    },
    "id": "g0cuHAOqaSx5",
    "outputId": "a486465a-66a0-4219-f526-7070006e94c2"
   },
   "outputs": [
    {
     "name": "stdout",
     "output_type": "stream",
     "text": [
      "O resumo de cinco números dos dados da corretora A\n",
      "\n",
      "Mínimo : 38.0\n",
      "1º Quartil (0.25) : 54.0\n",
      "2º Quartil (Mediana) : 55.0\n",
      "3º Quartil (0.75) : 60.0\n",
      "Máximo : 70.0\n",
      "\n",
      "O resumo de cinco números dos dados da corretora B\n",
      "\n",
      "Mínimo : 50\n",
      "1º Quartil (0.25) : 53.0\n",
      "2º Quartil (Mediana) : 56.0\n",
      "3º Quartil (0.75) : 58.0\n",
      "Máximo : 61\n"
     ]
    }
   ],
   "source": [
    "print('O resumo de cinco números dos dados da corretora A')\n",
    "print(''*254)\n",
    "print('Mínimo :', df9.min()[0])\n",
    "print('1º Quartil (0.25) :',df9[0].quantile(0.25))\n",
    "print('2º Quartil (Mediana) :',df9[0].quantile(0.5))\n",
    "print('3º Quartil (0.75) :',df9[0].quantile(0.75))\n",
    "print('Máximo :', df9.max()[0])\n",
    "print(''*254)\n",
    "print('O resumo de cinco números dos dados da corretora B')\n",
    "print(''*254)\n",
    "print('Mínimo :', df10.min()[0])\n",
    "print('1º Quartil (0.25) :',df10[0].quantile(0.25))\n",
    "print('2º Quartil (Mediana) :',df10[0].quantile(0.5))\n",
    "print('3º Quartil (0.75) :',df10[0].quantile(0.75))\n",
    "print('Máximo :', df10.max()[0])"
   ]
  },
  {
   "cell_type": "markdown",
   "metadata": {
    "id": "zrtf3gfGeaWB"
   },
   "source": [
    "## Questão 9\n",
    "\n",
    "Para decidir se o desempenho das duas corretoras do exercício 29 são semelhantes ou não, adotou-se o seguinte teste: sejam\n",
    "\n",
    "$t = \\frac{\\overline{x_A} - \\overline{x_B}}{S_{*}^{2}*\\sqrt{\\frac{1}{n_A} + \\frac{1}{n_B}}}$\n",
    "\n",
    " $S_{*}^{2} = \\frac{(n_A-1)var(X|A) + (n_B-1)var(X|B)}{n_A + n_B - 2}$\n",
    "\n",
    "Caso |t|< 2, os desempenhos são semelhantes, caso contrário, são diferentes. Qual seria a sua conclusão? Aqui, $n_A$ é o número de ações selecionadas da corretora A e nomenclatura análoga para $n_B$.\n",
    "\n",
    "Calculando $S_{*}^{2}$"
   ]
  },
  {
   "cell_type": "code",
   "execution_count": null,
   "metadata": {
    "colab": {
     "base_uri": "https://localhost:8080/"
    },
    "id": "xxmAzLGeaian",
    "outputId": "636d7fe4-cce8-4eab-afe3-7de0c31b5fe3"
   },
   "outputs": [
    {
     "data": {
      "text/plain": [
       "32.50686400686401"
      ]
     },
     "execution_count": 49,
     "metadata": {
      "tags": []
     },
     "output_type": "execute_result"
    }
   ],
   "source": [
    "S = ((len(df9)-1)*df9.var() + (len(df10)-1)*(df10.var()))/(len(df10) + len(df9) - 2)\n",
    "S[0]"
   ]
  },
  {
   "cell_type": "markdown",
   "metadata": {
    "id": "znFBAg8-brYi"
   },
   "source": [
    "Calculando *t*."
   ]
  },
  {
   "cell_type": "code",
   "execution_count": null,
   "metadata": {
    "colab": {
     "base_uri": "https://localhost:8080/"
    },
    "id": "T2WzfdJbaics",
    "outputId": "ea899e0f-0fc4-48cd-b128-0e7bf747f798"
   },
   "outputs": [
    {
     "data": {
      "text/plain": [
       "0.028123521553959883"
      ]
     },
     "execution_count": 50,
     "metadata": {
      "tags": []
     },
     "output_type": "execute_result"
    }
   ],
   "source": [
    "t = (df9.mean() - df10.mean())/(S[0]*(np.sqrt(1/len(df9) + 1/len(df10))))\n",
    "t[0]"
   ]
  },
  {
   "cell_type": "markdown",
   "metadata": {
    "id": "t8XPAHvPbwEJ"
   },
   "source": [
    "Conforme enunciado: \"Caso |t|< 2, os desempenhos são semelhantes, caso contrário, são diferentes\"."
   ]
  },
  {
   "cell_type": "code",
   "execution_count": null,
   "metadata": {
    "colab": {
     "base_uri": "https://localhost:8080/"
    },
    "id": "9mZr1e9-aiew",
    "outputId": "b4088410-31d2-469a-d488-b146fc3ab7b0"
   },
   "outputs": [
    {
     "name": "stdout",
     "output_type": "stream",
     "text": [
      "Os desempenhos das corretoras são semelhantes\n"
     ]
    }
   ],
   "source": [
    "if abs(t[0]) < 2:\n",
    "  print('Os desempenhos das corretoras são semelhantes')\n",
    "else:\n",
    "  print('Os desempenhos das corretoras não são semelhantes')"
   ]
  },
  {
   "cell_type": "markdown",
   "metadata": {
    "id": "_yFsJunwekbu"
   },
   "source": [
    "## Questão 10\n",
    "\n",
    "No Problema 9, do Capítulo 2, temos os resultados de 25 funcionários em vários exames a que se submeteram. Sabe-se agora que os critérios adotados em cada exame não são comparáveis, por isso decidiu-se usar o desempenho relativo em cada exame. Essa medida será obtida do seguinte modo:\n",
    "\n",
    "(I) Para cada exame serão calculados a média⎯x e o desvio padrão dp(X).\n",
    "(II) A nota X de cada aluno será padronizada do seguinte modo:\n",
    "\n",
    "$Z = \\frac{X - \\overline{x}}{dp(X)}$\n",
    "\n",
    "#### (a) Interprete o significado de $Z$.\n",
    "\n",
    "**Resposta**: Esse valor $Z$ é a nota padronizada, onde o valor 0 indica que o indivíduo em questão obteve a nota média. A nota $Z$ também fornece idéia sobre o desempenho de cada elemento com relação a todo o grupo.\n"
   ]
  },
  {
   "cell_type": "markdown",
   "metadata": {
    "id": "ux2EXECzcVn4"
   },
   "source": [
    "#### (b) Calcule as notas padronizadas dos funcionários para o exame de Estatística.\n"
   ]
  },
  {
   "cell_type": "code",
   "execution_count": null,
   "metadata": {
    "colab": {
     "base_uri": "https://localhost:8080/",
     "height": 766
    },
    "id": "5VJ8If1XcY0H",
    "outputId": "9b005e3e-1fac-465b-f257-c7323311a1d2"
   },
   "outputs": [
    {
     "data": {
      "text/html": [
       "<div>\n",
       "<style scoped>\n",
       "    .dataframe tbody tr th:only-of-type {\n",
       "        vertical-align: middle;\n",
       "    }\n",
       "\n",
       "    .dataframe tbody tr th {\n",
       "        vertical-align: top;\n",
       "    }\n",
       "\n",
       "    .dataframe thead th {\n",
       "        text-align: right;\n",
       "    }\n",
       "</style>\n",
       "<table border=\"1\" class=\"dataframe\">\n",
       "  <thead>\n",
       "    <tr style=\"text-align: right;\">\n",
       "      <th></th>\n",
       "      <th>Estat_z</th>\n",
       "    </tr>\n",
       "  </thead>\n",
       "  <tbody>\n",
       "    <tr>\n",
       "      <th>0</th>\n",
       "      <td>0.584615</td>\n",
       "    </tr>\n",
       "    <tr>\n",
       "      <th>1</th>\n",
       "      <td>0.584615</td>\n",
       "    </tr>\n",
       "    <tr>\n",
       "      <th>2</th>\n",
       "      <td>-0.184615</td>\n",
       "    </tr>\n",
       "    <tr>\n",
       "      <th>3</th>\n",
       "      <td>-0.184615</td>\n",
       "    </tr>\n",
       "    <tr>\n",
       "      <th>4</th>\n",
       "      <td>0.584615</td>\n",
       "    </tr>\n",
       "    <tr>\n",
       "      <th>5</th>\n",
       "      <td>1.353846</td>\n",
       "    </tr>\n",
       "    <tr>\n",
       "      <th>6</th>\n",
       "      <td>-0.184615</td>\n",
       "    </tr>\n",
       "    <tr>\n",
       "      <th>7</th>\n",
       "      <td>-0.184615</td>\n",
       "    </tr>\n",
       "    <tr>\n",
       "      <th>8</th>\n",
       "      <td>0.584615</td>\n",
       "    </tr>\n",
       "    <tr>\n",
       "      <th>9</th>\n",
       "      <td>-0.184615</td>\n",
       "    </tr>\n",
       "    <tr>\n",
       "      <th>10</th>\n",
       "      <td>1.353846</td>\n",
       "    </tr>\n",
       "    <tr>\n",
       "      <th>11</th>\n",
       "      <td>-0.953846</td>\n",
       "    </tr>\n",
       "    <tr>\n",
       "      <th>12</th>\n",
       "      <td>-0.953846</td>\n",
       "    </tr>\n",
       "    <tr>\n",
       "      <th>13</th>\n",
       "      <td>0.584615</td>\n",
       "    </tr>\n",
       "    <tr>\n",
       "      <th>14</th>\n",
       "      <td>0.584615</td>\n",
       "    </tr>\n",
       "    <tr>\n",
       "      <th>15</th>\n",
       "      <td>-0.953846</td>\n",
       "    </tr>\n",
       "    <tr>\n",
       "      <th>16</th>\n",
       "      <td>-0.184615</td>\n",
       "    </tr>\n",
       "    <tr>\n",
       "      <th>17</th>\n",
       "      <td>0.584615</td>\n",
       "    </tr>\n",
       "    <tr>\n",
       "      <th>18</th>\n",
       "      <td>-3.261538</td>\n",
       "    </tr>\n",
       "    <tr>\n",
       "      <th>19</th>\n",
       "      <td>-0.953846</td>\n",
       "    </tr>\n",
       "    <tr>\n",
       "      <th>20</th>\n",
       "      <td>-0.953846</td>\n",
       "    </tr>\n",
       "    <tr>\n",
       "      <th>21</th>\n",
       "      <td>-0.184615</td>\n",
       "    </tr>\n",
       "    <tr>\n",
       "      <th>22</th>\n",
       "      <td>1.353846</td>\n",
       "    </tr>\n",
       "    <tr>\n",
       "      <th>23</th>\n",
       "      <td>0.584615</td>\n",
       "    </tr>\n",
       "    <tr>\n",
       "      <th>24</th>\n",
       "      <td>0.584615</td>\n",
       "    </tr>\n",
       "  </tbody>\n",
       "</table>\n",
       "</div>"
      ],
      "text/plain": [
       "     Estat_z\n",
       "0   0.584615\n",
       "1   0.584615\n",
       "2  -0.184615\n",
       "3  -0.184615\n",
       "4   0.584615\n",
       "5   1.353846\n",
       "6  -0.184615\n",
       "7  -0.184615\n",
       "8   0.584615\n",
       "9  -0.184615\n",
       "10  1.353846\n",
       "11 -0.953846\n",
       "12 -0.953846\n",
       "13  0.584615\n",
       "14  0.584615\n",
       "15 -0.953846\n",
       "16 -0.184615\n",
       "17  0.584615\n",
       "18 -3.261538\n",
       "19 -0.953846\n",
       "20 -0.953846\n",
       "21 -0.184615\n",
       "22  1.353846\n",
       "23  0.584615\n",
       "24  0.584615"
      ]
     },
     "execution_count": 52,
     "metadata": {
      "tags": []
     },
     "output_type": "execute_result"
    }
   ],
   "source": [
    "df5['Estat_z'] = (df5['Estatíst.']-df5['Estatíst.'].mean())/df5['Estatíst.'].std()\n",
    "df5[['Estat_z']]"
   ]
  },
  {
   "cell_type": "markdown",
   "metadata": {
    "id": "HEFrIvFXcV0s"
   },
   "source": [
    "#### c) Com os resultados obtidos em (b), calcule $\\overline{z}$ e $dp(Z)$.\n",
    "\n",
    "**Resposta**: divisão pelo desvio-padrão, tem-se (Problema 21) que $\\overline{z}$ = 0 e $dp(Z)$ = 1."
   ]
  },
  {
   "cell_type": "markdown",
   "metadata": {
    "id": "X0GH05_ScV31"
   },
   "source": [
    "#### (d) Se alguma das notas padronizadas estiver acima de $2dp(Z)$ ou abaixo de $–2dp(Z)$, esse funcionário deve ser considerado um caso atípico. Existe algum nessa situação?\n",
    "\n",
    "**Resposta**: O valor do desvio padrão é igual a 1, assim $2dp(Z)$ = 2 e  $-$ $2dp(Z)$ = -2. Para que que uma observação seja considerada atípica, ela deve estar fora desse intervalo e nesse caso a observação de valor $Z$ = -3,26; portanto, é uma observação atípica ou um \\textit{outlier}."
   ]
  },
  {
   "cell_type": "markdown",
   "metadata": {
    "id": "t2lWzPvWcV7Y"
   },
   "source": [
    "#### (e) O funcionário 1 obteve 9,0 em Direito, em Estatística e em Política. Em que disciplina o seu desempenho relativo foi melhor?\n",
    "\n",
    "**Resposta**: Para avaliar o seu desempenho relativo, é necessário comparar as notas padronizadas nas três disciplinas. \n",
    "\n",
    "1) Em Direito, todos obtiveram 9,0, então a nota padronizada é zero.\n",
    "\n",
    "2) Em Política, a média das notas foi 7.76 e o desvio padrão foi o valor de 1.67, então a nota padronizada do funcionário 1 é 0.74. Com isso, seu desempenho relativo foi melhor em Política."
   ]
  },
  {
   "cell_type": "code",
   "execution_count": null,
   "metadata": {
    "id": "rXSdzQcnWggs"
   },
   "outputs": [],
   "source": []
  }
 ],
 "metadata": {
  "colab": {
   "name": "Resolução da primeira lista de Exercícios.ipynb",
   "provenance": [],
   "toc_visible": true
  },
  "kernelspec": {
   "display_name": "Python 3",
   "language": "python",
   "name": "python3"
  },
  "language_info": {
   "codemirror_mode": {
    "name": "ipython",
    "version": 3
   },
   "file_extension": ".py",
   "mimetype": "text/x-python",
   "name": "python",
   "nbconvert_exporter": "python",
   "pygments_lexer": "ipython3",
   "version": "3.6.8"
  }
 },
 "nbformat": 4,
 "nbformat_minor": 1
}
