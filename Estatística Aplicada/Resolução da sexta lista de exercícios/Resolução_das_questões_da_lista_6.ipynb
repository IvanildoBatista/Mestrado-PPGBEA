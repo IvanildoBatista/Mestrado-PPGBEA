{
  "nbformat": 4,
  "nbformat_minor": 0,
  "metadata": {
    "colab": {
      "name": "Resolução das questões da lista 6.ipynb",
      "provenance": []
    },
    "kernelspec": {
      "name": "python3",
      "display_name": "Python 3"
    },
    "language_info": {
      "name": "python"
    }
  },
  "cells": [
    {
      "cell_type": "markdown",
      "metadata": {
        "id": "SjjG0ym20oH-"
      },
      "source": [
        "## Questão 1\n",
        "\n",
        "Numa comunidade em que apenas dez casais trabalham, fez-se um levantamento no qual foram obtidos os seguintes valores para os rendimentos anuais:\n",
        "\n",
        "(TABELA NA QUESTÃO)\n",
        "\n",
        "Um casal é escolhido ao acaso entre os dez. Seja $X$ o rendimento do homem e $Y$ o da mulher.\n",
        "\n",
        "(a) Construa a distribuição de probabilidade conjunta de $X$ e $Y$.\n",
        "    \n",
        "(b) Determine as distribuições marginais de $X$ e $Y$.\n",
        "    \n",
        "(c) $X$ e $Y$ são v.a. independentes? Justifique.\n",
        "    \n",
        "(d) Calcule as médias e variâncias de $X$ e $Y$ e a covariância entre elas.\n",
        "    \n",
        "(e) Considere a v.a. $Z$ igual à soma dos rendimentos de cada homem e mulher. Calcule a média e variância de $Z$.\n",
        "    \n",
        "(f) Supondo que todos os casais tenham a renda de um ano disponível, e que se oferecerá ao casal escolhido a possibilidade de comprar uma casa pelo preço de 20, qual a probabilidade de que o casal escolhido possa efetuar a compra?\n",
        "\n"
      ]
    },
    {
      "cell_type": "code",
      "metadata": {
        "id": "w8M5TgcjCvK6"
      },
      "source": [
        "import numpy as np\n",
        "import pandas as pd\n",
        "import matplotlib.pyplot as plt\n",
        "\n",
        "import seaborn as sns"
      ],
      "execution_count": 154,
      "outputs": []
    },
    {
      "cell_type": "markdown",
      "metadata": {
        "id": "XOx32Q8plOxx"
      },
      "source": [
        "## letra a)"
      ]
    },
    {
      "cell_type": "code",
      "metadata": {
        "colab": {
          "base_uri": "https://localhost:8080/",
          "height": 162
        },
        "id": "QEbTMc6diyJE",
        "outputId": "af3a5691-44a2-4827-997b-933a40e39616"
      },
      "source": [
        "lista_x = [10, 10, 5, 10, 15, 10, 5, 15, 10, 5]\n",
        "lista_y = [5, 10, 5, 5, 5, 10, 10, 10, 10, 10]\n",
        "\n",
        "data = {'X' : lista_x, 'Y': lista_y}\n",
        "data = pd.DataFrame(data)\n",
        "data\n",
        "\n",
        "data_table = pd.crosstab(data[\"X\"], data[\"Y\"], normalize=True, margins=True).T\n",
        "data_table"
      ],
      "execution_count": 110,
      "outputs": [
        {
          "output_type": "execute_result",
          "data": {
            "text/html": [
              "<div>\n",
              "<style scoped>\n",
              "    .dataframe tbody tr th:only-of-type {\n",
              "        vertical-align: middle;\n",
              "    }\n",
              "\n",
              "    .dataframe tbody tr th {\n",
              "        vertical-align: top;\n",
              "    }\n",
              "\n",
              "    .dataframe thead th {\n",
              "        text-align: right;\n",
              "    }\n",
              "</style>\n",
              "<table border=\"1\" class=\"dataframe\">\n",
              "  <thead>\n",
              "    <tr style=\"text-align: right;\">\n",
              "      <th>X</th>\n",
              "      <th>5</th>\n",
              "      <th>10</th>\n",
              "      <th>15</th>\n",
              "      <th>All</th>\n",
              "    </tr>\n",
              "    <tr>\n",
              "      <th>Y</th>\n",
              "      <th></th>\n",
              "      <th></th>\n",
              "      <th></th>\n",
              "      <th></th>\n",
              "    </tr>\n",
              "  </thead>\n",
              "  <tbody>\n",
              "    <tr>\n",
              "      <th>5</th>\n",
              "      <td>0.1</td>\n",
              "      <td>0.2</td>\n",
              "      <td>0.1</td>\n",
              "      <td>0.4</td>\n",
              "    </tr>\n",
              "    <tr>\n",
              "      <th>10</th>\n",
              "      <td>0.2</td>\n",
              "      <td>0.3</td>\n",
              "      <td>0.1</td>\n",
              "      <td>0.6</td>\n",
              "    </tr>\n",
              "    <tr>\n",
              "      <th>All</th>\n",
              "      <td>0.3</td>\n",
              "      <td>0.5</td>\n",
              "      <td>0.2</td>\n",
              "      <td>1.0</td>\n",
              "    </tr>\n",
              "  </tbody>\n",
              "</table>\n",
              "</div>"
            ],
            "text/plain": [
              "X      5   10   15  All\n",
              "Y                      \n",
              "5    0.1  0.2  0.1  0.4\n",
              "10   0.2  0.3  0.1  0.6\n",
              "All  0.3  0.5  0.2  1.0"
            ]
          },
          "metadata": {
            "tags": []
          },
          "execution_count": 110
        }
      ]
    },
    {
      "cell_type": "markdown",
      "metadata": {
        "id": "PuGxoMtYlQ0g"
      },
      "source": [
        "## letra b)\n",
        "\n",
        "Distribuição marginal de *X*"
      ]
    },
    {
      "cell_type": "code",
      "metadata": {
        "colab": {
          "base_uri": "https://localhost:8080/",
          "height": 105
        },
        "id": "C1KsewnGhg4n",
        "outputId": "29d6fa42-d5f7-43bd-fbdb-ae4db4283ff0"
      },
      "source": [
        "data_table[2:3]"
      ],
      "execution_count": 66,
      "outputs": [
        {
          "output_type": "execute_result",
          "data": {
            "text/html": [
              "<div>\n",
              "<style scoped>\n",
              "    .dataframe tbody tr th:only-of-type {\n",
              "        vertical-align: middle;\n",
              "    }\n",
              "\n",
              "    .dataframe tbody tr th {\n",
              "        vertical-align: top;\n",
              "    }\n",
              "\n",
              "    .dataframe thead th {\n",
              "        text-align: right;\n",
              "    }\n",
              "</style>\n",
              "<table border=\"1\" class=\"dataframe\">\n",
              "  <thead>\n",
              "    <tr style=\"text-align: right;\">\n",
              "      <th>X</th>\n",
              "      <th>5</th>\n",
              "      <th>10</th>\n",
              "      <th>15</th>\n",
              "      <th>All</th>\n",
              "    </tr>\n",
              "    <tr>\n",
              "      <th>Y</th>\n",
              "      <th></th>\n",
              "      <th></th>\n",
              "      <th></th>\n",
              "      <th></th>\n",
              "    </tr>\n",
              "  </thead>\n",
              "  <tbody>\n",
              "    <tr>\n",
              "      <th>All</th>\n",
              "      <td>0.3</td>\n",
              "      <td>0.5</td>\n",
              "      <td>0.2</td>\n",
              "      <td>1.0</td>\n",
              "    </tr>\n",
              "  </tbody>\n",
              "</table>\n",
              "</div>"
            ],
            "text/plain": [
              "X      5   10   15  All\n",
              "Y                      \n",
              "All  0.3  0.5  0.2  1.0"
            ]
          },
          "metadata": {
            "tags": []
          },
          "execution_count": 66
        }
      ]
    },
    {
      "cell_type": "markdown",
      "metadata": {
        "id": "N1MJgLk3qIv9"
      },
      "source": [
        "Distribuição marginal de *Y*."
      ]
    },
    {
      "cell_type": "code",
      "metadata": {
        "colab": {
          "base_uri": "https://localhost:8080/"
        },
        "id": "tJ1SX0Wum7nt",
        "outputId": "159b23b5-be12-4821-d708-013c2583d7c6"
      },
      "source": [
        "data_table['All']"
      ],
      "execution_count": 67,
      "outputs": [
        {
          "output_type": "execute_result",
          "data": {
            "text/plain": [
              "Y\n",
              "5      0.4\n",
              "10     0.6\n",
              "All    1.0\n",
              "Name: All, dtype: float64"
            ]
          },
          "metadata": {
            "tags": []
          },
          "execution_count": 67
        }
      ]
    },
    {
      "cell_type": "markdown",
      "metadata": {
        "id": "6KxRsDu7qbUZ"
      },
      "source": [
        "## letra c)\n",
        "\n",
        "Para que a condição de independência seja garantida é necessário que $P(X \\cap Y) = P(X) \\cdot P(Y)$ ou seja $P(X=5, Y=5) = P(X=5) \\cdot P(Y=5)$\n",
        "\n",
        "A probabilidade de $P(X=5,Y=5)$ é"
      ]
    },
    {
      "cell_type": "code",
      "metadata": {
        "colab": {
          "base_uri": "https://localhost:8080/"
        },
        "id": "K_5x1i2on7h3",
        "outputId": "193b2a41-b5f6-47f7-a3c7-4a476a578417"
      },
      "source": [
        "print('Probabilidade dos valores de X e Y serem iguais a 5 :',data_table[5][5])\n",
        "print('Probabilidade de X ser igual a 5 :',data_table[5]['All'])\n",
        "print('Probabilidade de Y ser igual a 5 :',data_table['All'][5])"
      ],
      "execution_count": 111,
      "outputs": [
        {
          "output_type": "stream",
          "text": [
            "Probabilidade dos valores de X e Y serem iguais a 5 : 0.1\n",
            "Probabilidade de X ser igual a 5 : 0.3\n",
            "Probabilidade de Y ser igual a 5 : 0.4\n"
          ],
          "name": "stdout"
        }
      ]
    },
    {
      "cell_type": "markdown",
      "metadata": {
        "id": "eWtGv7rgsUYx"
      },
      "source": [
        "agora vamos comparar se $P(X=5, Y=5)$ é igual a $P(X=5) \\cdot P(Y=5)$."
      ]
    },
    {
      "cell_type": "code",
      "metadata": {
        "colab": {
          "base_uri": "https://localhost:8080/"
        },
        "id": "vRQhfKVbn7pZ",
        "outputId": "fa50609a-d477-40db-af34-11b96efc6b73"
      },
      "source": [
        "data_table[5][5] == data_table[5]['All']*data_table['All'][5]"
      ],
      "execution_count": 82,
      "outputs": [
        {
          "output_type": "execute_result",
          "data": {
            "text/plain": [
              "False"
            ]
          },
          "metadata": {
            "tags": []
          },
          "execution_count": 82
        }
      ]
    },
    {
      "cell_type": "markdown",
      "metadata": {
        "id": "QXqHXmkO2EVe"
      },
      "source": [
        "O resultado retornou `False`, então as variáveis não são independentes."
      ]
    },
    {
      "cell_type": "markdown",
      "metadata": {
        "id": "U-di3T1OsuvN"
      },
      "source": [
        "## letra d)"
      ]
    },
    {
      "cell_type": "code",
      "metadata": {
        "colab": {
          "base_uri": "https://localhost:8080/"
        },
        "id": "_lg5ohlhsk0o",
        "outputId": "a9add2fe-bc8c-4685-92df-93e8a4b55d09"
      },
      "source": [
        "print('Média da variável X :',data['X'].mean())\n",
        "print('Média da variável Y :',data['Y'].mean())\n",
        "print(''*254)\n",
        "print('Variância da variável X :',data['X'].var())\n",
        "print('Variância da variável Y :',data['Y'].var())\n",
        "print(''*254)\n",
        "print('Covariância entre as variáveis X e Y:', \n",
        "      ((data['X'] - data['X'].mean())*(data['Y'] - data['Y'].mean())).sum()\n",
        "      /(len(data['X'])))"
      ],
      "execution_count": 178,
      "outputs": [
        {
          "output_type": "stream",
          "text": [
            "Média da variável X : 9.5\n",
            "Média da variável Y : 8.0\n",
            "\n",
            "Variância da variável X : 13.61111111111111\n",
            "Variância da variável Y : 6.666666666666667\n",
            "\n",
            "Covariância entre as variáveis X e Y: -1.0\n"
          ],
          "name": "stdout"
        }
      ]
    },
    {
      "cell_type": "markdown",
      "metadata": {
        "id": "-kBXuaNStUWt"
      },
      "source": [
        "## letra e)"
      ]
    },
    {
      "cell_type": "code",
      "metadata": {
        "colab": {
          "base_uri": "https://localhost:8080/"
        },
        "id": "MIQtGMq2tP07",
        "outputId": "6ee71e1e-f3c8-4362-aa92-80dfa5927bc3"
      },
      "source": [
        "data['Z'] = data['X'] + data['Y']\n",
        "\n",
        "print('Média da variável Z :',data['Z'].mean())\n",
        "print('Variância da variável Z :',data['Z'].var())"
      ],
      "execution_count": 85,
      "outputs": [
        {
          "output_type": "stream",
          "text": [
            "Média da variável Z : 17.5\n",
            "Variância da variável Z : 18.055555555555557\n"
          ],
          "name": "stdout"
        }
      ]
    },
    {
      "cell_type": "markdown",
      "metadata": {
        "id": "dNMZnO5KzqMz"
      },
      "source": [
        "## letra f)\n",
        "\n",
        "Necessário selecionar obsevarções cuja a soma dos salários dos casais seja igual ou maior que 20. Como esses salários estão somados na variável *Z*, basta selecionar os valores que maiores iguais a 20."
      ]
    },
    {
      "cell_type": "code",
      "metadata": {
        "colab": {
          "base_uri": "https://localhost:8080/"
        },
        "id": "IRy6Pu3jtcYd",
        "outputId": "77f181bd-d7fd-4f9c-a73c-de8b47835c18"
      },
      "source": [
        "print('A probabilidade de um casal escolhido comprar uma casa é de',\n",
        "      (len(data[data['Z']>=20])/len(data))*100,'%')"
      ],
      "execution_count": 109,
      "outputs": [
        {
          "output_type": "stream",
          "text": [
            "A probabilidade de um casal escolhido comprar uma casa é de 50.0 %\n"
          ],
          "name": "stdout"
        }
      ]
    },
    {
      "cell_type": "markdown",
      "metadata": {
        "id": "e08q-5p_2kYI"
      },
      "source": [
        "# Questão 2\n",
        "\n",
        "Suponha que realizemos um experimento e os resultados possíveis sejam $\\omega_1$, $\\omega_2$, $\\omega_3$, $\\omega_4$, $\\omega_5$. Definamos as v.a. $X$ e $Y$ cujos valores em cada ponto são dados na tabela a seguir.\n",
        "\n",
        "(TABELA NA QUESTÃO)\n",
        "\n",
        "Obtenha as distribuições de probabilidades de $X$, $Y$, $X+Y$, $X-Y-1$ e $X-Y$, supondo que os cinco resultados tenham a mesma probabilidade. Faça um diagrama de dispersão para as variáveis $X$ e $Y$. Idem para $X$ e $X+Y$."
      ]
    },
    {
      "cell_type": "code",
      "metadata": {
        "id": "7jR5KRe42jkh"
      },
      "source": [
        "lista1 = [3,2,2,1,3]\n",
        "lista2 = [1,2,0,0,2]\n",
        "\n",
        "data2 = pd.DataFrame({'X' : lista1,'Y' : lista2})\n",
        "data2['X+Y'] = data2['X']+data2['Y']\n",
        "data2['X-Y-1'] = data2['X']-data2['Y']-1\n",
        "data2['X-Y'] = data2['X']-data2['Y']"
      ],
      "execution_count": 144,
      "outputs": []
    },
    {
      "cell_type": "code",
      "metadata": {
        "colab": {
          "base_uri": "https://localhost:8080/",
          "height": 133
        },
        "id": "U4l7A2jk3XKD",
        "outputId": "98e3faa0-a860-4c07-fd54-c6949c90d20d"
      },
      "source": [
        "pd.DataFrame(data2['X'].value_counts()/len(data2))"
      ],
      "execution_count": 146,
      "outputs": [
        {
          "output_type": "execute_result",
          "data": {
            "text/html": [
              "<div>\n",
              "<style scoped>\n",
              "    .dataframe tbody tr th:only-of-type {\n",
              "        vertical-align: middle;\n",
              "    }\n",
              "\n",
              "    .dataframe tbody tr th {\n",
              "        vertical-align: top;\n",
              "    }\n",
              "\n",
              "    .dataframe thead th {\n",
              "        text-align: right;\n",
              "    }\n",
              "</style>\n",
              "<table border=\"1\" class=\"dataframe\">\n",
              "  <thead>\n",
              "    <tr style=\"text-align: right;\">\n",
              "      <th></th>\n",
              "      <th>X</th>\n",
              "    </tr>\n",
              "  </thead>\n",
              "  <tbody>\n",
              "    <tr>\n",
              "      <th>3</th>\n",
              "      <td>0.4</td>\n",
              "    </tr>\n",
              "    <tr>\n",
              "      <th>2</th>\n",
              "      <td>0.4</td>\n",
              "    </tr>\n",
              "    <tr>\n",
              "      <th>1</th>\n",
              "      <td>0.2</td>\n",
              "    </tr>\n",
              "  </tbody>\n",
              "</table>\n",
              "</div>"
            ],
            "text/plain": [
              "     X\n",
              "3  0.4\n",
              "2  0.4\n",
              "1  0.2"
            ]
          },
          "metadata": {
            "tags": []
          },
          "execution_count": 146
        }
      ]
    },
    {
      "cell_type": "code",
      "metadata": {
        "colab": {
          "base_uri": "https://localhost:8080/",
          "height": 133
        },
        "id": "j6pAX0cg6MRk",
        "outputId": "59f8ba53-afee-4e8f-ca31-2ec0218d4653"
      },
      "source": [
        "pd.DataFrame(data2['Y'].value_counts()/len(data2))"
      ],
      "execution_count": 147,
      "outputs": [
        {
          "output_type": "execute_result",
          "data": {
            "text/html": [
              "<div>\n",
              "<style scoped>\n",
              "    .dataframe tbody tr th:only-of-type {\n",
              "        vertical-align: middle;\n",
              "    }\n",
              "\n",
              "    .dataframe tbody tr th {\n",
              "        vertical-align: top;\n",
              "    }\n",
              "\n",
              "    .dataframe thead th {\n",
              "        text-align: right;\n",
              "    }\n",
              "</style>\n",
              "<table border=\"1\" class=\"dataframe\">\n",
              "  <thead>\n",
              "    <tr style=\"text-align: right;\">\n",
              "      <th></th>\n",
              "      <th>Y</th>\n",
              "    </tr>\n",
              "  </thead>\n",
              "  <tbody>\n",
              "    <tr>\n",
              "      <th>2</th>\n",
              "      <td>0.4</td>\n",
              "    </tr>\n",
              "    <tr>\n",
              "      <th>0</th>\n",
              "      <td>0.4</td>\n",
              "    </tr>\n",
              "    <tr>\n",
              "      <th>1</th>\n",
              "      <td>0.2</td>\n",
              "    </tr>\n",
              "  </tbody>\n",
              "</table>\n",
              "</div>"
            ],
            "text/plain": [
              "     Y\n",
              "2  0.4\n",
              "0  0.4\n",
              "1  0.2"
            ]
          },
          "metadata": {
            "tags": []
          },
          "execution_count": 147
        }
      ]
    },
    {
      "cell_type": "code",
      "metadata": {
        "colab": {
          "base_uri": "https://localhost:8080/",
          "height": 162
        },
        "id": "rYuK7Ex066L0",
        "outputId": "a423f65f-c499-4504-8377-d344a467ada8"
      },
      "source": [
        "pd.DataFrame(data2['X+Y'].value_counts()/len(data2))"
      ],
      "execution_count": 148,
      "outputs": [
        {
          "output_type": "execute_result",
          "data": {
            "text/html": [
              "<div>\n",
              "<style scoped>\n",
              "    .dataframe tbody tr th:only-of-type {\n",
              "        vertical-align: middle;\n",
              "    }\n",
              "\n",
              "    .dataframe tbody tr th {\n",
              "        vertical-align: top;\n",
              "    }\n",
              "\n",
              "    .dataframe thead th {\n",
              "        text-align: right;\n",
              "    }\n",
              "</style>\n",
              "<table border=\"1\" class=\"dataframe\">\n",
              "  <thead>\n",
              "    <tr style=\"text-align: right;\">\n",
              "      <th></th>\n",
              "      <th>X+Y</th>\n",
              "    </tr>\n",
              "  </thead>\n",
              "  <tbody>\n",
              "    <tr>\n",
              "      <th>4</th>\n",
              "      <td>0.4</td>\n",
              "    </tr>\n",
              "    <tr>\n",
              "      <th>5</th>\n",
              "      <td>0.2</td>\n",
              "    </tr>\n",
              "    <tr>\n",
              "      <th>2</th>\n",
              "      <td>0.2</td>\n",
              "    </tr>\n",
              "    <tr>\n",
              "      <th>1</th>\n",
              "      <td>0.2</td>\n",
              "    </tr>\n",
              "  </tbody>\n",
              "</table>\n",
              "</div>"
            ],
            "text/plain": [
              "   X+Y\n",
              "4  0.4\n",
              "5  0.2\n",
              "2  0.2\n",
              "1  0.2"
            ]
          },
          "metadata": {
            "tags": []
          },
          "execution_count": 148
        }
      ]
    },
    {
      "cell_type": "code",
      "metadata": {
        "colab": {
          "base_uri": "https://localhost:8080/",
          "height": 133
        },
        "id": "ptp3iGYL66OD",
        "outputId": "83bfb5a5-b22e-4e43-a74b-ab5049d6be40"
      },
      "source": [
        "pd.DataFrame(data2['X-Y-1'].value_counts()/len(data2))"
      ],
      "execution_count": 149,
      "outputs": [
        {
          "output_type": "execute_result",
          "data": {
            "text/html": [
              "<div>\n",
              "<style scoped>\n",
              "    .dataframe tbody tr th:only-of-type {\n",
              "        vertical-align: middle;\n",
              "    }\n",
              "\n",
              "    .dataframe tbody tr th {\n",
              "        vertical-align: top;\n",
              "    }\n",
              "\n",
              "    .dataframe thead th {\n",
              "        text-align: right;\n",
              "    }\n",
              "</style>\n",
              "<table border=\"1\" class=\"dataframe\">\n",
              "  <thead>\n",
              "    <tr style=\"text-align: right;\">\n",
              "      <th></th>\n",
              "      <th>X-Y-1</th>\n",
              "    </tr>\n",
              "  </thead>\n",
              "  <tbody>\n",
              "    <tr>\n",
              "      <th>0</th>\n",
              "      <td>0.4</td>\n",
              "    </tr>\n",
              "    <tr>\n",
              "      <th>1</th>\n",
              "      <td>0.4</td>\n",
              "    </tr>\n",
              "    <tr>\n",
              "      <th>-1</th>\n",
              "      <td>0.2</td>\n",
              "    </tr>\n",
              "  </tbody>\n",
              "</table>\n",
              "</div>"
            ],
            "text/plain": [
              "    X-Y-1\n",
              " 0    0.4\n",
              " 1    0.4\n",
              "-1    0.2"
            ]
          },
          "metadata": {
            "tags": []
          },
          "execution_count": 149
        }
      ]
    },
    {
      "cell_type": "code",
      "metadata": {
        "colab": {
          "base_uri": "https://localhost:8080/",
          "height": 133
        },
        "id": "4KLqV82y66Qb",
        "outputId": "246f055c-577b-4ebc-c350-08785c59f5c5"
      },
      "source": [
        "pd.DataFrame(data2['X-Y'].value_counts()/len(data2))"
      ],
      "execution_count": 150,
      "outputs": [
        {
          "output_type": "execute_result",
          "data": {
            "text/html": [
              "<div>\n",
              "<style scoped>\n",
              "    .dataframe tbody tr th:only-of-type {\n",
              "        vertical-align: middle;\n",
              "    }\n",
              "\n",
              "    .dataframe tbody tr th {\n",
              "        vertical-align: top;\n",
              "    }\n",
              "\n",
              "    .dataframe thead th {\n",
              "        text-align: right;\n",
              "    }\n",
              "</style>\n",
              "<table border=\"1\" class=\"dataframe\">\n",
              "  <thead>\n",
              "    <tr style=\"text-align: right;\">\n",
              "      <th></th>\n",
              "      <th>X-Y</th>\n",
              "    </tr>\n",
              "  </thead>\n",
              "  <tbody>\n",
              "    <tr>\n",
              "      <th>2</th>\n",
              "      <td>0.4</td>\n",
              "    </tr>\n",
              "    <tr>\n",
              "      <th>1</th>\n",
              "      <td>0.4</td>\n",
              "    </tr>\n",
              "    <tr>\n",
              "      <th>0</th>\n",
              "      <td>0.2</td>\n",
              "    </tr>\n",
              "  </tbody>\n",
              "</table>\n",
              "</div>"
            ],
            "text/plain": [
              "   X-Y\n",
              "2  0.4\n",
              "1  0.4\n",
              "0  0.2"
            ]
          },
          "metadata": {
            "tags": []
          },
          "execution_count": 150
        }
      ]
    },
    {
      "cell_type": "code",
      "metadata": {
        "colab": {
          "base_uri": "https://localhost:8080/",
          "height": 336
        },
        "id": "YVrjAuDz66V5",
        "outputId": "6e01ba37-26ac-4355-a3cf-c63290d5f6c1"
      },
      "source": [
        "%matplotlib inline\n",
        "fig, ax = plt.subplots(1,2, figsize=(15,5))\n",
        "ax[0].title.set_text('Gráfico de dispersão de X e Y')\n",
        "ax[1].title.set_text('Gráfico de dispersão de X e X+Y')\n",
        "ax[0].scatter(data2['X'], data2['Y'], s=100, c='red', alpha=0.5)\n",
        "ax[1].scatter(data2['X'], data2['X+Y'], s=100, c='blue', alpha=0.5)\n",
        "plt.show()"
      ],
      "execution_count": 181,
      "outputs": [
        {
          "output_type": "display_data",
          "data": {
            "image/png": "[encoded data removed]",
            "text/plain": [
              "<Figure size 1080x360 with 2 Axes>"
            ]
          },
          "metadata": {
            "tags": [],
            "needs_background": "light"
          }
        }
      ]
    }
  ]
}