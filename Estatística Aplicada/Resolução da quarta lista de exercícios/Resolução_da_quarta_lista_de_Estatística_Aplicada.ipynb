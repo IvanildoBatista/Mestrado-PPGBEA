{
  "nbformat": 4,
  "nbformat_minor": 0,
  "metadata": {
    "colab": {
      "name": "Resolução da quarta lista de Estatística Aplicada.ipynb",
      "provenance": []
    },
    "kernelspec": {
      "name": "python3",
      "display_name": "Python 3"
    },
    "language_info": {
      "name": "python"
    }
  },
  "cells": [
    {
      "cell_type": "markdown",
      "metadata": {
        "id": "D93BI6LHUJCB"
      },
      "source": [
        "O presidente da *Martin Corporation* está considerando duas alternativas de investimento $X$ e $Y$. Se cada uma das alternativas for levada a diante há 4 possibilidades de resultado. O valor presente líquido e sua respectiva probabilidade de ocorrência são mostrados abaixo:\n",
        "\n",
        "a) Qual é o valor esperado do valor presente do lucro para os investimentos $X$ e $Y$? E qual das oportunidades é a mais interessante (maior valor esperado do VPLucro)? \n",
        "    \n",
        "b) Qual a variância do valor presente do lucro para os investimentos $X$ e $Y$? E qual das oportunidades é a mais arriscada (maior variância do VPLucro)? "
      ]
    },
    {
      "cell_type": "code",
      "metadata": {
        "id": "kH8B8gH7kX-w"
      },
      "source": [
        "import pandas as pd\n",
        "import numpy as np"
      ],
      "execution_count": 1,
      "outputs": []
    },
    {
      "cell_type": "code",
      "metadata": {
        "colab": {
          "base_uri": "https://localhost:8080/",
          "height": 172
        },
        "id": "F6U2IZZYmw6z",
        "outputId": "01fd4556-8392-46cd-ba66-04a72a0df1ca"
      },
      "source": [
        "d = {'VP Lucro X' : [20,8,10,3], \n",
        "     'Probabilidade X' : [0.2,0.3,0.4,0.1],\n",
        "     'VP Lucro Y' : [12,9,16,11], \n",
        "     'Probabilidade Y' : [0.1,0.3,0.1,0.5]}\n",
        "resultado = pd.DataFrame(d)\n",
        "resultado"
      ],
      "execution_count": 2,
      "outputs": [
        {
          "output_type": "execute_result",
          "data": {
            "text/html": [
              "<div>\n",
              "<style scoped>\n",
              "    .dataframe tbody tr th:only-of-type {\n",
              "        vertical-align: middle;\n",
              "    }\n",
              "\n",
              "    .dataframe tbody tr th {\n",
              "        vertical-align: top;\n",
              "    }\n",
              "\n",
              "    .dataframe thead th {\n",
              "        text-align: right;\n",
              "    }\n",
              "</style>\n",
              "<table border=\"1\" class=\"dataframe\">\n",
              "  <thead>\n",
              "    <tr style=\"text-align: right;\">\n",
              "      <th></th>\n",
              "      <th>VP Lucro X</th>\n",
              "      <th>Probabilidade X</th>\n",
              "      <th>VP Lucro Y</th>\n",
              "      <th>Probabilidade Y</th>\n",
              "    </tr>\n",
              "  </thead>\n",
              "  <tbody>\n",
              "    <tr>\n",
              "      <th>0</th>\n",
              "      <td>20</td>\n",
              "      <td>0.2</td>\n",
              "      <td>12</td>\n",
              "      <td>0.1</td>\n",
              "    </tr>\n",
              "    <tr>\n",
              "      <th>1</th>\n",
              "      <td>8</td>\n",
              "      <td>0.3</td>\n",
              "      <td>9</td>\n",
              "      <td>0.3</td>\n",
              "    </tr>\n",
              "    <tr>\n",
              "      <th>2</th>\n",
              "      <td>10</td>\n",
              "      <td>0.4</td>\n",
              "      <td>16</td>\n",
              "      <td>0.1</td>\n",
              "    </tr>\n",
              "    <tr>\n",
              "      <th>3</th>\n",
              "      <td>3</td>\n",
              "      <td>0.1</td>\n",
              "      <td>11</td>\n",
              "      <td>0.5</td>\n",
              "    </tr>\n",
              "  </tbody>\n",
              "</table>\n",
              "</div>"
            ],
            "text/plain": [
              "   VP Lucro X  Probabilidade X  VP Lucro Y  Probabilidade Y\n",
              "0          20              0.2          12              0.1\n",
              "1           8              0.3           9              0.3\n",
              "2          10              0.4          16              0.1\n",
              "3           3              0.1          11              0.5"
            ]
          },
          "metadata": {
            "tags": []
          },
          "execution_count": 2
        }
      ]
    },
    {
      "cell_type": "markdown",
      "metadata": {
        "id": "sIOz6LNDnrGd"
      },
      "source": [
        "letra a)"
      ]
    },
    {
      "cell_type": "code",
      "metadata": {
        "id": "PasaqR52urYn"
      },
      "source": [
        "valor_x  = (resultado['VP Lucro X']*resultado['Probabilidade X']).sum()\n",
        "valor_y = (resultado['VP Lucro Y']*resultado['Probabilidade Y']).sum()"
      ],
      "execution_count": 33,
      "outputs": []
    },
    {
      "cell_type": "code",
      "metadata": {
        "colab": {
          "base_uri": "https://localhost:8080/"
        },
        "id": "rr-78Sp9nmun",
        "outputId": "5061fbd5-bf7d-481c-c6b7-f7400e15d43c"
      },
      "source": [
        "print('Valor esperado do investimento X:',round(valor_x,2))\n",
        "print('Valor esperado do investimento Y:',valor_y)"
      ],
      "execution_count": 36,
      "outputs": [
        {
          "output_type": "stream",
          "text": [
            "Valor esperado do investimento X: 10.7\n",
            "Valor esperado do investimento Y: 11.0\n"
          ],
          "name": "stdout"
        }
      ]
    },
    {
      "cell_type": "markdown",
      "metadata": {
        "id": "uQ50oJgDpzD0"
      },
      "source": [
        "letra b)"
      ]
    },
    {
      "cell_type": "code",
      "metadata": {
        "colab": {
          "base_uri": "https://localhost:8080/"
        },
        "id": "SY6PdcUDqd1R",
        "outputId": "2d7fdad2-0701-46bf-8058-c29df24a9fe8"
      },
      "source": [
        "print('A variância do investimento X:',\n",
        "      (((resultado['VP Lucro X']-valor_x)**2)*resultado['Probabilidade X']).sum())\n",
        "print('A variância do investimento Y:',\n",
        "      (((resultado['VP Lucro Y']-valor_y)**2)*resultado['Probabilidade Y']).sum())"
      ],
      "execution_count": 39,
      "outputs": [
        {
          "output_type": "stream",
          "text": [
            "A variância do investimento X: 25.610000000000003\n",
            "A variância do investimento Y: 3.8\n"
          ],
          "name": "stdout"
        }
      ]
    }
  ]
}