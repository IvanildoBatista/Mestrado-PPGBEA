{
  "nbformat": 4,
  "nbformat_minor": 0,
  "metadata": {
    "colab": {
      "name": "Resolução da questão 4 da lista 4.ipynb",
      "provenance": []
    },
    "kernelspec": {
      "name": "python3",
      "display_name": "Python 3"
    },
    "language_info": {
      "name": "python"
    }
  },
  "cells": [
    {
      "cell_type": "markdown",
      "metadata": {
        "id": "FsK4-ZcwPyMy"
      },
      "source": [
        "Certo tipo de câmera digital é oferecida em duas versões de três megapixel e quatro megapixel. Uma loja de câmeras recebeu uma encomenda de 15 dessas câmeras, das quais seis com resolução de três megapixel. Suponha que cinco delas sejam selecionadas aleatoriamente para serem estocadas atrás do balcão. As outras 10 são colocadas na área de armazenagem. Seja X número de câmeras de três megapixel entre as cinco selecionadas para armazenagem atrás do balcão.\n",
        "\n",
        "Importando o módulo da biblioteca *Scipy*."
      ]
    },
    {
      "cell_type": "code",
      "metadata": {
        "id": "-tMNXDWtIv5r"
      },
      "source": [
        "from scipy.special import binom"
      ],
      "execution_count": 21,
      "outputs": []
    },
    {
      "cell_type": "markdown",
      "metadata": {
        "id": "tYmGwONhP_je"
      },
      "source": [
        "Criando uma função que calcula a probabilidade da distribuição Hipergeométrica."
      ]
    },
    {
      "cell_type": "markdown",
      "metadata": {
        "id": "a44iA5yLQG0I"
      },
      "source": [
        "letra a)\n",
        "\n",
        "Assuma que a população possua *M* sucessos e *N-M* falhas. Onde K é o número de sucessos em uma amostra aleatória, então a função de probabilidade é dada por\n",
        "\n",
        "$P(k,n,M,N) = \\frac{\\binom{n}{k}\\binom{N-M}{n-k}}{\\binom{N}{n}} $\n",
        "\n",
        "Então temos que os parâmetros são $n = 5, M=10, N=15$"
      ]
    },
    {
      "cell_type": "markdown",
      "metadata": {
        "id": "0uMu5zJiQKVr"
      },
      "source": [
        "letra b)\n"
      ]
    },
    {
      "cell_type": "code",
      "metadata": {
        "id": "3AaEyNPPKLzE"
      },
      "source": [
        "def prob_hiper(k, M, n, N):\n",
        "  a=N-M\n",
        "  b=n-k\n",
        "  c=N-n\n",
        "  return (binom(M,k)*binom(a,b))/(binom(N,n))"
      ],
      "execution_count": 48,
      "outputs": []
    },
    {
      "cell_type": "code",
      "metadata": {
        "colab": {
          "base_uri": "https://localhost:8080/"
        },
        "id": "RJ_kWE9AKmKZ",
        "outputId": "10641bd7-cecc-4618-fd2d-40e892d19a77"
      },
      "source": [
        "round(prob_hiper(2,10,5,15),2)"
      ],
      "execution_count": 59,
      "outputs": [
        {
          "output_type": "execute_result",
          "data": {
            "text/plain": [
              "0.15"
            ]
          },
          "metadata": {
            "tags": []
          },
          "execution_count": 59
        }
      ]
    },
    {
      "cell_type": "code",
      "metadata": {
        "colab": {
          "base_uri": "https://localhost:8080/"
        },
        "id": "ZSP_EfUAK07m",
        "outputId": "0fb319db-06e0-43ef-9d35-2a6b3ec943fe"
      },
      "source": [
        "round(prob_hiper(0,10,5,15)+prob_hiper(1,10,5,15)+prob_hiper(2,10,5,15),2)"
      ],
      "execution_count": 60,
      "outputs": [
        {
          "output_type": "execute_result",
          "data": {
            "text/plain": [
              "0.17"
            ]
          },
          "metadata": {
            "tags": []
          },
          "execution_count": 60
        }
      ]
    },
    {
      "cell_type": "code",
      "metadata": {
        "colab": {
          "base_uri": "https://localhost:8080/"
        },
        "id": "3NPLaFW2Mgpj",
        "outputId": "6cbaddae-5034-46c1-8ff7-d79f4e7eb9c0"
      },
      "source": [
        "round(1 - prob_hiper(0,10,5,15) - prob_hiper(1,10,5,15),2)"
      ],
      "execution_count": 61,
      "outputs": [
        {
          "output_type": "execute_result",
          "data": {
            "text/plain": [
              "0.98"
            ]
          },
          "metadata": {
            "tags": []
          },
          "execution_count": 61
        }
      ]
    },
    {
      "cell_type": "markdown",
      "metadata": {
        "id": "GV95_oQaXYUq"
      },
      "source": [
        "letra c)"
      ]
    },
    {
      "cell_type": "code",
      "metadata": {
        "id": "cFh18d36Oe4l"
      },
      "source": [
        "#função da média\n",
        "def media_hiper(M, n, N):\n",
        "  return ((n)*(M/N))\n",
        "\n",
        "#função da variância\n",
        "def variancia_hiper(M, n, N):\n",
        "  return ((N-n)/(N-1))*n*(M/N)*(1-(M/N))\n",
        "\n",
        "#Função do desvio padrão\n",
        "def desvio_padrao_hiper(M, n, N):\n",
        "  return (((N-n)/(N-1))*n*(M/N)*(1-(M/N)))**0.5"
      ],
      "execution_count": 63,
      "outputs": []
    },
    {
      "cell_type": "code",
      "metadata": {
        "colab": {
          "base_uri": "https://localhost:8080/"
        },
        "id": "e0aDXZFkUKGm",
        "outputId": "af30f40b-b74b-481b-e3d8-218368beb6c3"
      },
      "source": [
        "round(media_hiper(10,5,15),2)"
      ],
      "execution_count": 71,
      "outputs": [
        {
          "output_type": "execute_result",
          "data": {
            "text/plain": [
              "3.33"
            ]
          },
          "metadata": {
            "tags": []
          },
          "execution_count": 71
        }
      ]
    },
    {
      "cell_type": "code",
      "metadata": {
        "colab": {
          "base_uri": "https://localhost:8080/"
        },
        "id": "IZlPeTVyUKJ_",
        "outputId": "c2a35cf4-7c5a-4fa4-c125-d47ffa403ffc"
      },
      "source": [
        "round(variancia_hiper(10,5,15),2)"
      ],
      "execution_count": 72,
      "outputs": [
        {
          "output_type": "execute_result",
          "data": {
            "text/plain": [
              "0.79"
            ]
          },
          "metadata": {
            "tags": []
          },
          "execution_count": 72
        }
      ]
    },
    {
      "cell_type": "code",
      "metadata": {
        "colab": {
          "base_uri": "https://localhost:8080/"
        },
        "id": "FwWuXZ4uVEs-",
        "outputId": "b139ee79-3f0b-4859-a078-2c4d2ba1305c"
      },
      "source": [
        "round(desvio_padrao_hiper(10,5,15),2)"
      ],
      "execution_count": 73,
      "outputs": [
        {
          "output_type": "execute_result",
          "data": {
            "text/plain": [
              "0.89"
            ]
          },
          "metadata": {
            "tags": []
          },
          "execution_count": 73
        }
      ]
    }
  ]
}