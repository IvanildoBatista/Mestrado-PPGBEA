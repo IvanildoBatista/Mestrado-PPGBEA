{
 "cells": [
  {
   "cell_type": "markdown",
   "metadata": {
    "id": "pPkhwHI_HkNT"
   },
   "source": [
    "# Resolução da segunda lista de exercícios de Estatística Aplicada\n",
    "\n",
    "Questões resolvidades nesse *Jupyter Notebook*:\n",
    "\n",
    "Questão 1 - Livro-texto Cap. 4: ex. 3 (p. 73)\n",
    "\n",
    "Questão 2 - Livro-texto Cap. 4: ex. 8 (p. 79)\n",
    "\n",
    "Questão 4 - Livro-texto Cap. 4: ex. 34 (p. 99)\n",
    "\n",
    "Questão 5\n",
    "\n",
    "\n",
    "## Instalando e importando as bibliotecas."
   ]
  },
  {
   "cell_type": "code",
   "execution_count": null,
   "metadata": {
    "id": "NskhY4w-30nw"
   },
   "outputs": [],
   "source": [
    "!pip install -q tabula-py\n",
    "import seaborn as sns\n",
    "import pandas as pd\n",
    "import numpy as np\n",
    "from scipy import stats\n",
    "import matplotlib.pyplot as plt\n",
    "import tabula\n",
    "from scipy.stats import chi2_contingency\n",
    "plt.style.use('ggplot')"
   ]
  },
  {
   "cell_type": "markdown",
   "metadata": {
    "id": "65SOw20X4BpL"
   },
   "source": [
    "## QUESTÃO 1\n",
    "\n",
    "Numa pesquisa sobre rotatividade de mão-de-obra, para uma amostra de 40 pessoas foram observadas duas variáveis: número de empregos nos últimos dois anos $(X)$ e salário mais recente, em número de salários mínimos $(Y)$.\n",
    "\n",
    "Extraindo a base de dados do livro."
   ]
  },
  {
   "cell_type": "code",
   "execution_count": null,
   "metadata": {
    "colab": {
     "base_uri": "https://localhost:8080/"
    },
    "id": "d8AORz5j4Air",
    "outputId": "035febca-e418-4716-fc61-3986e3e4bce0"
   },
   "outputs": [
    {
     "name": "stderr",
     "output_type": "stream",
     "text": [
      "Got stderr: Mar 30, 2021 2:49:22 AM org.apache.pdfbox.pdmodel.font.PDType1Font <init>\n",
      "WARNING: Using fallback font LiberationSans for base font Symbol\n",
      "Mar 30, 2021 2:49:22 AM org.apache.pdfbox.pdmodel.font.PDType1Font <init>\n",
      "WARNING: Using fallback font LiberationSans for base font ZapfDingbats\n",
      "Mar 30, 2021 2:49:22 AM org.apache.pdfbox.pdmodel.font.PDType1Font <init>\n",
      "WARNING: Using fallback font LiberationSerif-Italic for NMAONI+Times-Italic\n",
      "Mar 30, 2021 2:49:22 AM org.apache.pdfbox.pdmodel.font.PDType1Font <init>\n",
      "WARNING: Using fallback font LiberationSerif for NMAOKG+Times-Roman\n",
      "Mar 30, 2021 2:49:22 AM org.apache.pdfbox.pdmodel.font.PDType1Font <init>\n",
      "WARNING: Using fallback font LiberationSans for SFNVVT+Helvetica\n",
      "Mar 30, 2021 2:49:23 AM org.apache.pdfbox.pdmodel.font.PDType1Font <init>\n",
      "WARNING: Using fallback font LiberationSerif-Italic for NMAONI+Times-Italic\n",
      "Mar 30, 2021 2:49:23 AM org.apache.pdfbox.pdmodel.font.PDType1Font <init>\n",
      "WARNING: Using fallback font LiberationSerif for NMAOKG+Times-Roman\n",
      "Mar 30, 2021 2:49:23 AM org.apache.pdfbox.pdmodel.font.PDType1Font <init>\n",
      "WARNING: Using fallback font LiberationSans for SFNVVT+Helvetica\n",
      "\n"
     ]
    }
   ],
   "source": [
    "df1 = tabula.read_pdf('_P. A. Morettin, W. de O. Bussab-Estatística Básica-Saraiva (2010).pdf',pages=90, stream=True)"
   ]
  },
  {
   "cell_type": "markdown",
   "metadata": {
    "id": "Z11eeMSvDHVN"
   },
   "source": [
    "Base de dados."
   ]
  },
  {
   "cell_type": "code",
   "execution_count": null,
   "metadata": {
    "colab": {
     "base_uri": "https://localhost:8080/",
     "height": 335
    },
    "id": "Oes36qsh5eER",
    "outputId": "732ab8f3-f6cb-410d-a4ec-0be49d8450e2"
   },
   "outputs": [
    {
     "data": {
      "text/html": [
       "<div>\n",
       "<style scoped>\n",
       "    .dataframe tbody tr th:only-of-type {\n",
       "        vertical-align: middle;\n",
       "    }\n",
       "\n",
       "    .dataframe tbody tr th {\n",
       "        vertical-align: top;\n",
       "    }\n",
       "\n",
       "    .dataframe thead th {\n",
       "        text-align: right;\n",
       "    }\n",
       "</style>\n",
       "<table border=\"1\" class=\"dataframe\">\n",
       "  <thead>\n",
       "    <tr style=\"text-align: right;\">\n",
       "      <th></th>\n",
       "      <th>Indivíduo</th>\n",
       "      <th>X</th>\n",
       "      <th>Y</th>\n",
       "    </tr>\n",
       "  </thead>\n",
       "  <tbody>\n",
       "    <tr>\n",
       "      <th>0</th>\n",
       "      <td>1</td>\n",
       "      <td>1</td>\n",
       "      <td>6</td>\n",
       "    </tr>\n",
       "    <tr>\n",
       "      <th>1</th>\n",
       "      <td>2</td>\n",
       "      <td>3</td>\n",
       "      <td>2</td>\n",
       "    </tr>\n",
       "    <tr>\n",
       "      <th>2</th>\n",
       "      <td>3</td>\n",
       "      <td>2</td>\n",
       "      <td>4</td>\n",
       "    </tr>\n",
       "    <tr>\n",
       "      <th>3</th>\n",
       "      <td>4</td>\n",
       "      <td>3</td>\n",
       "      <td>1</td>\n",
       "    </tr>\n",
       "    <tr>\n",
       "      <th>4</th>\n",
       "      <td>5</td>\n",
       "      <td>2</td>\n",
       "      <td>4</td>\n",
       "    </tr>\n",
       "    <tr>\n",
       "      <th>5</th>\n",
       "      <td>6</td>\n",
       "      <td>2</td>\n",
       "      <td>1</td>\n",
       "    </tr>\n",
       "    <tr>\n",
       "      <th>6</th>\n",
       "      <td>7</td>\n",
       "      <td>3</td>\n",
       "      <td>3</td>\n",
       "    </tr>\n",
       "    <tr>\n",
       "      <th>7</th>\n",
       "      <td>8</td>\n",
       "      <td>1</td>\n",
       "      <td>5</td>\n",
       "    </tr>\n",
       "    <tr>\n",
       "      <th>8</th>\n",
       "      <td>9</td>\n",
       "      <td>2</td>\n",
       "      <td>2</td>\n",
       "    </tr>\n",
       "    <tr>\n",
       "      <th>9</th>\n",
       "      <td>10</td>\n",
       "      <td>3</td>\n",
       "      <td>2</td>\n",
       "    </tr>\n",
       "  </tbody>\n",
       "</table>\n",
       "</div>"
      ],
      "text/plain": [
       "   Indivíduo  X  Y\n",
       "0          1  1  6\n",
       "1          2  3  2\n",
       "2          3  2  4\n",
       "3          4  3  1\n",
       "4          5  2  4\n",
       "5          6  2  1\n",
       "6          7  3  3\n",
       "7          8  1  5\n",
       "8          9  2  2\n",
       "9         10  3  2"
      ]
     },
     "execution_count": 77,
     "metadata": {
      "tags": []
     },
     "output_type": "execute_result"
    }
   ],
   "source": [
    "df1 = df1[0]\n",
    "\n",
    "df2 = df1[['Indivíduo', 'X', 'Y']]\n",
    "df3 = df1[['Indivíduo.1', 'X.1', 'Y.1']]\n",
    "df3 = df3.rename(columns={'Indivíduo.1':'Indivíduo', 'X.1':'X', 'Y.1':'Y'})\n",
    "\n",
    "df1 = df2.append(df3)\n",
    "\n",
    "df1=df1.reset_index().drop('index', axis=1)\n",
    "\n",
    "#primeiras 10 linhas da base de dados\n",
    "df1.head(10)"
   ]
  },
  {
   "cell_type": "markdown",
   "metadata": {
    "id": "Psiwswn7CUNe"
   },
   "source": [
    "Medianas das colunas."
   ]
  },
  {
   "cell_type": "code",
   "execution_count": null,
   "metadata": {
    "colab": {
     "base_uri": "https://localhost:8080/"
    },
    "id": "REt2v6Pa5jk3",
    "outputId": "f667861f-89c1-4caf-dc0f-9393096eae53"
   },
   "outputs": [
    {
     "name": "stdout",
     "output_type": "stream",
     "text": [
      "Mediana da variável X:  2.0\n",
      "Mediana da variável Y:  2.5\n"
     ]
    }
   ],
   "source": [
    "print('Mediana da variável X: ', df1['X'].median())\n",
    "print('Mediana da variável Y: ', df1['Y'].median())\n"
   ]
  },
  {
   "cell_type": "markdown",
   "metadata": {
    "id": "ZXvWzvKoCYTD"
   },
   "source": [
    "Classificando os dados como alto e baixo."
   ]
  },
  {
   "cell_type": "code",
   "execution_count": null,
   "metadata": {
    "id": "cBHmyitG_HUI"
   },
   "outputs": [],
   "source": [
    "#Classificando a coluna X\n",
    "lista1=df1['X'].tolist()\n",
    "lista2=[]\n",
    "for i in lista1:\n",
    "  if i >= df1['X'].median():\n",
    "    i='alto'\n",
    "  else:\n",
    "    i='baixo'\n",
    "  lista2.append(i)\n",
    "\n",
    "#Classificando a coluna Y\n",
    "lista3=df1['Y'].tolist()\n",
    "lista4=[]\n",
    "for i in lista3:\n",
    "  if i >= df1['Y'].median():\n",
    "    i='alto'\n",
    "  else:\n",
    "    i='baixo'\n",
    "  lista4.append(i)\n",
    "\n",
    "#criando as novas colunas\n",
    "df1['Class_X']=lista2\n",
    "df1['Class_Y'] = lista4"
   ]
  },
  {
   "cell_type": "markdown",
   "metadata": {
    "id": "TVlHGg0bNazc"
   },
   "source": [
    "(a) Usando a mediana, classifique os indivíduos em dois níveis, alto e baixo, para cada uma das variáveis, e construa a distribuição de freqüências conjunta das duas classificações."
   ]
  },
  {
   "cell_type": "code",
   "execution_count": null,
   "metadata": {
    "colab": {
     "base_uri": "https://localhost:8080/",
     "height": 162
    },
    "id": "HYdRcV3LDxu3",
    "outputId": "b6907349-d780-4fd3-8458-ed02f1c6f048"
   },
   "outputs": [
    {
     "data": {
      "text/html": [
       "<div>\n",
       "<style scoped>\n",
       "    .dataframe tbody tr th:only-of-type {\n",
       "        vertical-align: middle;\n",
       "    }\n",
       "\n",
       "    .dataframe tbody tr th {\n",
       "        vertical-align: top;\n",
       "    }\n",
       "\n",
       "    .dataframe thead th {\n",
       "        text-align: right;\n",
       "    }\n",
       "</style>\n",
       "<table border=\"1\" class=\"dataframe\">\n",
       "  <thead>\n",
       "    <tr style=\"text-align: right;\">\n",
       "      <th>Class_Y</th>\n",
       "      <th>alto</th>\n",
       "      <th>baixo</th>\n",
       "      <th>All</th>\n",
       "    </tr>\n",
       "    <tr>\n",
       "      <th>Class_X</th>\n",
       "      <th></th>\n",
       "      <th></th>\n",
       "      <th></th>\n",
       "    </tr>\n",
       "  </thead>\n",
       "  <tbody>\n",
       "    <tr>\n",
       "      <th>alto</th>\n",
       "      <td>13</td>\n",
       "      <td>19</td>\n",
       "      <td>32</td>\n",
       "    </tr>\n",
       "    <tr>\n",
       "      <th>baixo</th>\n",
       "      <td>7</td>\n",
       "      <td>1</td>\n",
       "      <td>8</td>\n",
       "    </tr>\n",
       "    <tr>\n",
       "      <th>All</th>\n",
       "      <td>20</td>\n",
       "      <td>20</td>\n",
       "      <td>40</td>\n",
       "    </tr>\n",
       "  </tbody>\n",
       "</table>\n",
       "</div>"
      ],
      "text/plain": [
       "Class_Y  alto  baixo  All\n",
       "Class_X                  \n",
       "alto       13     19   32\n",
       "baixo       7      1    8\n",
       "All        20     20   40"
      ]
     },
     "execution_count": 11,
     "metadata": {
      "tags": []
     },
     "output_type": "execute_result"
    }
   ],
   "source": [
    "tabela = pd.crosstab(df1[\"Class_X\"], df1[\"Class_Y\"], margins=True)\n",
    "tabela"
   ]
  },
  {
   "cell_type": "markdown",
   "metadata": {
    "id": "D8eMSJKmI4H4"
   },
   "source": [
    "Tabela em termos percentuais."
   ]
  },
  {
   "cell_type": "code",
   "execution_count": null,
   "metadata": {
    "colab": {
     "base_uri": "https://localhost:8080/",
     "height": 162
    },
    "id": "92P5pHDgJkFM",
    "outputId": "30c64128-6a4f-40dc-ae7a-310986a40bcb"
   },
   "outputs": [
    {
     "data": {
      "text/html": [
       "<div>\n",
       "<style scoped>\n",
       "    .dataframe tbody tr th:only-of-type {\n",
       "        vertical-align: middle;\n",
       "    }\n",
       "\n",
       "    .dataframe tbody tr th {\n",
       "        vertical-align: top;\n",
       "    }\n",
       "\n",
       "    .dataframe thead th {\n",
       "        text-align: right;\n",
       "    }\n",
       "</style>\n",
       "<table border=\"1\" class=\"dataframe\">\n",
       "  <thead>\n",
       "    <tr style=\"text-align: right;\">\n",
       "      <th>Class_Y</th>\n",
       "      <th>alto</th>\n",
       "      <th>baixo</th>\n",
       "      <th>All</th>\n",
       "    </tr>\n",
       "    <tr>\n",
       "      <th>Class_X</th>\n",
       "      <th></th>\n",
       "      <th></th>\n",
       "      <th></th>\n",
       "    </tr>\n",
       "  </thead>\n",
       "  <tbody>\n",
       "    <tr>\n",
       "      <th>alto</th>\n",
       "      <td>0.325</td>\n",
       "      <td>0.475</td>\n",
       "      <td>0.8</td>\n",
       "    </tr>\n",
       "    <tr>\n",
       "      <th>baixo</th>\n",
       "      <td>0.175</td>\n",
       "      <td>0.025</td>\n",
       "      <td>0.2</td>\n",
       "    </tr>\n",
       "    <tr>\n",
       "      <th>All</th>\n",
       "      <td>0.500</td>\n",
       "      <td>0.500</td>\n",
       "      <td>1.0</td>\n",
       "    </tr>\n",
       "  </tbody>\n",
       "</table>\n",
       "</div>"
      ],
      "text/plain": [
       "Class_Y   alto  baixo  All\n",
       "Class_X                   \n",
       "alto     0.325  0.475  0.8\n",
       "baixo    0.175  0.025  0.2\n",
       "All      0.500  0.500  1.0"
      ]
     },
     "execution_count": 12,
     "metadata": {
      "tags": []
     },
     "output_type": "execute_result"
    }
   ],
   "source": [
    "tabela/tabela['All'][2]"
   ]
  },
  {
   "cell_type": "markdown",
   "metadata": {
    "id": "aESnMCtZNdTN"
   },
   "source": [
    "(b) Qual a porcentagem das pessoas com baixa rotatividade e ganhando pouco?"
   ]
  },
  {
   "cell_type": "code",
   "execution_count": null,
   "metadata": {
    "colab": {
     "base_uri": "https://localhost:8080/"
    },
    "id": "MYzQYy9IK9tI",
    "outputId": "dc289bec-9940-4b4c-a457-e51eb1c183a9"
   },
   "outputs": [
    {
     "name": "stdout",
     "output_type": "stream",
     "text": [
      "A porcentagem é de : 2.5 %\n"
     ]
    }
   ],
   "source": [
    "print('A porcentagem é de :',(tabela['baixo'][1]/tabela['All'][2])*100, '%')"
   ]
  },
  {
   "cell_type": "markdown",
   "metadata": {
    "id": "GqH0MisfOECb"
   },
   "source": [
    "(c) Qual a porcentagem das pessoas que ganham pouco?"
   ]
  },
  {
   "cell_type": "code",
   "execution_count": null,
   "metadata": {
    "colab": {
     "base_uri": "https://localhost:8080/"
    },
    "id": "yOgnPf3RNzL4",
    "outputId": "64699bfc-008b-43ca-b28f-5d0f3e0a41df"
   },
   "outputs": [
    {
     "name": "stdout",
     "output_type": "stream",
     "text": [
      "A porcentagem é de : 50.0 %\n"
     ]
    }
   ],
   "source": [
    "print('A porcentagem é de :',(tabela['baixo']['All']/tabela['All'][2])*100, '%')"
   ]
  },
  {
   "cell_type": "markdown",
   "metadata": {
    "id": "TEwwSEPHOvgq"
   },
   "source": [
    "(d) Entre as pessoas com baixa rotatividade, qual a porcentagem das que ganham pouco?"
   ]
  },
  {
   "cell_type": "code",
   "execution_count": null,
   "metadata": {
    "colab": {
     "base_uri": "https://localhost:8080/"
    },
    "id": "KFjOfR3KOcfh",
    "outputId": "022ac8f6-18a1-4b86-91fb-cabeedc406c2"
   },
   "outputs": [
    {
     "name": "stdout",
     "output_type": "stream",
     "text": [
      "A porcentagem é de : 12.5 %\n"
     ]
    }
   ],
   "source": [
    "print('A porcentagem é de :',(tabela['baixo'][1]/tabela['All'][1])*100, '%')"
   ]
  },
  {
   "cell_type": "markdown",
   "metadata": {
    "id": "VFcb5ouyRVBI"
   },
   "source": [
    "(e) A informação adicional dada em (d) mudou muito a porcentagem observada em (c)? O que isso significa?\n",
    "\n",
    "Resposta : **Sim, a porcentagem caiu muito (de 50% para 12.5%), isso mostra que as pessoas que ganham pouco possuem uma alta rotatividade**."
   ]
  },
  {
   "cell_type": "markdown",
   "metadata": {
    "id": "_mcqZVMDVjyO"
   },
   "source": [
    "## QUESTÃO 2\n",
    "\n",
    "Qual o valor de $\\chi^2$ e de $C$ para os dados do Problema 3? E para o Problema 6? Calcule $T$.\n",
    "\n",
    "Tabela com as informações."
   ]
  },
  {
   "cell_type": "code",
   "execution_count": null,
   "metadata": {
    "colab": {
     "base_uri": "https://localhost:8080/",
     "height": 162
    },
    "id": "WliAa_74VjGM",
    "outputId": "c3dbf5a6-bd54-4c81-b02a-3cf9af83cb19"
   },
   "outputs": [
    {
     "data": {
      "text/html": [
       "<div>\n",
       "<style scoped>\n",
       "    .dataframe tbody tr th:only-of-type {\n",
       "        vertical-align: middle;\n",
       "    }\n",
       "\n",
       "    .dataframe tbody tr th {\n",
       "        vertical-align: top;\n",
       "    }\n",
       "\n",
       "    .dataframe thead th {\n",
       "        text-align: right;\n",
       "    }\n",
       "</style>\n",
       "<table border=\"1\" class=\"dataframe\">\n",
       "  <thead>\n",
       "    <tr style=\"text-align: right;\">\n",
       "      <th>Class_Y</th>\n",
       "      <th>alto</th>\n",
       "      <th>baixo</th>\n",
       "      <th>All</th>\n",
       "    </tr>\n",
       "    <tr>\n",
       "      <th>Class_X</th>\n",
       "      <th></th>\n",
       "      <th></th>\n",
       "      <th></th>\n",
       "    </tr>\n",
       "  </thead>\n",
       "  <tbody>\n",
       "    <tr>\n",
       "      <th>alto</th>\n",
       "      <td>13</td>\n",
       "      <td>19</td>\n",
       "      <td>32</td>\n",
       "    </tr>\n",
       "    <tr>\n",
       "      <th>baixo</th>\n",
       "      <td>7</td>\n",
       "      <td>1</td>\n",
       "      <td>8</td>\n",
       "    </tr>\n",
       "    <tr>\n",
       "      <th>All</th>\n",
       "      <td>20</td>\n",
       "      <td>20</td>\n",
       "      <td>40</td>\n",
       "    </tr>\n",
       "  </tbody>\n",
       "</table>\n",
       "</div>"
      ],
      "text/plain": [
       "Class_Y  alto  baixo  All\n",
       "Class_X                  \n",
       "alto       13     19   32\n",
       "baixo       7      1    8\n",
       "All        20     20   40"
      ]
     },
     "execution_count": 16,
     "metadata": {
      "tags": []
     },
     "output_type": "execute_result"
    }
   ],
   "source": [
    "tabela"
   ]
  },
  {
   "cell_type": "markdown",
   "metadata": {
    "id": "-9eXFqOJY5bS"
   },
   "source": [
    "Qual o valor de $\\chi^2$ e de $C$ para os dados do Problema 3? E para o Problema 6? Calcule $T$."
   ]
  },
  {
   "cell_type": "code",
   "execution_count": null,
   "metadata": {
    "id": "goW5Y9s_VjL3"
   },
   "outputs": [],
   "source": [
    "a = tabela[:2][1:2]['alto'][0]\n",
    "b = tabela[:2][1:2]['baixo'][0]\n",
    "c = tabela[:2][:1]['alto'][0]\n",
    "d = tabela[:2][:1]['baixo'][0]\n",
    "e = tabela[:2][:1]['All'][0]\n",
    "f = tabela[:2][1:2]['All'][0]\n",
    "g = tabela[:2][:1]['All'][0]/2\n",
    "h = tabela[:2][1:2]['All'][0]/2"
   ]
  },
  {
   "cell_type": "markdown",
   "metadata": {
    "id": "E81H3S5MZ5K1"
   },
   "source": [
    "Calculando o  $\\chi^2$:"
   ]
  },
  {
   "cell_type": "code",
   "execution_count": null,
   "metadata": {
    "colab": {
     "base_uri": "https://localhost:8080/"
    },
    "id": "nZxAM5VuVjKF",
    "outputId": "8f6d4684-66c0-413e-b949-420eb4b74730"
   },
   "outputs": [
    {
     "data": {
      "text/plain": [
       "5.625"
      ]
     },
     "execution_count": 18,
     "metadata": {
      "tags": []
     },
     "output_type": "execute_result"
    }
   ],
   "source": [
    "chi = ((b-h)**2)/h + ((a-h)**2)/h + ((d-g)**2)/g + ((c-g)**2)/g\n",
    "chi"
   ]
  },
  {
   "cell_type": "markdown",
   "metadata": {
    "id": "Oy8CwJ_Qh826"
   },
   "source": [
    "também pode ser calculado pela função abaixo:"
   ]
  },
  {
   "cell_type": "code",
   "execution_count": null,
   "metadata": {
    "colab": {
     "base_uri": "https://localhost:8080/"
    },
    "id": "ra-CEV22h8Sd",
    "outputId": "a3af129d-6cc0-4443-9491-d51ba6b86c70"
   },
   "outputs": [
    {
     "data": {
      "text/plain": [
       "5.625"
      ]
     },
     "execution_count": 19,
     "metadata": {
      "tags": []
     },
     "output_type": "execute_result"
    }
   ],
   "source": [
    "chi2_contingency(tabela)[0]"
   ]
  },
  {
   "cell_type": "markdown",
   "metadata": {
    "id": "OlP5Qb1je25m"
   },
   "source": [
    "Calculando o valor de $C$."
   ]
  },
  {
   "cell_type": "code",
   "execution_count": null,
   "metadata": {
    "colab": {
     "base_uri": "https://localhost:8080/"
    },
    "id": "Zx9vgqL1e2KX",
    "outputId": "6e861c27-0e5a-4d71-9610-61f8eebc5601"
   },
   "outputs": [
    {
     "data": {
      "text/plain": [
       "0.3511234415883917"
      ]
     },
     "execution_count": 20,
     "metadata": {
      "tags": []
     },
     "output_type": "execute_result"
    }
   ],
   "source": [
    "c = np.sqrt(chi/(chi+tabela['All'][2]))\n",
    "c"
   ]
  },
  {
   "cell_type": "markdown",
   "metadata": {
    "id": "OMKFKQcnfYEk"
   },
   "source": [
    "Calculando o $T$\n",
    "\n",
    "No cálculo $r$ = $s$  = 2 (categorias alto e baixo)."
   ]
  },
  {
   "cell_type": "code",
   "execution_count": null,
   "metadata": {
    "colab": {
     "base_uri": "https://localhost:8080/"
    },
    "id": "_17j2BU5VjNQ",
    "outputId": "c38fbcf3-5b90-490a-d775-87c3e92eba00"
   },
   "outputs": [
    {
     "data": {
      "text/plain": [
       "0.375"
      ]
     },
     "execution_count": 21,
     "metadata": {
      "tags": []
     },
     "output_type": "execute_result"
    }
   ],
   "source": [
    "r = 2\n",
    "s = 2\n",
    "np.sqrt((chi/tabela['All'][2])/((r-1)*(s-1)))"
   ]
  },
  {
   "cell_type": "markdown",
   "metadata": {
    "id": "Ka5VWvjGjOpT"
   },
   "source": [
    "## QUESTÃO 4\n",
    "\n",
    "Faça o gráfico $q$ × $q$ para os dois conjuntos de dados em $A$ e $B$ a seguir."
   ]
  },
  {
   "cell_type": "code",
   "execution_count": null,
   "metadata": {
    "id": "9KQyrtdZksjG"
   },
   "outputs": [],
   "source": [
    "lista_a = [65, 54, 49, 60, 70, 25, 87, 100, 70, 102, 40, 47]\n",
    "lista_b = [48, 35, 45, 50, 52, 20, 72, 102, 46, 82]"
   ]
  },
  {
   "cell_type": "markdown",
   "metadata": {
    "id": "YSNgBTQoDtGx"
   },
   "source": [
    "Calculando os quantis."
   ]
  },
  {
   "cell_type": "code",
   "execution_count": null,
   "metadata": {
    "id": "SgEwQPxCnmoQ"
   },
   "outputs": [],
   "source": [
    "x1 = np.quantile(lista_a, [0.1, 0.2, 0.3, 0.4, 0.5, 0.6, 0.7, 0.8, 0.9, 1])\n",
    "x2 = np.quantile(lista_b, [0.1, 0.2, 0.3, 0.4, 0.5, 0.6, 0.7, 0.8, 0.9, 1])"
   ]
  },
  {
   "cell_type": "markdown",
   "metadata": {
    "id": "iciD-8u4Dvak"
   },
   "source": [
    "Gerando o gráfico de $Quantis$ x $Quantis$ (*QQplot*)."
   ]
  },
  {
   "cell_type": "code",
   "execution_count": null,
   "metadata": {
    "colab": {
     "base_uri": "https://localhost:8080/",
     "height": 357
    },
    "id": "3umBYOQBm-hr",
    "outputId": "330f535d-1131-46b2-a9ee-2b12fb88aab7"
   },
   "outputs": [
    {
     "data": {
      "image/png": "[encoded data removed]",
      "text/plain": [
       "<Figure size 720x360 with 1 Axes>"
      ]
     },
     "metadata": {
      "tags": []
     },
     "output_type": "display_data"
    }
   ],
   "source": [
    "plt.figure(figsize=(10,5))\n",
    "plt.scatter(x1,x2)\n",
    "plt.title('Gráfico QQplot', size=15)\n",
    "plt.xlabel('Quantis de A', size=15)\n",
    "plt.ylabel('Quantis de B',size=15)\n",
    "plt.show()\n",
    "plt.close()"
   ]
  },
  {
   "cell_type": "markdown",
   "metadata": {
    "id": "cwdxxsjip2GA"
   },
   "source": [
    "## QUESTÃO 5\n",
    "\n",
    "A tabela a seguir reporta o número de linhas telefônicas por mil habitantes em cada estado do Brasil, em 2001.\n",
    "\n",
    "Determine os seus quartis. Construa o Box-plot. Observe se existem alguns pontos discrepantes."
   ]
  },
  {
   "cell_type": "code",
   "execution_count": null,
   "metadata": {
    "id": "Dx506Gb6nAUN"
   },
   "outputs": [],
   "source": [
    "estados = ['Acre','Alagoas','Amapá','Amazonas','Bahia','Ceará','D. Federal',\n",
    "           'E. Santo','Goiás','Maranhão', 'M. Grosso','M. G. do Sul',\n",
    "           'Minas Gerais','Pará','Paraíba','Paraná','Pernambuco','Piauí',\n",
    "           'Rio de Janeiro','R. G. do Norte','R. G. do Sul','Rondônia',\n",
    "           'Roraima','Santa Catarina','São Paulo','Sergipe','Tocantins']\n",
    "\n",
    "linhas = [183.8,125.4,193.3,162,142.3,140.6,456.8,228.7,231.4,86.1,199.6,235.3,\n",
    "          218.6,128,125.4,244.2, 147.8,118.2,347.5,150.1,236.9,214.6,214.1,\n",
    "          257.3,362.8,140.7,113.8]"
   ]
  },
  {
   "cell_type": "markdown",
   "metadata": {
    "id": "gRTbXGFiG1pe"
   },
   "source": [
    "Criando a base de dados."
   ]
  },
  {
   "cell_type": "code",
   "execution_count": null,
   "metadata": {
    "colab": {
     "base_uri": "https://localhost:8080/"
    },
    "id": "tfvdZGgsp4uG",
    "outputId": "cf09ac52-6bf4-4d98-bb9d-6f79f3d2ce1b"
   },
   "outputs": [
    {
     "data": {
      "text/html": [
       "<div>\n",
       "<style scoped>\n",
       "    .dataframe tbody tr th:only-of-type {\n",
       "        vertical-align: middle;\n",
       "    }\n",
       "\n",
       "    .dataframe tbody tr th {\n",
       "        vertical-align: top;\n",
       "    }\n",
       "\n",
       "    .dataframe thead th {\n",
       "        text-align: right;\n",
       "    }\n",
       "</style>\n",
       "<table border=\"1\" class=\"dataframe\">\n",
       "  <thead>\n",
       "    <tr style=\"text-align: right;\">\n",
       "      <th></th>\n",
       "      <th>Estados</th>\n",
       "      <th>linhas</th>\n",
       "    </tr>\n",
       "  </thead>\n",
       "  <tbody>\n",
       "    <tr>\n",
       "      <th>0</th>\n",
       "      <td>Acre</td>\n",
       "      <td>183.8</td>\n",
       "    </tr>\n",
       "    <tr>\n",
       "      <th>1</th>\n",
       "      <td>Alagoas</td>\n",
       "      <td>125.4</td>\n",
       "    </tr>\n",
       "    <tr>\n",
       "      <th>2</th>\n",
       "      <td>Amapá</td>\n",
       "      <td>193.3</td>\n",
       "    </tr>\n",
       "    <tr>\n",
       "      <th>3</th>\n",
       "      <td>Amazonas</td>\n",
       "      <td>162.0</td>\n",
       "    </tr>\n",
       "    <tr>\n",
       "      <th>4</th>\n",
       "      <td>Bahia</td>\n",
       "      <td>142.3</td>\n",
       "    </tr>\n",
       "  </tbody>\n",
       "</table>\n",
       "</div>"
      ],
      "text/plain": [
       "    Estados  linhas\n",
       "0      Acre   183.8\n",
       "1   Alagoas   125.4\n",
       "2     Amapá   193.3\n",
       "3  Amazonas   162.0\n",
       "4     Bahia   142.3"
      ]
     },
     "execution_count": 70,
     "metadata": {
      "tags": []
     },
     "output_type": "execute_result"
    }
   ],
   "source": [
    "df5 = pd.DataFrame(estados, columns=['Estados'])\n",
    "df5['linhas'] = linhas\n",
    "df5.head()"
   ]
  },
  {
   "cell_type": "markdown",
   "metadata": {
    "id": "1vAzjGGOElwq"
   },
   "source": [
    "Calculando os quartis.\n",
    "\n",
    "Os valores de 25%, 50% e 75% são, respectivamente, o primeiro, segundo e terceiro quartis da base de dados."
   ]
  },
  {
   "cell_type": "code",
   "execution_count": null,
   "metadata": {
    "colab": {
     "base_uri": "https://localhost:8080/",
     "height": 76
    },
    "id": "whfn7eIREmQH",
    "outputId": "f1d257b3-cb00-4213-9e27-f6a7592a3eb0"
   },
   "outputs": [
    {
     "data": {
      "text/html": [
       "<div>\n",
       "<style scoped>\n",
       "    .dataframe tbody tr th:only-of-type {\n",
       "        vertical-align: middle;\n",
       "    }\n",
       "\n",
       "    .dataframe tbody tr th {\n",
       "        vertical-align: top;\n",
       "    }\n",
       "\n",
       "    .dataframe thead th {\n",
       "        text-align: right;\n",
       "    }\n",
       "</style>\n",
       "<table border=\"1\" class=\"dataframe\">\n",
       "  <thead>\n",
       "    <tr style=\"text-align: right;\">\n",
       "      <th></th>\n",
       "      <th>25%</th>\n",
       "      <th>50%</th>\n",
       "      <th>75%</th>\n",
       "    </tr>\n",
       "  </thead>\n",
       "  <tbody>\n",
       "    <tr>\n",
       "      <th>linhas</th>\n",
       "      <td>140.65</td>\n",
       "      <td>193.3</td>\n",
       "      <td>233.35</td>\n",
       "    </tr>\n",
       "  </tbody>\n",
       "</table>\n",
       "</div>"
      ],
      "text/plain": [
       "           25%    50%     75%\n",
       "linhas  140.65  193.3  233.35"
      ]
     },
     "execution_count": 85,
     "metadata": {
      "tags": []
     },
     "output_type": "execute_result"
    }
   ],
   "source": [
    "df5.describe().T[['25%','50%','75%']]"
   ]
  },
  {
   "cell_type": "markdown",
   "metadata": {
    "id": "I923Ry0jF9qb"
   },
   "source": [
    "No *Boxplot* dos dados, podemos ver que há um valor discrepante (*outlier*) nessa base de dados."
   ]
  },
  {
   "cell_type": "code",
   "execution_count": null,
   "metadata": {
    "colab": {
     "base_uri": "https://localhost:8080/",
     "height": 358
    },
    "id": "dnj7vRohp40H",
    "outputId": "7ca25392-384c-4da4-9631-90ed9c80c4ac"
   },
   "outputs": [
    {
     "data": {
      "image/png": "[encoded data removed]",
      "text/plain": [
       "<Figure size 720x360 with 1 Axes>"
      ]
     },
     "metadata": {
      "tags": []
     },
     "output_type": "display_data"
    }
   ],
   "source": [
    "plt.figure(figsize=(10,5))\n",
    "sns.boxplot(x='linhas', data=df5)\n",
    "plt.xlabel('Número de linhas telefônicas por mil habitantes', size=15)\n",
    "plt.title('Boxplot da variável de linhas telefônicas', size=15);"
   ]
  }
 ],
 "metadata": {
  "colab": {
   "collapsed_sections": [],
   "name": "Resolução da segunda lista de exercícios.ipynb",
   "provenance": [],
   "toc_visible": true
  },
  "kernelspec": {
   "display_name": "Python 3",
   "language": "python",
   "name": "python3"
  },
  "language_info": {
   "codemirror_mode": {
    "name": "ipython",
    "version": 3
   },
   "file_extension": ".py",
   "mimetype": "text/x-python",
   "name": "python",
   "nbconvert_exporter": "python",
   "pygments_lexer": "ipython3",
   "version": "3.6.8"
  }
 },
 "nbformat": 4,
 "nbformat_minor": 1
}
