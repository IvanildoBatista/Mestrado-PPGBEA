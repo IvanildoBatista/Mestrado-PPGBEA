{
  "nbformat": 4,
  "nbformat_minor": 0,
  "metadata": {
    "colab": {
      "name": "Resolução da terceira lista de exercícios.ipynb",
      "provenance": [],
      "toc_visible": true
    },
    "kernelspec": {
      "name": "python3",
      "display_name": "Python 3"
    },
    "language_info": {
      "name": "python"
    }
  },
  "cells": [
    {
      "cell_type": "markdown",
      "metadata": {
        "id": "vEoB0sfvWbDb"
      },
      "source": [
        "# Resolução da terceira lista de exercícios\n"
      ]
    },
    {
      "cell_type": "markdown",
      "metadata": {
        "id": "EC0MpTJMWgGu"
      },
      "source": [
        "Importação das bibliotecas."
      ]
    },
    {
      "cell_type": "code",
      "metadata": {
        "id": "s9LUoRVPWG_V",
        "colab": {
          "base_uri": "https://localhost:8080/"
        },
        "outputId": "31e7cbf9-00df-4e21-c7e0-8db85bb38ce4"
      },
      "source": [
        "!pip install -q tabula-py\n",
        "import seaborn as sns\n",
        "import pandas as pd\n",
        "import numpy as np\n",
        "from scipy import stats\n",
        "import matplotlib.pyplot as plt\n",
        "import tabula\n",
        "from scipy.stats import chi2_contingency\n",
        "plt.style.use('ggplot')"
      ],
      "execution_count": null,
      "outputs": [
        {
          "output_type": "stream",
          "text": [
            "\u001b[K     |████████████████████████████████| 11.7MB 5.7MB/s \n",
            "\u001b[?25h"
          ],
          "name": "stdout"
        }
      ]
    },
    {
      "cell_type": "markdown",
      "metadata": {
        "id": "MeMAMhvtGIeP"
      },
      "source": [
        "# QUESTÃO 1\n",
        "\n",
        "Duas lâmpadas queimadas foram acidentalmente misturadas com seis lâmpadas boas. Se vamos testando as lâmpadas, uma por uma, até encontrar duas defeituosas, qual é a probabilidade de que a última defeituosa seja encontrada no quarto teste?\n",
        "\n",
        "\n",
        "**Resposta**"
      ]
    },
    {
      "cell_type": "code",
      "metadata": {
        "id": "HQbkLWJYJN5s"
      },
      "source": [
        ""
      ],
      "execution_count": null,
      "outputs": []
    },
    {
      "cell_type": "markdown",
      "metadata": {
        "id": "pXmT_TTnGIhH"
      },
      "source": [
        "# QUESTÃO 2\n",
        "\n",
        "Um empreiteiro apresentou orçamentos separados para a execução da parte elétrica e da parte de encanamento de um edifício. Ele acha que a probabilidade de ganhar a concorrência da parte elétrica é de 1/2. Caso ele ganhe a parte elétrica, a chance de ganhar a parte de encanamento é de 3/4; caso contrário, essa probabilidade é de 1/3. Qual a probabilidade de ele:\n",
        "\n",
        "(a) ganhar os dois contratos?\n",
        "    \n",
        "(b) ganhar apenas um?\n",
        "    \n",
        "(c) não ganhar nada?"
      ]
    },
    {
      "cell_type": "code",
      "metadata": {
        "id": "IoQYo01bJfrE"
      },
      "source": [
        ""
      ],
      "execution_count": null,
      "outputs": []
    },
    {
      "cell_type": "markdown",
      "metadata": {
        "id": "P9FuBdIbGIkf"
      },
      "source": [
        "# QUESTÃO 3\n",
        "\n",
        "Para estudar o comportamento do mercado automobilístico, as marcas foram divididas em três categorias: marca F, marca W, e as demais reunidas como marca X. Um estudo sobre o hábito de mudança de marca mostrou o seguinte quadro de probabilidade:\n",
        "\n",
        "compra do primeiro carro é feita segundo as seguintes probabilidades: marca W com 50%, marca F com 30% e marca X com 20%.\n",
        "\n",
        "(a) Qual a probabilidade de um indivíduo comprar o terceiro carro da marca W?\n",
        "    \n",
        "(b) Se o terceiro carro é da marca W, qual a probabilidade de o primeiro também ter sido W?"
      ]
    },
    {
      "cell_type": "code",
      "metadata": {
        "id": "3ZK9Sn9ZJqHE"
      },
      "source": [
        ""
      ],
      "execution_count": null,
      "outputs": []
    },
    {
      "cell_type": "markdown",
      "metadata": {
        "id": "B2xfKC60GI55"
      },
      "source": [
        "# QUESTÃO 4\n",
        "\n",
        "Um inspetor da seção de controle de qualidade de uma firma examina os artigos de um lote que tem m peças de primeira qualidade e n peças de segunda qualidade. Uma verificação dos $b$ primeiros artigos selecionados ao acaso do lote mostrou que todos eram de segunda qualidade $(b < n$ –$ 1)$. Qual a probabilidade de que entre os dois próximos artigos selecionados, ao acaso, dos restantes, pelo menos um seja de segunda qualidade?"
      ]
    },
    {
      "cell_type": "code",
      "metadata": {
        "id": "GT2spBEJKC2t"
      },
      "source": [
        ""
      ],
      "execution_count": null,
      "outputs": []
    },
    {
      "cell_type": "markdown",
      "metadata": {
        "id": "zOaJIPPdGI9q"
      },
      "source": [
        "# QUESTÃO 5\n",
        "\n",
        "Um sistema é composto de três componentes 1, 2 e 3, com confiabilidade 0.9, 0.8 e 0.7,respectivamente. O componente 1 é indispensável ao funcionamento do sistema; se 2 ou 3 não funcionam, o sistema funciona, mas com um rendimento inferior. A falha simultânea de 2 e 3 implica o não-funcionamento do sistema. Supondo que os componentes funcionem independentemente, calcular a confiabilidade do sistema."
      ]
    },
    {
      "cell_type": "code",
      "metadata": {
        "id": "1TzlnXnfKEaL"
      },
      "source": [
        ""
      ],
      "execution_count": null,
      "outputs": []
    },
    {
      "cell_type": "markdown",
      "metadata": {
        "id": "yU1dYL_AGJBH"
      },
      "source": [
        "# QUESTÃO 6\n",
        "\n",
        "Num mercado, três corretoras $A$, $B$ e $C$ são responsáveis por 20%, 50% e 30% do volume total de contratos negociados, respectivamente. Do volume de cada corretora, 20%, 5% e 2%, respectivamente, são contratos futuros em dólares. Um contrato é escolhido ao acaso e este é futuro em dólares. Qual é a probabilidade de ter sido negociado pela corretora $A$? E pela corretora $C$?"
      ]
    },
    {
      "cell_type": "code",
      "metadata": {
        "id": "NVXjugnvKPWM"
      },
      "source": [
        ""
      ],
      "execution_count": null,
      "outputs": []
    },
    {
      "cell_type": "markdown",
      "metadata": {
        "id": "nwbB-dQGGJdG"
      },
      "source": [
        "# QUESTÃO 7\n",
        "\n",
        "Um inspetor de controle de qualidade pesquisa defeitos em itens produzidos. O inspetor pesquisa as falhas do item numa série de fixações independentes, cada uma com duração fixa. Dado que existe uma falha, seja $p$ a probabilidade de a falha ser detectada durante qualquer fixação (esse modelo é discutido em *“Human Performance in Sampling Inspection,” Human Factors*, 1979, p. 99-105).\n",
        "\n",
        "a. Assumindo que um item tenha uma falha, qual é a probabilidade de ele ser detectado até o final da segunda fixação (depois da detecção de uma falha, as fixações são interrompidas)?\n",
        "\n",
        "b. Forneça uma expressão da probabilidade de que uma falha será detectada até o final da enésima fixação.\n",
        "\n",
        "c. Se, quando uma falha não for detectada em três fixações, o item passar, qual será a probabilidade de que um item com falha passe na inspeção?\n",
        "    \n",
        "d. Suponha que 10\\% de todos os itens contenham uma falha \\[P(item escolhido aleatoriamente apresenta falha) = 0,1]. Com a suposição da parte (c), qual é a probabilidade de um item com falha passar na inspeção (ele passará automaticamente se não tiver falha, mas também pode passar se tiver)?\n",
        "    \n",
        "e. Dado que um item passou na inspeção (nenhuma falha em três fixações), qual é a probabilidade de ele possuir uma falha? Calcule para $p$ = 0.5.\n"
      ]
    },
    {
      "cell_type": "code",
      "metadata": {
        "id": "VpbuhAZkK3fH"
      },
      "source": [
        ""
      ],
      "execution_count": null,
      "outputs": []
    },
    {
      "cell_type": "markdown",
      "metadata": {
        "id": "ucmyoOAAGJgo"
      },
      "source": [
        "# QUESTÃO 8\n",
        "\n",
        "Um sistema consiste em dois componentes. A probabilidade de o segundo componente funcionar de forma satisfatória durante a vida útil do projeto é 0.9, a probabilidade de pelo menos um dos dois componentes funcionar é de 0.96 e a de ambos os componentes funcionarem é de 0.75. Dado que o primeiro componente funciona de forma satisfatória por toda a vida útil do projeto, qual é a probabilidade de o segundo também funcionar?"
      ]
    },
    {
      "cell_type": "markdown",
      "metadata": {
        "id": "AgznwNCa7sbD"
      },
      "source": [
        "Vamos definir o valores dados:\n",
        "\n",
        "P(segundo sistema funcionar) = 0.9\n",
        "\n",
        "P(ambos funcionarem) = 0.75 (essa é a probabilidade da interseção)\n",
        "\n",
        "P(Pelo menos um funcionar) = 0.96 (essa a probabilidade da união)\n",
        "\n",
        "Quero resolver o problema : Qual a probabilidade do segundo sistema funcionar dado que o primeiro sistema funcionou ?\n"
      ]
    },
    {
      "cell_type": "code",
      "metadata": {
        "id": "p9yjTBV8K39j"
      },
      "source": [
        "P_A_inter_B = 0.75\n",
        "P_A_uni_B = 0.96\n",
        "P_B = 0.9"
      ],
      "execution_count": null,
      "outputs": []
    },
    {
      "cell_type": "markdown",
      "metadata": {
        "id": "jHR0oLBS8uuB"
      },
      "source": [
        "É necessário encontrar a probabilidade do primeiro sistema funciona.\n",
        "\n",
        "Pela forma $P(A \\cup B) = P(A) + P(B) - P(A \\cap B)$, faremos então\n",
        "\n",
        "$0.96 = P(1 sistema) + 0.9 - 0.75$\n",
        "\n",
        "Isolando $P(1 sistema)$ temos:\n",
        "\n",
        "$P(1 sistema) = 0.96 - 0.9 + 0.75 = 0.81$"
      ]
    },
    {
      "cell_type": "code",
      "metadata": {
        "colab": {
          "base_uri": "https://localhost:8080/"
        },
        "id": "KCCJVUv78t_8",
        "outputId": "0858ec16-463b-4105-ebf2-a1304232ae83"
      },
      "source": [
        "P_A = P_A_uni_B - P_B + P_A_inter_B\n",
        "P_A"
      ],
      "execution_count": null,
      "outputs": [
        {
          "output_type": "execute_result",
          "data": {
            "text/plain": [
              "0.8099999999999999"
            ]
          },
          "metadata": {
            "tags": []
          },
          "execution_count": 2
        }
      ]
    },
    {
      "cell_type": "markdown",
      "metadata": {
        "id": "TypTCQdt-MzW"
      },
      "source": [
        "Agora temos que calcular a probabilidade condicional:\n",
        "\n",
        "$P(2 sistema| 1 sistema) = \\frac{P(2 sistema \\cap 1 sistema)}{P(1 sistema)}$,\n",
        "\n",
        "Ora $P(2 sistema \\cap 1 sistema)$ = $P(1 sistema \\cap 2 sistema)$ = 0.75,\n",
        "\n",
        "Logo teremos que \n",
        "\n",
        "$P(2 sistema| 1 sistema) = \\frac{0.75}{0.81}$ = 0.926"
      ]
    },
    {
      "cell_type": "code",
      "metadata": {
        "colab": {
          "base_uri": "https://localhost:8080/"
        },
        "id": "mtWAb5t1_Fvu",
        "outputId": "a45ba192-fbf9-492f-bd18-bdc465eaabdd"
      },
      "source": [
        "P_B_inter_A = P_A_inter_B\n",
        "\n",
        "P_B_cond_A = P_B_inter_A/P_A\n",
        "\n",
        "round(P_B_cond_A,3)"
      ],
      "execution_count": null,
      "outputs": [
        {
          "output_type": "execute_result",
          "data": {
            "text/plain": [
              "0.926"
            ]
          },
          "metadata": {
            "tags": []
          },
          "execution_count": 6
        }
      ]
    },
    {
      "cell_type": "markdown",
      "metadata": {
        "id": "AhjJJ4wdGJli"
      },
      "source": [
        "# QUESTÃO 9\n",
        "\n",
        "Um sistema de computadores usa senhas que são exatamente sete caracteres e cada caracter é uma das 26 letras (a-z) ou 10 inteiros (0-9). Você mantém uma senha para esse sistema de computadores. Seja $A$ o subconjunto de senhas qu começam com a vogal $(a,e,i,o,u)$ e seja $B$ o subconjunto de senhas que terminam com um número par $(0,2,4,6$ ou $8)$.\n",
        "\n",
        "(a) Suponha que um invasor selecione uma senha aoa acaso. Qual a probabilidade de sua senha ser relacionada?\n",
        "\n",
        "(b) Suponha que um invasor saiba que sua senha está no evento $A$ e selecione uma senha ao acaso para esse subconjunto. Qual a probabilidade de sua senha ser selecionada?\n",
        "\n",
        "(c) Suponha que um invasor saiba que sua senha está em $A$ e em $B$ e selecione uma senha ao acaso para esse subconjunto. Qual a probabilidade de sua senha ser selecionada ?\n",
        "\n",
        "Definindo os dados:"
      ]
    },
    {
      "cell_type": "code",
      "metadata": {
        "id": "_KbxExtkrKtm"
      },
      "source": [
        "#número de letra do alfabeto (de A a Z)\n",
        "a = 26\n",
        "#quantidade de números inteiros (de 0 a 9)\n",
        "i = 10\n",
        "#número de caracteres de uma senha\n",
        "c = 7"
      ],
      "execution_count": 2,
      "outputs": []
    },
    {
      "cell_type": "markdown",
      "metadata": {
        "id": "vR2qltSKrtSt"
      },
      "source": [
        "**letra a)**\n",
        "\n",
        "Necessário encontrar o número de possibilidades que é o número de caracteres totais elevado ao número de caracteres da senha.\n",
        "\n",
        "$(Nº total)^{Nº senha}$"
      ]
    },
    {
      "cell_type": "code",
      "metadata": {
        "colab": {
          "base_uri": "https://localhost:8080/"
        },
        "id": "924WqYE2rKvz",
        "outputId": "01de6d1a-924a-4d9c-df8c-7a9688b5881f"
      },
      "source": [
        "(a+i)**c"
      ],
      "execution_count": 3,
      "outputs": [
        {
          "output_type": "execute_result",
          "data": {
            "text/plain": [
              "78364164096"
            ]
          },
          "metadata": {
            "tags": []
          },
          "execution_count": 3
        }
      ]
    },
    {
      "cell_type": "markdown",
      "metadata": {
        "id": "CXQCmtpAtIKw"
      },
      "source": [
        "Calculamos a probabilidade da senha ser selecionada pelo invador."
      ]
    },
    {
      "cell_type": "code",
      "metadata": {
        "colab": {
          "base_uri": "https://localhost:8080/"
        },
        "id": "afPNB_vvrKyE",
        "outputId": "b0c4e334-e3f3-4009-a9c0-6fb8b6ec069a"
      },
      "source": [
        "1/((a+i)**c)"
      ],
      "execution_count": 4,
      "outputs": [
        {
          "output_type": "execute_result",
          "data": {
            "text/plain": [
              "1.2760934944382872e-11"
            ]
          },
          "metadata": {
            "tags": []
          },
          "execution_count": 4
        }
      ]
    },
    {
      "cell_type": "markdown",
      "metadata": {
        "id": "n1c4Ircqts8L"
      },
      "source": [
        "**letra b)**\n",
        "\n",
        "A probabilidade de uma senha do conjunto A ser seleciona é o número de elemento do conjunto A (5 elementos) sobre o número de elementos totais (36 elementos), logo:"
      ]
    },
    {
      "cell_type": "code",
      "metadata": {
        "colab": {
          "base_uri": "https://localhost:8080/"
        },
        "id": "_3P1ofrArK1j",
        "outputId": "2394b707-6393-4ce7-bf58-f4074af7a6fd"
      },
      "source": [
        "b = 5\n",
        "letra_b = b/(a+i)\n",
        "print('A probabilidade da senha ser escolhida do conjunto A é',\n",
        "      round(letra_b*100,3), '%')"
      ],
      "execution_count": 15,
      "outputs": [
        {
          "output_type": "stream",
          "text": [
            "A probabilidade da senha ser escolhida do conjunto A é 13.889 %\n"
          ],
          "name": "stdout"
        }
      ]
    },
    {
      "cell_type": "markdown",
      "metadata": {
        "id": "E27tAQ5rvOvT"
      },
      "source": [
        "**letra c)**\n",
        "\n",
        "A probabilidade do invasor selecionar a senha ao acaso dos dois conjuntos é o produto das probabilidades de escolher a senha em cada um desses conjunto, visto que é de $A$ **E** de $B$, pois entende-se que a senha estará na interceção desses subconjuntos. O valor da probabilidade do subconjunto $A$ já foi encontrado no item anterior, agora temos que calcular para o subconjunto $B$.\n",
        "\n",
        "O subconjunto $B$ também possui o mesmo número de elemento do subconjunto $A$, logo o cálculo da probabilidade será o número de elementos dividido pelo número total de elementos, logo:\n"
      ]
    },
    {
      "cell_type": "code",
      "metadata": {
        "colab": {
          "base_uri": "https://localhost:8080/"
        },
        "id": "DQ5wkJ0FvO6y",
        "outputId": "6538d56d-d12e-4405-e653-ebca2b01fdfa"
      },
      "source": [
        "b2 = 5\n",
        "letra_c = b2/(a+i)\n",
        "print('A probabilidade da senha ser escolhida do conjunto B é',\n",
        "      round(letra_c*100,3), '%')"
      ],
      "execution_count": 16,
      "outputs": [
        {
          "output_type": "stream",
          "text": [
            "A probabilidade da senha ser escolhida do conjunto B é 13.889 %\n"
          ],
          "name": "stdout"
        }
      ]
    },
    {
      "cell_type": "markdown",
      "metadata": {
        "id": "JmJmUKhyxX74"
      },
      "source": [
        "Obtivemos os mesmo valores, logo multiplicaremos esses valores e vamos obter o valor de obter a senha desses dois subconjuntos."
      ]
    },
    {
      "cell_type": "code",
      "metadata": {
        "colab": {
          "base_uri": "https://localhost:8080/"
        },
        "id": "myqnAtSzxE3p",
        "outputId": "d7a55b14-194d-4223-ef92-2c78f07e7130"
      },
      "source": [
        "print('A probabilidade de obter a senha dos subconjuntos A e B é:',\n",
        "      round(letra_b*letra_c*100,3),'%')"
      ],
      "execution_count": 22,
      "outputs": [
        {
          "output_type": "stream",
          "text": [
            "A probabilidade de obter a senha dos subconjuntos A e B é: 1.929 %\n"
          ],
          "name": "stdout"
        }
      ]
    },
    {
      "cell_type": "markdown",
      "metadata": {
        "id": "6DSEE1SkGJo6"
      },
      "source": [
        "# QUESTÃO 10\n",
        "\n",
        "Um artigo no British Medical Journal \\[\"Comparison of treatment of renal calculi by operative surgery,percutaneous nephrolithotomy, and extracorporeal shock wave lithotripsy\" (1986, Vol. 82, pp. 879-892)] fornece a seguinte discussão sobre as taxas de sucesso em remoções de pedras nos rins.\n",
        "A cirurgia aberta teve uma taxa de sucesso de 78% (273/350) e um método mais recente, a nefrolitotomia percutânea (NP), teve uma taxa desucesso de 83% (289/350). \n",
        "\n",
        "Esse novo método pareceu melhor, mas os resultados mudaram quando o diâmetro da pedra foi considerado. \n",
        "\n",
        "Para pedras com diâmetros inferiores a dois centímetros, 93% (81/87) dos casos de cirurgia aberta obtiveram sucesso em comparação com apenas 83% (234/270) dos casos de NP. Para pedras maiores ou iguais a dois centímetros, as taxas de sucesso foram 73% (192/263) e 69% (55/80) para cirurgia aberta e NP, respectivamente. Cirurgia aberta é melhor para ambos os tamanhos de pedra, mas tem menos sucesso no total. Em 1951, E.H. Simpson apontou essa aparente contradição (conhecida como **paradoxo de Simpson**), porém o risco ainda hoje persiste. **Explique como a cirurgia aberta pode ser melhor para ambos ostamanhos de cálculos, mas pior no total.**\n"
      ]
    }
  ]
}